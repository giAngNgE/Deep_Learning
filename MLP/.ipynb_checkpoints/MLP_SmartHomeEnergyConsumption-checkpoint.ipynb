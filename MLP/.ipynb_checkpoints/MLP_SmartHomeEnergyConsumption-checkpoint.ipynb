{
 "cells": [
  {
   "cell_type": "markdown",
   "metadata": {
    "id": "SZwQc8iIYzhL"
   },
   "source": [
    "## Part A:  Deep Learning for Tabular Data"
   ]
  },
  {
   "cell_type": "markdown",
   "metadata": {
    "id": "epCN92jil8-T"
   },
   "source": [
    "*Markdown formats: All tables and images will be aligned to the left. (Do not remove this code)*"
   ]
  },
  {
   "cell_type": "code",
   "execution_count": 1,
   "metadata": {
    "colab": {
     "base_uri": "https://localhost:8080/",
     "height": 17
    },
    "executionInfo": {
     "elapsed": 10,
     "status": "ok",
     "timestamp": 1631280938516,
     "user": {
      "displayName": "Xuan Giang",
      "photoUrl": "https://lh3.googleusercontent.com/a-/AOh14Ggd54OGSnsTVH4f55B9i-PtSGR536j-IdXxTeMFoQ=s64",
      "userId": "06583316585577749974"
     },
     "user_tz": -600
    },
    "id": "8dCcx2fPl8PO",
    "outputId": "39710f86-ba3b-4417-93f5-eac6ac5fa0fd"
   },
   "outputs": [
    {
     "data": {
      "text/html": [
       "<style>table {float:left}</style>\n",
       "<style>img {float:left}</style>\n"
      ],
      "text/plain": [
       "<IPython.core.display.HTML object>"
      ]
     },
     "metadata": {},
     "output_type": "display_data"
    }
   ],
   "source": [
    "%%html\n",
    "<style>table {float:left}</style>\n",
    "<style>img {float:left}</style>\n"
   ]
  },
  {
   "cell_type": "code",
   "execution_count": 2,
   "metadata": {
    "colab": {
     "base_uri": "https://localhost:8080/"
    },
    "executionInfo": {
     "elapsed": 76209,
     "status": "ok",
     "timestamp": 1631281014718,
     "user": {
      "displayName": "Xuan Giang",
      "photoUrl": "https://lh3.googleusercontent.com/a-/AOh14Ggd54OGSnsTVH4f55B9i-PtSGR536j-IdXxTeMFoQ=s64",
      "userId": "06583316585577749974"
     },
     "user_tz": -600
    },
    "id": "76b4YKGVC66i",
    "outputId": "c331f853-91d4-4cb9-b0eb-2bd292cf29e5"
   },
   "outputs": [
    {
     "name": "stdout",
     "output_type": "stream",
     "text": [
      "Mounted at /content/drive\n"
     ]
    }
   ],
   "source": [
    "from google.colab import drive\n",
    "drive.mount('/content/drive')"
   ]
  },
  {
   "cell_type": "markdown",
   "metadata": {
    "id": "u1mFlc8QmIjL"
   },
   "source": [
    "<hr style=\"height:1px;border:none;color:#333;background-color:#333;\" />\n",
    "\n",
    "**Task Description**\n",
    "\n",
    "1. Organise the project structure, get data and run the notebook.\n",
    "2. Experiment with various MLP architectures and size of its layers.\n",
    "3. Experiment with dropout layers and their dropout rates.\n",
    "4. Experiment with layer activation functions (e.g. sigmoid, tanh, elu or relu).\n",
    "5. Experiment with different optimisers (e.g. SGD, RMSprop, Adam, Adamax, Nadam)\n",
    "6. Report and tabulate your experimental results.\n",
    "\n",
    "<hr style=\"height:1px;border:none;color:#333;background-color:#333;\" />"
   ]
  },
  {
   "cell_type": "markdown",
   "metadata": {
    "id": "QoBihZe6_Acd"
   },
   "source": [
    "## Table of Content\n",
    "   \n",
    "1. [Notebook Preparation](#cell_Preparation)\n",
    "\n",
    "2. [Data Preprocessing](#cell_Preprocessing)\n",
    "\n",
    "3. [Model Construction](#cell_model)\n",
    "\n",
    "4. [Model Execution](#cell_execution)\n",
    " \n",
    "5. [Experiments Report](#cell_report)\n",
    "\n"
   ]
  },
  {
   "cell_type": "markdown",
   "metadata": {
    "id": "ufoVVdqtYzhU"
   },
   "source": [
    "<a id = \"cell_Preparation\"></a>\n",
    "## 1. Notebook Preparation"
   ]
  },
  {
   "cell_type": "markdown",
   "metadata": {
    "id": "njDKx1_JYzhU"
   },
   "source": [
    "*Load all required Python libraries (e.g. pandas, tensorflow, keras).*"
   ]
  },
  {
   "cell_type": "code",
   "execution_count": 3,
   "metadata": {
    "executionInfo": {
     "elapsed": 2696,
     "status": "ok",
     "timestamp": 1631281017405,
     "user": {
      "displayName": "Xuan Giang",
      "photoUrl": "https://lh3.googleusercontent.com/a-/AOh14Ggd54OGSnsTVH4f55B9i-PtSGR536j-IdXxTeMFoQ=s64",
      "userId": "06583316585577749974"
     },
     "user_tz": -600
    },
    "id": "BQo3ipOhYzhV"
   },
   "outputs": [],
   "source": [
    "from __future__ import print_function\n",
    "import os\n",
    "import math\n",
    "import datetime\n",
    "import numpy as np\n",
    "import pandas as pd\n",
    "import matplotlib.pyplot as plt\n",
    "import xgboost as xgb\n",
    "import tensorflow as tf\n",
    "tf.config.list_physical_devices('GPU')\n",
    "import time"
   ]
  },
  {
   "cell_type": "code",
   "execution_count": 4,
   "metadata": {
    "executionInfo": {
     "elapsed": 1143,
     "status": "ok",
     "timestamp": 1631281018543,
     "user": {
      "displayName": "Xuan Giang",
      "photoUrl": "https://lh3.googleusercontent.com/a-/AOh14Ggd54OGSnsTVH4f55B9i-PtSGR536j-IdXxTeMFoQ=s64",
      "userId": "06583316585577749974"
     },
     "user_tz": -600
    },
    "id": "cT2KY5ai5BKZ"
   },
   "outputs": [],
   "source": [
    "from tensorflow.keras.models import Sequential\n",
    "from tensorflow.keras import metrics\n",
    "from tensorflow.keras import regularizers\n",
    "from tensorflow.keras.optimizers import Nadam, RMSprop\n",
    "from tensorflow.keras.layers import Dense, Dropout, Flatten, Reshape, Activation\n",
    "from tensorflow.keras.optimizers import Adam\n",
    "from keras.layers.convolutional import Conv1D \n",
    "from keras.layers import LeakyReLU\n",
    "from tensorflow.python.keras.layers import LayerNormalization\n",
    "from tensorflow.keras.layers import BatchNormalization\n",
    "from tensorflow.keras.layers import Conv2D\n",
    "from keras.layers import MaxPooling2D\n",
    "from keras.layers import UpSampling2D"
   ]
  },
  {
   "cell_type": "code",
   "execution_count": 5,
   "metadata": {
    "executionInfo": {
     "elapsed": 10,
     "status": "ok",
     "timestamp": 1631281018545,
     "user": {
      "displayName": "Xuan Giang",
      "photoUrl": "https://lh3.googleusercontent.com/a-/AOh14Ggd54OGSnsTVH4f55B9i-PtSGR536j-IdXxTeMFoQ=s64",
      "userId": "06583316585577749974"
     },
     "user_tz": -600
    },
    "id": "adFwSvRsQMOG"
   },
   "outputs": [],
   "source": [
    "from sklearn.model_selection import cross_val_score\n",
    "from sklearn.model_selection import KFold\n",
    "from sklearn.model_selection import train_test_split\n",
    "from sklearn.preprocessing import StandardScaler, MinMaxScaler\n",
    "from sklearn.preprocessing import OneHotEncoder\n",
    "from sklearn.impute import SimpleImputer\n",
    "from sklearn.pipeline import Pipeline\n",
    "from sklearn.metrics import mean_absolute_error"
   ]
  },
  {
   "cell_type": "code",
   "execution_count": 6,
   "metadata": {
    "executionInfo": {
     "elapsed": 9,
     "status": "ok",
     "timestamp": 1631281018545,
     "user": {
      "displayName": "Xuan Giang",
      "photoUrl": "https://lh3.googleusercontent.com/a-/AOh14Ggd54OGSnsTVH4f55B9i-PtSGR536j-IdXxTeMFoQ=s64",
      "userId": "06583316585577749974"
     },
     "user_tz": -600
    },
    "id": "m7lqsmUDnRBu"
   },
   "outputs": [],
   "source": [
    "pd.set_option('display.max_columns', None)\n",
    "pd.set_option('display.max_rows', None)"
   ]
  },
  {
   "cell_type": "markdown",
   "metadata": {
    "id": "gzai7FPE-yji"
   },
   "source": [
    "**Define the function to plot the training history, i.e. the Mean Absolute Error and Loss (Mean Squared Error), which were both defined at the time of model compilation**"
   ]
  },
  {
   "cell_type": "code",
   "execution_count": 7,
   "metadata": {
    "executionInfo": {
     "elapsed": 9,
     "status": "ok",
     "timestamp": 1631281018546,
     "user": {
      "displayName": "Xuan Giang",
      "photoUrl": "https://lh3.googleusercontent.com/a-/AOh14Ggd54OGSnsTVH4f55B9i-PtSGR536j-IdXxTeMFoQ=s64",
      "userId": "06583316585577749974"
     },
     "user_tz": -600
    },
    "id": "jNTWoYxy-5ap"
   },
   "outputs": [],
   "source": [
    "def plot_hist(h, xsize=6, ysize=5):\n",
    "    # Prepare plotting\n",
    "    fig_size = plt.rcParams[\"figure.figsize\"]\n",
    "    plt.rcParams[\"figure.figsize\"] = [xsize, ysize]\n",
    "    \n",
    "    # Get training and validation keys\n",
    "    ks = list(h.keys())\n",
    "    n2 = math.floor(len(ks)/2)\n",
    "    train_keys = ks[0:n2]\n",
    "    valid_keys = ks[n2:2*n2]\n",
    "    \n",
    "    # summarize history for different metrics\n",
    "    for i in range(n2):\n",
    "        plt.plot(h[train_keys[i]])\n",
    "        plt.plot(h[valid_keys[i]])\n",
    "        plt.title('Training vs Validation '+train_keys[i])\n",
    "        plt.ylabel(train_keys[i])\n",
    "        plt.xlabel('Epoch')\n",
    "        plt.legend(['Train', 'Validation'], loc='upper left')\n",
    "        plt.draw()\n",
    "        plt.show()\n",
    "    \n",
    "    return"
   ]
  },
  {
   "cell_type": "markdown",
   "metadata": {
    "id": "FawtRNbHwot4"
   },
   "source": [
    "**Specify Keras callbacks which allow additional functionality while the model is being fitted. Using ***EarlyStopping*** to stops fitting when no improvement.**\n"
   ]
  },
  {
   "cell_type": "code",
   "execution_count": 1,
   "metadata": {
    "executionInfo": {
     "elapsed": 8,
     "status": "ok",
     "timestamp": 1631281018547,
     "user": {
      "displayName": "Xuan Giang",
      "photoUrl": "https://lh3.googleusercontent.com/a-/AOh14Ggd54OGSnsTVH4f55B9i-PtSGR536j-IdXxTeMFoQ=s64",
      "userId": "06583316585577749974"
     },
     "user_tz": -600
    },
    "id": "ovzqCALlwoJw"
   },
   "outputs": [],
   "source": [
    "from tensorflow.keras.callbacks import EarlyStopping\n",
    "\n",
    "keras_callbacks = [\n",
    "    EarlyStopping(monitor='val_mean_absolute_error', patience=20, verbose=0)\n",
    "]"
   ]
  },
  {
   "cell_type": "markdown",
   "metadata": {
    "id": "nqPl5gh_YzhX"
   },
   "source": [
    "<a id = \"cell_Preprocessing\"></a>\n",
    "## 2. Data Preprocessing"
   ]
  },
  {
   "cell_type": "markdown",
   "metadata": {
    "id": "vKlthRTNYzhY"
   },
   "source": [
    "*Load data from file and carry out necessary preprocessing.*"
   ]
  },
  {
   "cell_type": "code",
   "execution_count": 9,
   "metadata": {
    "colab": {
     "base_uri": "https://localhost:8080/",
     "height": 427
    },
    "executionInfo": {
     "elapsed": 881,
     "status": "ok",
     "timestamp": 1631281019996,
     "user": {
      "displayName": "Xuan Giang",
      "photoUrl": "https://lh3.googleusercontent.com/a-/AOh14Ggd54OGSnsTVH4f55B9i-PtSGR536j-IdXxTeMFoQ=s64",
      "userId": "06583316585577749974"
     },
     "user_tz": -600
    },
    "id": "xUrPcLEzYzhY",
    "outputId": "6b00cd39-efc1-4da7-d5e4-0b66f87adb58"
   },
   "outputs": [
    {
     "name": "stdout",
     "output_type": "stream",
     "text": [
      "Number of records read:  539964\n"
     ]
    },
    {
     "data": {
      "text/html": [
       "<div>\n",
       "<style scoped>\n",
       "    .dataframe tbody tr th:only-of-type {\n",
       "        vertical-align: middle;\n",
       "    }\n",
       "\n",
       "    .dataframe tbody tr th {\n",
       "        vertical-align: top;\n",
       "    }\n",
       "\n",
       "    .dataframe thead th {\n",
       "        text-align: right;\n",
       "    }\n",
       "</style>\n",
       "<table border=\"1\" class=\"dataframe\">\n",
       "  <thead>\n",
       "    <tr style=\"text-align: right;\">\n",
       "      <th></th>\n",
       "      <th>gen</th>\n",
       "      <th>Dishwasher</th>\n",
       "      <th>Furnace1</th>\n",
       "      <th>Furnace2</th>\n",
       "      <th>Home_office</th>\n",
       "      <th>Fridge</th>\n",
       "      <th>Wine_cellar</th>\n",
       "      <th>Garage_door</th>\n",
       "      <th>Kitchen12</th>\n",
       "      <th>Kitchen14</th>\n",
       "      <th>Kitchen38</th>\n",
       "      <th>Barn</th>\n",
       "      <th>Well</th>\n",
       "      <th>Microwave</th>\n",
       "      <th>Living_room</th>\n",
       "      <th>Solar</th>\n",
       "      <th>temperature</th>\n",
       "      <th>Total_Consuption</th>\n",
       "    </tr>\n",
       "    <tr>\n",
       "      <th>ID</th>\n",
       "      <th></th>\n",
       "      <th></th>\n",
       "      <th></th>\n",
       "      <th></th>\n",
       "      <th></th>\n",
       "      <th></th>\n",
       "      <th></th>\n",
       "      <th></th>\n",
       "      <th></th>\n",
       "      <th></th>\n",
       "      <th></th>\n",
       "      <th></th>\n",
       "      <th></th>\n",
       "      <th></th>\n",
       "      <th></th>\n",
       "      <th></th>\n",
       "      <th></th>\n",
       "      <th></th>\n",
       "    </tr>\n",
       "  </thead>\n",
       "  <tbody>\n",
       "    <tr>\n",
       "      <th>1</th>\n",
       "      <td>0.003483</td>\n",
       "      <td>0.000033</td>\n",
       "      <td>0.020700</td>\n",
       "      <td>0.061917</td>\n",
       "      <td>0.442633</td>\n",
       "      <td>0.124150</td>\n",
       "      <td>0.006983</td>\n",
       "      <td>0.013083</td>\n",
       "      <td>0.000417</td>\n",
       "      <td>0.000150</td>\n",
       "      <td>0.000000</td>\n",
       "      <td>0.031350</td>\n",
       "      <td>0.001017</td>\n",
       "      <td>0.004067</td>\n",
       "      <td>0.001517</td>\n",
       "      <td>0.003483</td>\n",
       "      <td>36.14</td>\n",
       "      <td>0.932833</td>\n",
       "    </tr>\n",
       "    <tr>\n",
       "      <th>2</th>\n",
       "      <td>0.003467</td>\n",
       "      <td>0.000000</td>\n",
       "      <td>0.020717</td>\n",
       "      <td>0.063817</td>\n",
       "      <td>0.444067</td>\n",
       "      <td>0.124000</td>\n",
       "      <td>0.006983</td>\n",
       "      <td>0.013117</td>\n",
       "      <td>0.000417</td>\n",
       "      <td>0.000150</td>\n",
       "      <td>0.000000</td>\n",
       "      <td>0.031500</td>\n",
       "      <td>0.001017</td>\n",
       "      <td>0.004067</td>\n",
       "      <td>0.001650</td>\n",
       "      <td>0.003467</td>\n",
       "      <td>36.14</td>\n",
       "      <td>0.934333</td>\n",
       "    </tr>\n",
       "    <tr>\n",
       "      <th>3</th>\n",
       "      <td>0.003467</td>\n",
       "      <td>0.000017</td>\n",
       "      <td>0.020700</td>\n",
       "      <td>0.062317</td>\n",
       "      <td>0.446067</td>\n",
       "      <td>0.123533</td>\n",
       "      <td>0.006983</td>\n",
       "      <td>0.013083</td>\n",
       "      <td>0.000433</td>\n",
       "      <td>0.000167</td>\n",
       "      <td>0.000017</td>\n",
       "      <td>0.031517</td>\n",
       "      <td>0.001000</td>\n",
       "      <td>0.004067</td>\n",
       "      <td>0.001650</td>\n",
       "      <td>0.003467</td>\n",
       "      <td>36.14</td>\n",
       "      <td>0.931817</td>\n",
       "    </tr>\n",
       "    <tr>\n",
       "      <th>4</th>\n",
       "      <td>0.003483</td>\n",
       "      <td>0.000017</td>\n",
       "      <td>0.106900</td>\n",
       "      <td>0.068517</td>\n",
       "      <td>0.446583</td>\n",
       "      <td>0.123133</td>\n",
       "      <td>0.006983</td>\n",
       "      <td>0.013000</td>\n",
       "      <td>0.000433</td>\n",
       "      <td>0.000217</td>\n",
       "      <td>0.000000</td>\n",
       "      <td>0.031500</td>\n",
       "      <td>0.001017</td>\n",
       "      <td>0.004067</td>\n",
       "      <td>0.001617</td>\n",
       "      <td>0.003483</td>\n",
       "      <td>36.14</td>\n",
       "      <td>1.022050</td>\n",
       "    </tr>\n",
       "    <tr>\n",
       "      <th>5</th>\n",
       "      <td>0.003467</td>\n",
       "      <td>0.000133</td>\n",
       "      <td>0.236933</td>\n",
       "      <td>0.063983</td>\n",
       "      <td>0.446533</td>\n",
       "      <td>0.122850</td>\n",
       "      <td>0.006850</td>\n",
       "      <td>0.012783</td>\n",
       "      <td>0.000450</td>\n",
       "      <td>0.000333</td>\n",
       "      <td>0.000000</td>\n",
       "      <td>0.031500</td>\n",
       "      <td>0.001017</td>\n",
       "      <td>0.004067</td>\n",
       "      <td>0.001583</td>\n",
       "      <td>0.003467</td>\n",
       "      <td>36.14</td>\n",
       "      <td>1.139400</td>\n",
       "    </tr>\n",
       "    <tr>\n",
       "      <th>6</th>\n",
       "      <td>0.003433</td>\n",
       "      <td>0.000283</td>\n",
       "      <td>0.503250</td>\n",
       "      <td>0.063667</td>\n",
       "      <td>0.447033</td>\n",
       "      <td>0.122300</td>\n",
       "      <td>0.006717</td>\n",
       "      <td>0.012433</td>\n",
       "      <td>0.000483</td>\n",
       "      <td>0.000567</td>\n",
       "      <td>0.000000</td>\n",
       "      <td>0.031450</td>\n",
       "      <td>0.001017</td>\n",
       "      <td>0.004067</td>\n",
       "      <td>0.001583</td>\n",
       "      <td>0.003433</td>\n",
       "      <td>36.14</td>\n",
       "      <td>1.391867</td>\n",
       "    </tr>\n",
       "    <tr>\n",
       "      <th>7</th>\n",
       "      <td>0.003450</td>\n",
       "      <td>0.000283</td>\n",
       "      <td>0.499400</td>\n",
       "      <td>0.063717</td>\n",
       "      <td>0.443267</td>\n",
       "      <td>0.122050</td>\n",
       "      <td>0.006733</td>\n",
       "      <td>0.012417</td>\n",
       "      <td>0.000517</td>\n",
       "      <td>0.000550</td>\n",
       "      <td>0.000000</td>\n",
       "      <td>0.031550</td>\n",
       "      <td>0.001033</td>\n",
       "      <td>0.004117</td>\n",
       "      <td>0.001533</td>\n",
       "      <td>0.003450</td>\n",
       "      <td>36.14</td>\n",
       "      <td>1.366217</td>\n",
       "    </tr>\n",
       "    <tr>\n",
       "      <th>8</th>\n",
       "      <td>0.003417</td>\n",
       "      <td>0.000250</td>\n",
       "      <td>0.477867</td>\n",
       "      <td>0.178633</td>\n",
       "      <td>0.444283</td>\n",
       "      <td>0.121800</td>\n",
       "      <td>0.006783</td>\n",
       "      <td>0.012550</td>\n",
       "      <td>0.000483</td>\n",
       "      <td>0.000450</td>\n",
       "      <td>0.000000</td>\n",
       "      <td>0.031733</td>\n",
       "      <td>0.001033</td>\n",
       "      <td>0.004200</td>\n",
       "      <td>0.001550</td>\n",
       "      <td>0.003417</td>\n",
       "      <td>36.14</td>\n",
       "      <td>1.431900</td>\n",
       "    </tr>\n",
       "    <tr>\n",
       "      <th>9</th>\n",
       "      <td>0.003417</td>\n",
       "      <td>0.000183</td>\n",
       "      <td>0.447650</td>\n",
       "      <td>0.365700</td>\n",
       "      <td>0.441467</td>\n",
       "      <td>0.121617</td>\n",
       "      <td>0.006950</td>\n",
       "      <td>0.012717</td>\n",
       "      <td>0.000467</td>\n",
       "      <td>0.000300</td>\n",
       "      <td>0.000017</td>\n",
       "      <td>0.031767</td>\n",
       "      <td>0.001017</td>\n",
       "      <td>0.004200</td>\n",
       "      <td>0.001567</td>\n",
       "      <td>0.003417</td>\n",
       "      <td>36.14</td>\n",
       "      <td>1.627300</td>\n",
       "    </tr>\n",
       "    <tr>\n",
       "      <th>10</th>\n",
       "      <td>0.003417</td>\n",
       "      <td>0.000017</td>\n",
       "      <td>0.171550</td>\n",
       "      <td>0.682500</td>\n",
       "      <td>0.438733</td>\n",
       "      <td>0.121633</td>\n",
       "      <td>0.007233</td>\n",
       "      <td>0.013350</td>\n",
       "      <td>0.000367</td>\n",
       "      <td>0.000050</td>\n",
       "      <td>0.000000</td>\n",
       "      <td>0.031667</td>\n",
       "      <td>0.001017</td>\n",
       "      <td>0.004200</td>\n",
       "      <td>0.001617</td>\n",
       "      <td>0.003417</td>\n",
       "      <td>36.14</td>\n",
       "      <td>1.735383</td>\n",
       "    </tr>\n",
       "  </tbody>\n",
       "</table>\n",
       "</div>"
      ],
      "text/plain": [
       "         gen  Dishwasher  Furnace1  Furnace2  Home_office    Fridge  \\\n",
       "ID                                                                    \n",
       "1   0.003483    0.000033  0.020700  0.061917     0.442633  0.124150   \n",
       "2   0.003467    0.000000  0.020717  0.063817     0.444067  0.124000   \n",
       "3   0.003467    0.000017  0.020700  0.062317     0.446067  0.123533   \n",
       "4   0.003483    0.000017  0.106900  0.068517     0.446583  0.123133   \n",
       "5   0.003467    0.000133  0.236933  0.063983     0.446533  0.122850   \n",
       "6   0.003433    0.000283  0.503250  0.063667     0.447033  0.122300   \n",
       "7   0.003450    0.000283  0.499400  0.063717     0.443267  0.122050   \n",
       "8   0.003417    0.000250  0.477867  0.178633     0.444283  0.121800   \n",
       "9   0.003417    0.000183  0.447650  0.365700     0.441467  0.121617   \n",
       "10  0.003417    0.000017  0.171550  0.682500     0.438733  0.121633   \n",
       "\n",
       "    Wine_cellar  Garage_door  Kitchen12  Kitchen14  Kitchen38      Barn  \\\n",
       "ID                                                                        \n",
       "1      0.006983     0.013083   0.000417   0.000150   0.000000  0.031350   \n",
       "2      0.006983     0.013117   0.000417   0.000150   0.000000  0.031500   \n",
       "3      0.006983     0.013083   0.000433   0.000167   0.000017  0.031517   \n",
       "4      0.006983     0.013000   0.000433   0.000217   0.000000  0.031500   \n",
       "5      0.006850     0.012783   0.000450   0.000333   0.000000  0.031500   \n",
       "6      0.006717     0.012433   0.000483   0.000567   0.000000  0.031450   \n",
       "7      0.006733     0.012417   0.000517   0.000550   0.000000  0.031550   \n",
       "8      0.006783     0.012550   0.000483   0.000450   0.000000  0.031733   \n",
       "9      0.006950     0.012717   0.000467   0.000300   0.000017  0.031767   \n",
       "10     0.007233     0.013350   0.000367   0.000050   0.000000  0.031667   \n",
       "\n",
       "        Well  Microwave  Living_room     Solar  temperature  Total_Consuption  \n",
       "ID                                                                             \n",
       "1   0.001017   0.004067     0.001517  0.003483        36.14          0.932833  \n",
       "2   0.001017   0.004067     0.001650  0.003467        36.14          0.934333  \n",
       "3   0.001000   0.004067     0.001650  0.003467        36.14          0.931817  \n",
       "4   0.001017   0.004067     0.001617  0.003483        36.14          1.022050  \n",
       "5   0.001017   0.004067     0.001583  0.003467        36.14          1.139400  \n",
       "6   0.001017   0.004067     0.001583  0.003433        36.14          1.391867  \n",
       "7   0.001033   0.004117     0.001533  0.003450        36.14          1.366217  \n",
       "8   0.001033   0.004200     0.001550  0.003417        36.14          1.431900  \n",
       "9   0.001017   0.004200     0.001567  0.003417        36.14          1.627300  \n",
       "10  0.001017   0.004200     0.001617  0.003417        36.14          1.735383  "
      ]
     },
     "execution_count": 9,
     "metadata": {},
     "output_type": "execute_result"
    }
   ],
   "source": [
    "data_PartA = pd.read_csv('/content/drive/MyDrive/MIS780/A2/MIS780A2-DataSets/PartA-SmartHomeEnergyConsumption.csv')      \n",
    "data_PartA.set_axis(['gen', 'Dishwasher', 'Furnace1', 'Furnace2', 'Home_office', 'Fridge', 'Wine_cellar', 'Garage_door', 'Kitchen12',\n",
    "               'Kitchen14', 'Kitchen38', 'Barn', 'Well', 'Microwave', 'Living_room', 'Solar', 'temperature', 'Total_Consuption'], axis = 1, inplace = True)  \n",
    "data_PartA.index.name = 'ID'\n",
    "print('Number of records read: ', data_PartA.size)\n",
    "data_PartA.index = data_PartA.index + 1\n",
    "data_PartA.head(10)"
   ]
  },
  {
   "cell_type": "code",
   "execution_count": 10,
   "metadata": {
    "colab": {
     "base_uri": "https://localhost:8080/"
    },
    "executionInfo": {
     "elapsed": 21,
     "status": "ok",
     "timestamp": 1631281019996,
     "user": {
      "displayName": "Xuan Giang",
      "photoUrl": "https://lh3.googleusercontent.com/a-/AOh14Ggd54OGSnsTVH4f55B9i-PtSGR536j-IdXxTeMFoQ=s64",
      "userId": "06583316585577749974"
     },
     "user_tz": -600
    },
    "id": "GicywgV5PGg9",
    "outputId": "5634fc49-af6f-4357-9886-7855840777b3"
   },
   "outputs": [
    {
     "name": "stdout",
     "output_type": "stream",
     "text": [
      "<class 'pandas.core.frame.DataFrame'>\n",
      "RangeIndex: 29998 entries, 1 to 29998\n",
      "Data columns (total 18 columns):\n",
      " #   Column            Non-Null Count  Dtype  \n",
      "---  ------            --------------  -----  \n",
      " 0   gen               29998 non-null  float64\n",
      " 1   Dishwasher        29998 non-null  float64\n",
      " 2   Furnace1          29998 non-null  float64\n",
      " 3   Furnace2          29998 non-null  float64\n",
      " 4   Home_office       29998 non-null  float64\n",
      " 5   Fridge            29998 non-null  float64\n",
      " 6   Wine_cellar       29998 non-null  float64\n",
      " 7   Garage_door       29998 non-null  float64\n",
      " 8   Kitchen12         29998 non-null  float64\n",
      " 9   Kitchen14         29998 non-null  float64\n",
      " 10  Kitchen38         29998 non-null  float64\n",
      " 11  Barn              29998 non-null  float64\n",
      " 12  Well              29998 non-null  float64\n",
      " 13  Microwave         29998 non-null  float64\n",
      " 14  Living_room       29998 non-null  float64\n",
      " 15  Solar             29998 non-null  float64\n",
      " 16  temperature       29998 non-null  float64\n",
      " 17  Total_Consuption  29998 non-null  float64\n",
      "dtypes: float64(18)\n",
      "memory usage: 4.1 MB\n"
     ]
    }
   ],
   "source": [
    "#Observe the data type of columns\n",
    "data_PartA.info()"
   ]
  },
  {
   "cell_type": "code",
   "execution_count": 11,
   "metadata": {
    "colab": {
     "base_uri": "https://localhost:8080/"
    },
    "executionInfo": {
     "elapsed": 18,
     "status": "ok",
     "timestamp": 1631281019997,
     "user": {
      "displayName": "Xuan Giang",
      "photoUrl": "https://lh3.googleusercontent.com/a-/AOh14Ggd54OGSnsTVH4f55B9i-PtSGR536j-IdXxTeMFoQ=s64",
      "userId": "06583316585577749974"
     },
     "user_tz": -600
    },
    "id": "-aFVJBcfPPDe",
    "outputId": "98c3a521-215e-46f8-9d0a-e71ecf2d1266"
   },
   "outputs": [
    {
     "data": {
      "text/plain": [
       "gen                 0\n",
       "Dishwasher          0\n",
       "Furnace1            0\n",
       "Furnace2            0\n",
       "Home_office         0\n",
       "Fridge              0\n",
       "Wine_cellar         0\n",
       "Garage_door         0\n",
       "Kitchen12           0\n",
       "Kitchen14           0\n",
       "Kitchen38           0\n",
       "Barn                0\n",
       "Well                0\n",
       "Microwave           0\n",
       "Living_room         0\n",
       "Solar               0\n",
       "temperature         0\n",
       "Total_Consuption    0\n",
       "dtype: int64"
      ]
     },
     "execution_count": 11,
     "metadata": {},
     "output_type": "execute_result"
    }
   ],
   "source": [
    "# Identification of missing values\n",
    "missing_PartA = data_PartA.isnull().sum()\n",
    "missing_PartA"
   ]
  },
  {
   "cell_type": "code",
   "execution_count": 12,
   "metadata": {
    "colab": {
     "base_uri": "https://localhost:8080/",
     "height": 317
    },
    "executionInfo": {
     "elapsed": 14,
     "status": "ok",
     "timestamp": 1631281019997,
     "user": {
      "displayName": "Xuan Giang",
      "photoUrl": "https://lh3.googleusercontent.com/a-/AOh14Ggd54OGSnsTVH4f55B9i-PtSGR536j-IdXxTeMFoQ=s64",
      "userId": "06583316585577749974"
     },
     "user_tz": -600
    },
    "id": "rwkg9dvxPm8a",
    "outputId": "6e02f41a-f170-4918-8d8a-8e7df5765bc3"
   },
   "outputs": [
    {
     "data": {
      "text/html": [
       "<div>\n",
       "<style scoped>\n",
       "    .dataframe tbody tr th:only-of-type {\n",
       "        vertical-align: middle;\n",
       "    }\n",
       "\n",
       "    .dataframe tbody tr th {\n",
       "        vertical-align: top;\n",
       "    }\n",
       "\n",
       "    .dataframe thead th {\n",
       "        text-align: right;\n",
       "    }\n",
       "</style>\n",
       "<table border=\"1\" class=\"dataframe\">\n",
       "  <thead>\n",
       "    <tr style=\"text-align: right;\">\n",
       "      <th></th>\n",
       "      <th>gen</th>\n",
       "      <th>Dishwasher</th>\n",
       "      <th>Furnace1</th>\n",
       "      <th>Furnace2</th>\n",
       "      <th>Home_office</th>\n",
       "      <th>Fridge</th>\n",
       "      <th>Wine_cellar</th>\n",
       "      <th>Garage_door</th>\n",
       "      <th>Kitchen12</th>\n",
       "      <th>Kitchen14</th>\n",
       "      <th>Kitchen38</th>\n",
       "      <th>Barn</th>\n",
       "      <th>Well</th>\n",
       "      <th>Microwave</th>\n",
       "      <th>Living_room</th>\n",
       "      <th>Solar</th>\n",
       "      <th>temperature</th>\n",
       "      <th>Total_Consuption</th>\n",
       "    </tr>\n",
       "  </thead>\n",
       "  <tbody>\n",
       "    <tr>\n",
       "      <th>count</th>\n",
       "      <td>29998.000000</td>\n",
       "      <td>29998.000000</td>\n",
       "      <td>29998.000000</td>\n",
       "      <td>29998.000000</td>\n",
       "      <td>29998.000000</td>\n",
       "      <td>29998.000000</td>\n",
       "      <td>29998.000000</td>\n",
       "      <td>29998.000000</td>\n",
       "      <td>29998.000000</td>\n",
       "      <td>29998.000000</td>\n",
       "      <td>29998.000000</td>\n",
       "      <td>29998.000000</td>\n",
       "      <td>29998.000000</td>\n",
       "      <td>29998.000000</td>\n",
       "      <td>29998.000000</td>\n",
       "      <td>29998.000000</td>\n",
       "      <td>29998.000000</td>\n",
       "      <td>29998.000000</td>\n",
       "    </tr>\n",
       "    <tr>\n",
       "      <th>mean</th>\n",
       "      <td>0.056453</td>\n",
       "      <td>0.038770</td>\n",
       "      <td>0.232167</td>\n",
       "      <td>0.240812</td>\n",
       "      <td>0.101068</td>\n",
       "      <td>0.056384</td>\n",
       "      <td>0.018790</td>\n",
       "      <td>0.013682</td>\n",
       "      <td>0.001403</td>\n",
       "      <td>0.008986</td>\n",
       "      <td>0.000010</td>\n",
       "      <td>0.065703</td>\n",
       "      <td>0.017443</td>\n",
       "      <td>0.009423</td>\n",
       "      <td>0.048360</td>\n",
       "      <td>0.056453</td>\n",
       "      <td>27.108708</td>\n",
       "      <td>1.079720</td>\n",
       "    </tr>\n",
       "    <tr>\n",
       "      <th>std</th>\n",
       "      <td>0.115127</td>\n",
       "      <td>0.212522</td>\n",
       "      <td>0.221758</td>\n",
       "      <td>0.252538</td>\n",
       "      <td>0.115567</td>\n",
       "      <td>0.072355</td>\n",
       "      <td>0.034726</td>\n",
       "      <td>0.009739</td>\n",
       "      <td>0.019662</td>\n",
       "      <td>0.084576</td>\n",
       "      <td>0.000010</td>\n",
       "      <td>0.150328</td>\n",
       "      <td>0.145153</td>\n",
       "      <td>0.080788</td>\n",
       "      <td>0.108222</td>\n",
       "      <td>0.115127</td>\n",
       "      <td>9.414269</td>\n",
       "      <td>0.685901</td>\n",
       "    </tr>\n",
       "    <tr>\n",
       "      <th>min</th>\n",
       "      <td>0.000000</td>\n",
       "      <td>0.000000</td>\n",
       "      <td>0.002433</td>\n",
       "      <td>0.002017</td>\n",
       "      <td>0.002467</td>\n",
       "      <td>0.000133</td>\n",
       "      <td>0.000217</td>\n",
       "      <td>0.000467</td>\n",
       "      <td>0.000017</td>\n",
       "      <td>0.000000</td>\n",
       "      <td>0.000000</td>\n",
       "      <td>0.000000</td>\n",
       "      <td>0.000000</td>\n",
       "      <td>0.000000</td>\n",
       "      <td>0.000000</td>\n",
       "      <td>0.000000</td>\n",
       "      <td>4.910000</td>\n",
       "      <td>0.000033</td>\n",
       "    </tr>\n",
       "    <tr>\n",
       "      <th>25%</th>\n",
       "      <td>0.003067</td>\n",
       "      <td>0.000017</td>\n",
       "      <td>0.021617</td>\n",
       "      <td>0.064600</td>\n",
       "      <td>0.042067</td>\n",
       "      <td>0.005000</td>\n",
       "      <td>0.006800</td>\n",
       "      <td>0.012450</td>\n",
       "      <td>0.000433</td>\n",
       "      <td>0.000050</td>\n",
       "      <td>0.000000</td>\n",
       "      <td>0.029033</td>\n",
       "      <td>0.001000</td>\n",
       "      <td>0.004000</td>\n",
       "      <td>0.001500</td>\n",
       "      <td>0.003067</td>\n",
       "      <td>20.260000</td>\n",
       "      <td>0.598583</td>\n",
       "    </tr>\n",
       "    <tr>\n",
       "      <th>50%</th>\n",
       "      <td>0.003350</td>\n",
       "      <td>0.000067</td>\n",
       "      <td>0.102017</td>\n",
       "      <td>0.070733</td>\n",
       "      <td>0.049433</td>\n",
       "      <td>0.005333</td>\n",
       "      <td>0.007100</td>\n",
       "      <td>0.012817</td>\n",
       "      <td>0.000633</td>\n",
       "      <td>0.000133</td>\n",
       "      <td>0.000017</td>\n",
       "      <td>0.030117</td>\n",
       "      <td>0.001000</td>\n",
       "      <td>0.004083</td>\n",
       "      <td>0.001600</td>\n",
       "      <td>0.003350</td>\n",
       "      <td>27.540000</td>\n",
       "      <td>0.956958</td>\n",
       "    </tr>\n",
       "    <tr>\n",
       "      <th>75%</th>\n",
       "      <td>0.032375</td>\n",
       "      <td>0.000233</td>\n",
       "      <td>0.479917</td>\n",
       "      <td>0.567029</td>\n",
       "      <td>0.108700</td>\n",
       "      <td>0.121400</td>\n",
       "      <td>0.007400</td>\n",
       "      <td>0.013050</td>\n",
       "      <td>0.000733</td>\n",
       "      <td>0.000300</td>\n",
       "      <td>0.000017</td>\n",
       "      <td>0.031650</td>\n",
       "      <td>0.001017</td>\n",
       "      <td>0.004200</td>\n",
       "      <td>0.001700</td>\n",
       "      <td>0.032375</td>\n",
       "      <td>34.690000</td>\n",
       "      <td>1.434775</td>\n",
       "    </tr>\n",
       "    <tr>\n",
       "      <th>max</th>\n",
       "      <td>0.554950</td>\n",
       "      <td>1.378650</td>\n",
       "      <td>1.915517</td>\n",
       "      <td>0.775417</td>\n",
       "      <td>0.913317</td>\n",
       "      <td>0.851267</td>\n",
       "      <td>0.229633</td>\n",
       "      <td>0.341417</td>\n",
       "      <td>0.906283</td>\n",
       "      <td>1.612117</td>\n",
       "      <td>0.000067</td>\n",
       "      <td>6.327833</td>\n",
       "      <td>1.614650</td>\n",
       "      <td>1.871750</td>\n",
       "      <td>0.348700</td>\n",
       "      <td>0.554950</td>\n",
       "      <td>55.880000</td>\n",
       "      <td>7.378917</td>\n",
       "    </tr>\n",
       "  </tbody>\n",
       "</table>\n",
       "</div>"
      ],
      "text/plain": [
       "                gen    Dishwasher      Furnace1      Furnace2   Home_office  \\\n",
       "count  29998.000000  29998.000000  29998.000000  29998.000000  29998.000000   \n",
       "mean       0.056453      0.038770      0.232167      0.240812      0.101068   \n",
       "std        0.115127      0.212522      0.221758      0.252538      0.115567   \n",
       "min        0.000000      0.000000      0.002433      0.002017      0.002467   \n",
       "25%        0.003067      0.000017      0.021617      0.064600      0.042067   \n",
       "50%        0.003350      0.000067      0.102017      0.070733      0.049433   \n",
       "75%        0.032375      0.000233      0.479917      0.567029      0.108700   \n",
       "max        0.554950      1.378650      1.915517      0.775417      0.913317   \n",
       "\n",
       "             Fridge   Wine_cellar   Garage_door     Kitchen12     Kitchen14  \\\n",
       "count  29998.000000  29998.000000  29998.000000  29998.000000  29998.000000   \n",
       "mean       0.056384      0.018790      0.013682      0.001403      0.008986   \n",
       "std        0.072355      0.034726      0.009739      0.019662      0.084576   \n",
       "min        0.000133      0.000217      0.000467      0.000017      0.000000   \n",
       "25%        0.005000      0.006800      0.012450      0.000433      0.000050   \n",
       "50%        0.005333      0.007100      0.012817      0.000633      0.000133   \n",
       "75%        0.121400      0.007400      0.013050      0.000733      0.000300   \n",
       "max        0.851267      0.229633      0.341417      0.906283      1.612117   \n",
       "\n",
       "          Kitchen38          Barn          Well     Microwave   Living_room  \\\n",
       "count  29998.000000  29998.000000  29998.000000  29998.000000  29998.000000   \n",
       "mean       0.000010      0.065703      0.017443      0.009423      0.048360   \n",
       "std        0.000010      0.150328      0.145153      0.080788      0.108222   \n",
       "min        0.000000      0.000000      0.000000      0.000000      0.000000   \n",
       "25%        0.000000      0.029033      0.001000      0.004000      0.001500   \n",
       "50%        0.000017      0.030117      0.001000      0.004083      0.001600   \n",
       "75%        0.000017      0.031650      0.001017      0.004200      0.001700   \n",
       "max        0.000067      6.327833      1.614650      1.871750      0.348700   \n",
       "\n",
       "              Solar   temperature  Total_Consuption  \n",
       "count  29998.000000  29998.000000      29998.000000  \n",
       "mean       0.056453     27.108708          1.079720  \n",
       "std        0.115127      9.414269          0.685901  \n",
       "min        0.000000      4.910000          0.000033  \n",
       "25%        0.003067     20.260000          0.598583  \n",
       "50%        0.003350     27.540000          0.956958  \n",
       "75%        0.032375     34.690000          1.434775  \n",
       "max        0.554950     55.880000          7.378917  "
      ]
     },
     "execution_count": 12,
     "metadata": {},
     "output_type": "execute_result"
    }
   ],
   "source": [
    "#Data Description\n",
    "data_PartA.describe()"
   ]
  },
  {
   "cell_type": "markdown",
   "metadata": {
    "id": "afzjwf-AYzha"
   },
   "source": [
    "*Split data for training and validation (e.g. 0.7/0.3).*"
   ]
  },
  {
   "cell_type": "code",
   "execution_count": 13,
   "metadata": {
    "executionInfo": {
     "elapsed": 14,
     "status": "ok",
     "timestamp": 1631281019998,
     "user": {
      "displayName": "Xuan Giang",
      "photoUrl": "https://lh3.googleusercontent.com/a-/AOh14Ggd54OGSnsTVH4f55B9i-PtSGR536j-IdXxTeMFoQ=s64",
      "userId": "06583316585577749974"
     },
     "user_tz": -600
    },
    "id": "E0YyJJTorQIV"
   },
   "outputs": [],
   "source": [
    "train_size, valid_size, test_size = (0.7, 0.3, 0.0)\n",
    "PartA_train, PartA_valid = train_test_split(data_PartA, test_size = valid_size, random_state=2020)"
   ]
  },
  {
   "cell_type": "markdown",
   "metadata": {
    "id": "cwqISTyaywZe"
   },
   "source": [
    "**Set label column for the dataset**"
   ]
  },
  {
   "cell_type": "code",
   "execution_count": 14,
   "metadata": {
    "executionInfo": {
     "elapsed": 14,
     "status": "ok",
     "timestamp": 1631281019999,
     "user": {
      "displayName": "Xuan Giang",
      "photoUrl": "https://lh3.googleusercontent.com/a-/AOh14Ggd54OGSnsTVH4f55B9i-PtSGR536j-IdXxTeMFoQ=s64",
      "userId": "06583316585577749974"
     },
     "user_tz": -600
    },
    "id": "Mh0WE8GMyolr"
   },
   "outputs": [],
   "source": [
    "#Set name of label column\n",
    "label_col = 'Total_Consuption'"
   ]
  },
  {
   "cell_type": "code",
   "execution_count": 15,
   "metadata": {
    "colab": {
     "base_uri": "https://localhost:8080/"
    },
    "executionInfo": {
     "elapsed": 14,
     "status": "ok",
     "timestamp": 1631281019999,
     "user": {
      "displayName": "Xuan Giang",
      "photoUrl": "https://lh3.googleusercontent.com/a-/AOh14Ggd54OGSnsTVH4f55B9i-PtSGR536j-IdXxTeMFoQ=s64",
      "userId": "06583316585577749974"
     },
     "user_tz": -600
    },
    "id": "xoAVakX9UCIa",
    "outputId": "e2148409-cdce-4c37-ab47-5d4f3b4a7d74"
   },
   "outputs": [
    {
     "name": "stdout",
     "output_type": "stream",
     "text": [
      "Size of training set:  20998\n",
      "Size of validation set:  9000\n"
     ]
    }
   ],
   "source": [
    "#Prepare data to build model\n",
    "PartA_y_train = PartA_train[[label_col]]\n",
    "PartA_x_train = PartA_train.drop(label_col, axis=1)\n",
    "PartA_y_valid = PartA_valid[[label_col]]\n",
    "PartA_x_valid = PartA_valid.drop(label_col, axis=1)\n",
    "\n",
    "print('Size of training set: ', len(PartA_x_train))\n",
    "print('Size of validation set: ', len(PartA_x_valid))"
   ]
  },
  {
   "cell_type": "code",
   "execution_count": 16,
   "metadata": {
    "colab": {
     "base_uri": "https://localhost:8080/",
     "height": 410
    },
    "executionInfo": {
     "elapsed": 866,
     "status": "ok",
     "timestamp": 1631281020854,
     "user": {
      "displayName": "Xuan Giang",
      "photoUrl": "https://lh3.googleusercontent.com/a-/AOh14Ggd54OGSnsTVH4f55B9i-PtSGR536j-IdXxTeMFoQ=s64",
      "userId": "06583316585577749974"
     },
     "user_tz": -600
    },
    "id": "lEexRS3dUbB2",
    "outputId": "2ee885e9-69aa-43c3-a665-d24e699c9979"
   },
   "outputs": [
    {
     "data": {
      "text/html": [
       "<div>\n",
       "<style scoped>\n",
       "    .dataframe tbody tr th:only-of-type {\n",
       "        vertical-align: middle;\n",
       "    }\n",
       "\n",
       "    .dataframe tbody tr th {\n",
       "        vertical-align: top;\n",
       "    }\n",
       "\n",
       "    .dataframe thead th {\n",
       "        text-align: right;\n",
       "    }\n",
       "</style>\n",
       "<table border=\"1\" class=\"dataframe\">\n",
       "  <thead>\n",
       "    <tr style=\"text-align: right;\">\n",
       "      <th></th>\n",
       "      <th>gen</th>\n",
       "      <th>Dishwasher</th>\n",
       "      <th>Furnace1</th>\n",
       "      <th>Furnace2</th>\n",
       "      <th>Home_office</th>\n",
       "      <th>Fridge</th>\n",
       "      <th>Wine_cellar</th>\n",
       "      <th>Garage_door</th>\n",
       "      <th>Kitchen12</th>\n",
       "      <th>Kitchen14</th>\n",
       "      <th>Kitchen38</th>\n",
       "      <th>Barn</th>\n",
       "      <th>Well</th>\n",
       "      <th>Microwave</th>\n",
       "      <th>Living_room</th>\n",
       "      <th>Solar</th>\n",
       "      <th>temperature</th>\n",
       "    </tr>\n",
       "    <tr>\n",
       "      <th>ID</th>\n",
       "      <th></th>\n",
       "      <th></th>\n",
       "      <th></th>\n",
       "      <th></th>\n",
       "      <th></th>\n",
       "      <th></th>\n",
       "      <th></th>\n",
       "      <th></th>\n",
       "      <th></th>\n",
       "      <th></th>\n",
       "      <th></th>\n",
       "      <th></th>\n",
       "      <th></th>\n",
       "      <th></th>\n",
       "      <th></th>\n",
       "      <th></th>\n",
       "      <th></th>\n",
       "    </tr>\n",
       "  </thead>\n",
       "  <tbody>\n",
       "    <tr>\n",
       "      <th>14265</th>\n",
       "      <td>0.003367</td>\n",
       "      <td>0.115167</td>\n",
       "      <td>0.019917</td>\n",
       "      <td>0.063250</td>\n",
       "      <td>0.474850</td>\n",
       "      <td>0.033100</td>\n",
       "      <td>0.010800</td>\n",
       "      <td>0.012700</td>\n",
       "      <td>0.000667</td>\n",
       "      <td>0.000300</td>\n",
       "      <td>0.000017</td>\n",
       "      <td>0.119833</td>\n",
       "      <td>0.001133</td>\n",
       "      <td>0.007167</td>\n",
       "      <td>0.001650</td>\n",
       "      <td>0.003367</td>\n",
       "      <td>30.76</td>\n",
       "    </tr>\n",
       "    <tr>\n",
       "      <th>14538</th>\n",
       "      <td>0.003400</td>\n",
       "      <td>0.000067</td>\n",
       "      <td>0.482567</td>\n",
       "      <td>0.063867</td>\n",
       "      <td>0.042517</td>\n",
       "      <td>0.118817</td>\n",
       "      <td>0.006500</td>\n",
       "      <td>0.012383</td>\n",
       "      <td>0.000467</td>\n",
       "      <td>0.000200</td>\n",
       "      <td>0.000000</td>\n",
       "      <td>0.035417</td>\n",
       "      <td>0.001017</td>\n",
       "      <td>0.004000</td>\n",
       "      <td>0.001550</td>\n",
       "      <td>0.003400</td>\n",
       "      <td>29.19</td>\n",
       "    </tr>\n",
       "    <tr>\n",
       "      <th>17236</th>\n",
       "      <td>0.003700</td>\n",
       "      <td>0.000017</td>\n",
       "      <td>0.020267</td>\n",
       "      <td>0.064517</td>\n",
       "      <td>0.042300</td>\n",
       "      <td>0.005167</td>\n",
       "      <td>0.006983</td>\n",
       "      <td>0.012933</td>\n",
       "      <td>0.000817</td>\n",
       "      <td>0.000033</td>\n",
       "      <td>0.000000</td>\n",
       "      <td>0.030800</td>\n",
       "      <td>0.001033</td>\n",
       "      <td>0.004000</td>\n",
       "      <td>0.001617</td>\n",
       "      <td>0.003700</td>\n",
       "      <td>22.07</td>\n",
       "    </tr>\n",
       "    <tr>\n",
       "      <th>12877</th>\n",
       "      <td>0.003350</td>\n",
       "      <td>0.000000</td>\n",
       "      <td>0.020917</td>\n",
       "      <td>0.065083</td>\n",
       "      <td>0.433600</td>\n",
       "      <td>0.004783</td>\n",
       "      <td>0.006817</td>\n",
       "      <td>0.013233</td>\n",
       "      <td>0.000717</td>\n",
       "      <td>0.000217</td>\n",
       "      <td>0.000000</td>\n",
       "      <td>0.030033</td>\n",
       "      <td>0.001000</td>\n",
       "      <td>0.004000</td>\n",
       "      <td>0.001550</td>\n",
       "      <td>0.003350</td>\n",
       "      <td>39.39</td>\n",
       "    </tr>\n",
       "    <tr>\n",
       "      <th>24127</th>\n",
       "      <td>0.003400</td>\n",
       "      <td>0.000050</td>\n",
       "      <td>0.478383</td>\n",
       "      <td>0.654550</td>\n",
       "      <td>0.068867</td>\n",
       "      <td>0.123233</td>\n",
       "      <td>0.121733</td>\n",
       "      <td>0.012617</td>\n",
       "      <td>0.000400</td>\n",
       "      <td>0.000000</td>\n",
       "      <td>0.000017</td>\n",
       "      <td>0.482917</td>\n",
       "      <td>0.001000</td>\n",
       "      <td>0.004000</td>\n",
       "      <td>0.340083</td>\n",
       "      <td>0.003400</td>\n",
       "      <td>20.53</td>\n",
       "    </tr>\n",
       "    <tr>\n",
       "      <th>13053</th>\n",
       "      <td>0.003350</td>\n",
       "      <td>0.000033</td>\n",
       "      <td>0.021083</td>\n",
       "      <td>0.269717</td>\n",
       "      <td>0.042217</td>\n",
       "      <td>0.005250</td>\n",
       "      <td>0.007050</td>\n",
       "      <td>0.013317</td>\n",
       "      <td>0.000683</td>\n",
       "      <td>0.000083</td>\n",
       "      <td>0.000000</td>\n",
       "      <td>0.030067</td>\n",
       "      <td>0.001000</td>\n",
       "      <td>0.004000</td>\n",
       "      <td>0.001617</td>\n",
       "      <td>0.003350</td>\n",
       "      <td>44.92</td>\n",
       "    </tr>\n",
       "    <tr>\n",
       "      <th>2969</th>\n",
       "      <td>0.003050</td>\n",
       "      <td>0.000367</td>\n",
       "      <td>0.021650</td>\n",
       "      <td>0.526833</td>\n",
       "      <td>0.042033</td>\n",
       "      <td>0.137050</td>\n",
       "      <td>0.117633</td>\n",
       "      <td>0.013417</td>\n",
       "      <td>0.000350</td>\n",
       "      <td>0.000317</td>\n",
       "      <td>0.000000</td>\n",
       "      <td>0.031650</td>\n",
       "      <td>0.001017</td>\n",
       "      <td>0.004250</td>\n",
       "      <td>0.001617</td>\n",
       "      <td>0.003050</td>\n",
       "      <td>29.25</td>\n",
       "    </tr>\n",
       "    <tr>\n",
       "      <th>27874</th>\n",
       "      <td>0.038517</td>\n",
       "      <td>0.000000</td>\n",
       "      <td>0.070017</td>\n",
       "      <td>0.066983</td>\n",
       "      <td>0.039183</td>\n",
       "      <td>0.005450</td>\n",
       "      <td>0.007267</td>\n",
       "      <td>0.012950</td>\n",
       "      <td>0.000683</td>\n",
       "      <td>0.000033</td>\n",
       "      <td>0.000017</td>\n",
       "      <td>0.028683</td>\n",
       "      <td>0.000833</td>\n",
       "      <td>0.003850</td>\n",
       "      <td>0.001150</td>\n",
       "      <td>0.038517</td>\n",
       "      <td>22.65</td>\n",
       "    </tr>\n",
       "    <tr>\n",
       "      <th>1083</th>\n",
       "      <td>0.003567</td>\n",
       "      <td>0.000000</td>\n",
       "      <td>0.019983</td>\n",
       "      <td>0.062000</td>\n",
       "      <td>0.042400</td>\n",
       "      <td>0.106050</td>\n",
       "      <td>0.007283</td>\n",
       "      <td>0.012500</td>\n",
       "      <td>0.000667</td>\n",
       "      <td>0.000117</td>\n",
       "      <td>0.000017</td>\n",
       "      <td>0.373683</td>\n",
       "      <td>0.001050</td>\n",
       "      <td>0.004000</td>\n",
       "      <td>0.099333</td>\n",
       "      <td>0.003567</td>\n",
       "      <td>33.87</td>\n",
       "    </tr>\n",
       "    <tr>\n",
       "      <th>25695</th>\n",
       "      <td>0.003183</td>\n",
       "      <td>0.000050</td>\n",
       "      <td>0.476650</td>\n",
       "      <td>0.617467</td>\n",
       "      <td>0.055350</td>\n",
       "      <td>0.005050</td>\n",
       "      <td>0.007283</td>\n",
       "      <td>0.012683</td>\n",
       "      <td>0.000650</td>\n",
       "      <td>0.000033</td>\n",
       "      <td>0.000000</td>\n",
       "      <td>0.053067</td>\n",
       "      <td>0.001000</td>\n",
       "      <td>0.004000</td>\n",
       "      <td>0.001583</td>\n",
       "      <td>0.003183</td>\n",
       "      <td>19.76</td>\n",
       "    </tr>\n",
       "  </tbody>\n",
       "</table>\n",
       "</div>"
      ],
      "text/plain": [
       "            gen  Dishwasher  Furnace1  Furnace2  Home_office    Fridge  \\\n",
       "ID                                                                       \n",
       "14265  0.003367    0.115167  0.019917  0.063250     0.474850  0.033100   \n",
       "14538  0.003400    0.000067  0.482567  0.063867     0.042517  0.118817   \n",
       "17236  0.003700    0.000017  0.020267  0.064517     0.042300  0.005167   \n",
       "12877  0.003350    0.000000  0.020917  0.065083     0.433600  0.004783   \n",
       "24127  0.003400    0.000050  0.478383  0.654550     0.068867  0.123233   \n",
       "13053  0.003350    0.000033  0.021083  0.269717     0.042217  0.005250   \n",
       "2969   0.003050    0.000367  0.021650  0.526833     0.042033  0.137050   \n",
       "27874  0.038517    0.000000  0.070017  0.066983     0.039183  0.005450   \n",
       "1083   0.003567    0.000000  0.019983  0.062000     0.042400  0.106050   \n",
       "25695  0.003183    0.000050  0.476650  0.617467     0.055350  0.005050   \n",
       "\n",
       "       Wine_cellar  Garage_door  Kitchen12  Kitchen14  Kitchen38      Barn  \\\n",
       "ID                                                                           \n",
       "14265     0.010800     0.012700   0.000667   0.000300   0.000017  0.119833   \n",
       "14538     0.006500     0.012383   0.000467   0.000200   0.000000  0.035417   \n",
       "17236     0.006983     0.012933   0.000817   0.000033   0.000000  0.030800   \n",
       "12877     0.006817     0.013233   0.000717   0.000217   0.000000  0.030033   \n",
       "24127     0.121733     0.012617   0.000400   0.000000   0.000017  0.482917   \n",
       "13053     0.007050     0.013317   0.000683   0.000083   0.000000  0.030067   \n",
       "2969      0.117633     0.013417   0.000350   0.000317   0.000000  0.031650   \n",
       "27874     0.007267     0.012950   0.000683   0.000033   0.000017  0.028683   \n",
       "1083      0.007283     0.012500   0.000667   0.000117   0.000017  0.373683   \n",
       "25695     0.007283     0.012683   0.000650   0.000033   0.000000  0.053067   \n",
       "\n",
       "           Well  Microwave  Living_room     Solar  temperature  \n",
       "ID                                                              \n",
       "14265  0.001133   0.007167     0.001650  0.003367        30.76  \n",
       "14538  0.001017   0.004000     0.001550  0.003400        29.19  \n",
       "17236  0.001033   0.004000     0.001617  0.003700        22.07  \n",
       "12877  0.001000   0.004000     0.001550  0.003350        39.39  \n",
       "24127  0.001000   0.004000     0.340083  0.003400        20.53  \n",
       "13053  0.001000   0.004000     0.001617  0.003350        44.92  \n",
       "2969   0.001017   0.004250     0.001617  0.003050        29.25  \n",
       "27874  0.000833   0.003850     0.001150  0.038517        22.65  \n",
       "1083   0.001050   0.004000     0.099333  0.003567        33.87  \n",
       "25695  0.001000   0.004000     0.001583  0.003183        19.76  "
      ]
     },
     "execution_count": 16,
     "metadata": {},
     "output_type": "execute_result"
    }
   ],
   "source": [
    "#Print 10 first rows in valid datadet without label column\n",
    "PartA_x_valid.head(10)"
   ]
  },
  {
   "cell_type": "markdown",
   "metadata": {
    "id": "rzFjM5kbzR-X"
   },
   "source": [
    "**Next, create a scaling model using training set and use it to scale both training and validation data.**"
   ]
  },
  {
   "cell_type": "code",
   "execution_count": 17,
   "metadata": {
    "colab": {
     "base_uri": "https://localhost:8080/"
    },
    "executionInfo": {
     "elapsed": 9,
     "status": "ok",
     "timestamp": 1631281020854,
     "user": {
      "displayName": "Xuan Giang",
      "photoUrl": "https://lh3.googleusercontent.com/a-/AOh14Ggd54OGSnsTVH4f55B9i-PtSGR536j-IdXxTeMFoQ=s64",
      "userId": "06583316585577749974"
     },
     "user_tz": -600
    },
    "id": "wG362thbg6wj",
    "outputId": "f6f8144a-dbdb-4fa2-ce1b-d312ba126ef9"
   },
   "outputs": [
    {
     "name": "stdout",
     "output_type": "stream",
     "text": [
      "X train min = 0.0 ; max = 1.0\n",
      "X valid min = 0.0 ; max = 1.0922\n"
     ]
    }
   ],
   "source": [
    "scaler = MinMaxScaler(feature_range=(0, 1), copy=True).fit(PartA_x_train)\n",
    "PartA_x_train = pd.DataFrame(scaler.transform(PartA_x_train), \n",
    "                            columns = PartA_x_train.columns, index = PartA_x_train.index)\n",
    "PartA_x_valid = pd.DataFrame(scaler.transform(PartA_x_valid), \n",
    "                            columns = PartA_x_valid.columns, index = PartA_x_valid.index)\n",
    "\n",
    "print('X train min =', round(PartA_x_train.min().min(),4), '; max =', round(PartA_x_train.max().max(), 4))\n",
    "print('X valid min =', round(PartA_x_valid.min().min(),4), '; max =', round(PartA_x_valid.max().max(), 4))"
   ]
  },
  {
   "cell_type": "code",
   "execution_count": 18,
   "metadata": {
    "executionInfo": {
     "elapsed": 7,
     "status": "ok",
     "timestamp": 1631281020855,
     "user": {
      "displayName": "Xuan Giang",
      "photoUrl": "https://lh3.googleusercontent.com/a-/AOh14Ggd54OGSnsTVH4f55B9i-PtSGR536j-IdXxTeMFoQ=s64",
      "userId": "06583316585577749974"
     },
     "user_tz": -600
    },
    "id": "zDRCrQK5yh_Q"
   },
   "outputs": [],
   "source": [
    "#Set plot = True\n",
    "plot = True"
   ]
  },
  {
   "cell_type": "markdown",
   "metadata": {
    "id": "O7UukF54zaRu"
   },
   "source": [
    "**Convert pandas data frames to `np` arrays.**"
   ]
  },
  {
   "cell_type": "code",
   "execution_count": 19,
   "metadata": {
    "colab": {
     "base_uri": "https://localhost:8080/"
    },
    "executionInfo": {
     "elapsed": 6,
     "status": "ok",
     "timestamp": 1631281020855,
     "user": {
      "displayName": "Xuan Giang",
      "photoUrl": "https://lh3.googleusercontent.com/a-/AOh14Ggd54OGSnsTVH4f55B9i-PtSGR536j-IdXxTeMFoQ=s64",
      "userId": "06583316585577749974"
     },
     "user_tz": -600
    },
    "id": "JbPGQ9xI6AyD",
    "outputId": "767216fc-30e7-4c58-d708-a48382dbaa11"
   },
   "outputs": [
    {
     "name": "stdout",
     "output_type": "stream",
     "text": [
      "Training shape: (20998, 17)\n",
      "Training samples:  20998\n",
      "Validation samples:  9000\n"
     ]
    }
   ],
   "source": [
    "arr_x_train = np.array(PartA_x_train)\n",
    "arr_y_train = np.array(PartA_y_train)\n",
    "arr_x_valid = np.array(PartA_x_valid)\n",
    "arr_y_valid = np.array(PartA_y_valid)\n",
    "\n",
    "print('Training shape:', arr_x_train.shape)\n",
    "print('Training samples: ', arr_x_train.shape[0])\n",
    "print('Validation samples: ', arr_x_valid.shape[0])"
   ]
  },
  {
   "cell_type": "markdown",
   "metadata": {
    "id": "lY3RPGcKYzhc"
   },
   "source": [
    "<a id = \"cell_model\"></a>\n",
    "## 3. Model Construction"
   ]
  },
  {
   "cell_type": "markdown",
   "metadata": {
    "id": "Ec1t33UdYzhc"
   },
   "source": [
    "*For all models, use mean_squared_error as the loss function, and set the number of epochs to be 500.*"
   ]
  },
  {
   "cell_type": "markdown",
   "metadata": {
    "id": "HHk6xRE0JtE4"
   },
   "source": [
    "**The model 1 has 5 dense layers, with SGD optimizer**\n"
   ]
  },
  {
   "cell_type": "code",
   "execution_count": 20,
   "metadata": {
    "executionInfo": {
     "elapsed": 4,
     "status": "ok",
     "timestamp": 1631281020855,
     "user": {
      "displayName": "Xuan Giang",
      "photoUrl": "https://lh3.googleusercontent.com/a-/AOh14Ggd54OGSnsTVH4f55B9i-PtSGR536j-IdXxTeMFoQ=s64",
      "userId": "06583316585577749974"
     },
     "user_tz": -600
    },
    "id": "YRSO49oTYzhc"
   },
   "outputs": [],
   "source": [
    "#Model 1\n",
    "def basic_model_1(x_size, y_size):\n",
    "    t_model = Sequential()\n",
    "    t_model.add(Dense(100, activation=\"tanh\", input_shape=(x_size,)))\n",
    "    t_model.add(Dense(50, activation=\"relu\"))\n",
    "    t_model.add(Dense(10))\n",
    "    t_model.add(Dense(1, activation='sigmoid'))\n",
    "    t_model.add(Dense(y_size))\n",
    "    t_model.compile(loss='mean_squared_error', \n",
    "                    optimizer='sgd', \n",
    "                    metrics=[metrics.mae])\n",
    "    return(t_model)"
   ]
  },
  {
   "cell_type": "code",
   "execution_count": 21,
   "metadata": {
    "colab": {
     "base_uri": "https://localhost:8080/"
    },
    "executionInfo": {
     "elapsed": 2216,
     "status": "ok",
     "timestamp": 1631281023068,
     "user": {
      "displayName": "Xuan Giang",
      "photoUrl": "https://lh3.googleusercontent.com/a-/AOh14Ggd54OGSnsTVH4f55B9i-PtSGR536j-IdXxTeMFoQ=s64",
      "userId": "06583316585577749974"
     },
     "user_tz": -600
    },
    "id": "N8zduKX6N4VJ",
    "outputId": "e84633df-f203-4bac-ea01-4a70b8a71102"
   },
   "outputs": [
    {
     "name": "stdout",
     "output_type": "stream",
     "text": [
      "Model: \"sequential\"\n",
      "_________________________________________________________________\n",
      "Layer (type)                 Output Shape              Param #   \n",
      "=================================================================\n",
      "dense (Dense)                (None, 100)               1800      \n",
      "_________________________________________________________________\n",
      "dense_1 (Dense)              (None, 50)                5050      \n",
      "_________________________________________________________________\n",
      "dense_2 (Dense)              (None, 10)                510       \n",
      "_________________________________________________________________\n",
      "dense_3 (Dense)              (None, 1)                 11        \n",
      "_________________________________________________________________\n",
      "dense_4 (Dense)              (None, 1)                 2         \n",
      "=================================================================\n",
      "Total params: 7,373\n",
      "Trainable params: 7,373\n",
      "Non-trainable params: 0\n",
      "_________________________________________________________________\n"
     ]
    }
   ],
   "source": [
    "### build model\n",
    "model1 = basic_model_1(arr_x_train.shape[1], arr_y_train.shape[1])\n",
    "model1.summary()"
   ]
  },
  {
   "cell_type": "markdown",
   "metadata": {
    "id": "RdW94UkfN941"
   },
   "source": [
    "* dense: (17 input predictors + 1 bias)x 100 hidden nodes\n",
    "* dense_1: (100 hidden nodes previous layer + 1 bias)x 50 hidden nodes\n",
    "* dense_2: (50 hidden nodes previous layer + 1 bias)x 10 hidden node\n",
    "* dense_3: (10 hidden nodes previous layer + 1 bias)x 1 output node \n",
    "* dense_4: (1 hidden nodes previous layer + 1 bias)x 1 output node\n",
    "\n",
    "*The first layer has 100 hidden nodes with tanh activation*\n",
    "\n",
    "*The second layer has 50 hidden nodes with relu activation*\n",
    "\n",
    "*The third layer has 10 output nodes.*\n",
    "\n",
    "*Then the fourth layer has 1 hidden node with sigmoid activation and the last layer has 1 output node.*\n",
    "\n",
    "*The model needs 7,373 params to train model.*\n"
   ]
  },
  {
   "cell_type": "markdown",
   "metadata": {
    "id": "rU_h7LnfL4Tc"
   },
   "source": [
    "**The model 2 has 4 dense layers, and three time uses 40% dropouts, with Adam optimizer**"
   ]
  },
  {
   "cell_type": "code",
   "execution_count": 22,
   "metadata": {
    "executionInfo": {
     "elapsed": 22,
     "status": "ok",
     "timestamp": 1631281023068,
     "user": {
      "displayName": "Xuan Giang",
      "photoUrl": "https://lh3.googleusercontent.com/a-/AOh14Ggd54OGSnsTVH4f55B9i-PtSGR536j-IdXxTeMFoQ=s64",
      "userId": "06583316585577749974"
     },
     "user_tz": -600
    },
    "id": "JXZItnrYypN1"
   },
   "outputs": [],
   "source": [
    "#Model 2\n",
    "def basic_model_2(x_size, y_size):\n",
    "    t_model = Sequential()\n",
    "    t_model.add(Dense(100, activation=\"tanh\", kernel_initializer='normal', input_shape=(x_size,)))\n",
    "    t_model.add(Dropout(0.4))\n",
    "    t_model.add(Dense(50))\n",
    "    t_model.add(Dropout(0.4))\n",
    "    t_model.add(Dense(10))\n",
    "    t_model.add(Dropout(0.4))\n",
    "    t_model.add(Dense(y_size))\n",
    "    t_model.compile(loss='mean_squared_error', \n",
    "                    optimizer='adam', \n",
    "                    metrics=[metrics.mae])\n",
    "    return(t_model)"
   ]
  },
  {
   "cell_type": "code",
   "execution_count": 23,
   "metadata": {
    "colab": {
     "base_uri": "https://localhost:8080/"
    },
    "executionInfo": {
     "elapsed": 21,
     "status": "ok",
     "timestamp": 1631281023068,
     "user": {
      "displayName": "Xuan Giang",
      "photoUrl": "https://lh3.googleusercontent.com/a-/AOh14Ggd54OGSnsTVH4f55B9i-PtSGR536j-IdXxTeMFoQ=s64",
      "userId": "06583316585577749974"
     },
     "user_tz": -600
    },
    "id": "-C8wHR-wONk8",
    "outputId": "e66f73c3-fd70-4119-f958-a71595e58be1"
   },
   "outputs": [
    {
     "name": "stdout",
     "output_type": "stream",
     "text": [
      "Model: \"sequential_1\"\n",
      "_________________________________________________________________\n",
      "Layer (type)                 Output Shape              Param #   \n",
      "=================================================================\n",
      "dense_5 (Dense)              (None, 100)               1800      \n",
      "_________________________________________________________________\n",
      "dropout (Dropout)            (None, 100)               0         \n",
      "_________________________________________________________________\n",
      "dense_6 (Dense)              (None, 50)                5050      \n",
      "_________________________________________________________________\n",
      "dropout_1 (Dropout)          (None, 50)                0         \n",
      "_________________________________________________________________\n",
      "dense_7 (Dense)              (None, 10)                510       \n",
      "_________________________________________________________________\n",
      "dropout_2 (Dropout)          (None, 10)                0         \n",
      "_________________________________________________________________\n",
      "dense_8 (Dense)              (None, 1)                 11        \n",
      "=================================================================\n",
      "Total params: 7,371\n",
      "Trainable params: 7,371\n",
      "Non-trainable params: 0\n",
      "_________________________________________________________________\n"
     ]
    }
   ],
   "source": [
    "### build model\n",
    "model2 = basic_model_2(arr_x_train.shape[1], arr_y_train.shape[1])\n",
    "model2.summary()"
   ]
  },
  {
   "cell_type": "markdown",
   "metadata": {
    "id": "CFDWzvA-OOHN"
   },
   "source": [
    "* dense_5: (17 input predictors + 1 bias)x 100 hidden nodes\n",
    "* dense_6: (100 hidden nodes previous layer + 1 bias)x 50 hidden nodes\n",
    "* dense_7: (50 hidden nodes previous layers + 1 bias)x 10 hidden nodes\n",
    "* dense_8: (10 hidden nodes previous layers + 1 bias)x 1 output node\n",
    "\n",
    "*The first layer has 100 hidden nodes with tanh activation and normal kernal.*\n",
    "\n",
    "*Next, using three times 40% dropout before each  second layer with 50 hidden nodes, third layer with 10 hidden nodes, and fourth layer has 1 output node.*\n",
    "\n",
    "*The reason for using dropout to prevent overtraining.*\n",
    "\n",
    "*The model need 7,371 params to train model.*"
   ]
  },
  {
   "cell_type": "markdown",
   "metadata": {
    "id": "HT0aFeMcNI6w"
   },
   "source": [
    "**The model 3 has 5 dense layers, and 40% dropouts, with RMSProp optimizer**"
   ]
  },
  {
   "cell_type": "code",
   "execution_count": 24,
   "metadata": {
    "executionInfo": {
     "elapsed": 17,
     "status": "ok",
     "timestamp": 1631281023069,
     "user": {
      "displayName": "Xuan Giang",
      "photoUrl": "https://lh3.googleusercontent.com/a-/AOh14Ggd54OGSnsTVH4f55B9i-PtSGR536j-IdXxTeMFoQ=s64",
      "userId": "06583316585577749974"
     },
     "user_tz": -600
    },
    "id": "ebh49kq8uNDi"
   },
   "outputs": [],
   "source": [
    "#Model 3\n",
    "def basic_model_3(x_size, y_size):\n",
    "    t_model = Sequential()\n",
    "    t_model.add(Dense(100, activation=\"tanh\", kernel_initializer='normal', input_shape=(x_size,)))\n",
    "    t_model.add(Dropout(0.4))\n",
    "    t_model.add(Dense(50, activation=\"relu\"))\n",
    "    t_model.add(Dense(10, activation=\"relu\"))\n",
    "    t_model.add(Dense(1))\n",
    "    t_model.add(Dense(y_size))\n",
    "    t_model.compile(\n",
    "        loss='mean_squared_error',\n",
    "        optimizer=RMSprop(learning_rate=0.001, rho=0.9, epsilon=1e-07, decay=0.0),\n",
    "        metrics=[metrics.mae])\n",
    "    return(t_model)"
   ]
  },
  {
   "cell_type": "code",
   "execution_count": 25,
   "metadata": {
    "colab": {
     "base_uri": "https://localhost:8080/"
    },
    "executionInfo": {
     "elapsed": 17,
     "status": "ok",
     "timestamp": 1631281023069,
     "user": {
      "displayName": "Xuan Giang",
      "photoUrl": "https://lh3.googleusercontent.com/a-/AOh14Ggd54OGSnsTVH4f55B9i-PtSGR536j-IdXxTeMFoQ=s64",
      "userId": "06583316585577749974"
     },
     "user_tz": -600
    },
    "id": "NIyDzjt4OZyE",
    "outputId": "7336816d-0666-4ece-f94d-5058759ab50c"
   },
   "outputs": [
    {
     "name": "stdout",
     "output_type": "stream",
     "text": [
      "Model: \"sequential_2\"\n",
      "_________________________________________________________________\n",
      "Layer (type)                 Output Shape              Param #   \n",
      "=================================================================\n",
      "dense_9 (Dense)              (None, 100)               1800      \n",
      "_________________________________________________________________\n",
      "dropout_3 (Dropout)          (None, 100)               0         \n",
      "_________________________________________________________________\n",
      "dense_10 (Dense)             (None, 50)                5050      \n",
      "_________________________________________________________________\n",
      "dense_11 (Dense)             (None, 10)                510       \n",
      "_________________________________________________________________\n",
      "dense_12 (Dense)             (None, 1)                 11        \n",
      "_________________________________________________________________\n",
      "dense_13 (Dense)             (None, 1)                 2         \n",
      "=================================================================\n",
      "Total params: 7,373\n",
      "Trainable params: 7,373\n",
      "Non-trainable params: 0\n",
      "_________________________________________________________________\n"
     ]
    }
   ],
   "source": [
    "### build model\n",
    "model3 = basic_model_3(arr_x_train.shape[1], arr_y_train.shape[1])\n",
    "model3.summary()"
   ]
  },
  {
   "cell_type": "markdown",
   "metadata": {
    "id": "O3GYIIj9OeyW"
   },
   "source": [
    "* dense_9: (17 input predictors + 1 bias)x 100 hidden nodes\n",
    "* dense_10: (100 hidden nodes previous layer + 1 bias)x 50 hidden nodes\n",
    "* dense_11: (50 hidden nodes previous layer + 1 bias)x 50 hidden nodes\n",
    "* dense_12: (10 hidden nodes previous layer + 1 bias)x 1 hidden node\n",
    "* dense_13: (1 hidden nodes previous layer + 1 bias)x 1 output node \n",
    "\n",
    "*The first layer has 100 hidden nodes with tanh activation and normal kernal.*\n",
    "\n",
    "*Next, using 40% dropout before second layer with 50 hidden node. The third layer is 50 output nodes. These layers use relu activation.*\n",
    "\n",
    "*Then, the fourth layer has 1 hidden node. And the last layer only has 1 output node.*\n",
    "\n",
    "*The model needs total 7,373 params*"
   ]
  },
  {
   "cell_type": "markdown",
   "metadata": {
    "id": "AhN05SZXNSoI"
   },
   "source": [
    "**The model 4 includes 4 layers, and twice 40% dropouts with Nadam optimizer**"
   ]
  },
  {
   "cell_type": "code",
   "execution_count": 26,
   "metadata": {
    "executionInfo": {
     "elapsed": 14,
     "status": "ok",
     "timestamp": 1631281023069,
     "user": {
      "displayName": "Xuan Giang",
      "photoUrl": "https://lh3.googleusercontent.com/a-/AOh14Ggd54OGSnsTVH4f55B9i-PtSGR536j-IdXxTeMFoQ=s64",
      "userId": "06583316585577749974"
     },
     "user_tz": -600
    },
    "id": "Zh7RjZ32uNGJ"
   },
   "outputs": [],
   "source": [
    "#Model 4\n",
    "def basic_model_4(x_size, y_size):\n",
    "    t_model = Sequential()\n",
    "    t_model.add(Dense(50, activation=\"tanh\", input_shape=(x_size,)))\n",
    "    t_model.add(Dropout(0.4))\n",
    "    t_model.add(Dense(30, activation=\"relu\"))\n",
    "    t_model.add(Dropout(0.4))\n",
    "    t_model.add(Dense(10, activation=\"relu\"))\n",
    "    t_model.add(Dense(y_size))\n",
    "    t_model.compile(\n",
    "        loss='mean_squared_error',\n",
    "        optimizer=Nadam(learning_rate=0.001, beta_1=0.9, beta_2=0.999, epsilon=1e-07),\n",
    "        metrics=[metrics.mae])\n",
    "    return(t_model)"
   ]
  },
  {
   "cell_type": "code",
   "execution_count": 27,
   "metadata": {
    "colab": {
     "base_uri": "https://localhost:8080/"
    },
    "executionInfo": {
     "elapsed": 14,
     "status": "ok",
     "timestamp": 1631281023070,
     "user": {
      "displayName": "Xuan Giang",
      "photoUrl": "https://lh3.googleusercontent.com/a-/AOh14Ggd54OGSnsTVH4f55B9i-PtSGR536j-IdXxTeMFoQ=s64",
      "userId": "06583316585577749974"
     },
     "user_tz": -600
    },
    "id": "5kb0pqMyOk9O",
    "outputId": "e9dc7a5f-e282-4103-8d70-c6364611ea84"
   },
   "outputs": [
    {
     "name": "stdout",
     "output_type": "stream",
     "text": [
      "Model: \"sequential_3\"\n",
      "_________________________________________________________________\n",
      "Layer (type)                 Output Shape              Param #   \n",
      "=================================================================\n",
      "dense_14 (Dense)             (None, 50)                900       \n",
      "_________________________________________________________________\n",
      "dropout_4 (Dropout)          (None, 50)                0         \n",
      "_________________________________________________________________\n",
      "dense_15 (Dense)             (None, 30)                1530      \n",
      "_________________________________________________________________\n",
      "dropout_5 (Dropout)          (None, 30)                0         \n",
      "_________________________________________________________________\n",
      "dense_16 (Dense)             (None, 10)                310       \n",
      "_________________________________________________________________\n",
      "dense_17 (Dense)             (None, 1)                 11        \n",
      "=================================================================\n",
      "Total params: 2,751\n",
      "Trainable params: 2,751\n",
      "Non-trainable params: 0\n",
      "_________________________________________________________________\n"
     ]
    }
   ],
   "source": [
    "### build model\n",
    "model4 = basic_model_4(arr_x_train.shape[1], arr_y_train.shape[1])\n",
    "model4.summary()"
   ]
  },
  {
   "cell_type": "markdown",
   "metadata": {
    "id": "vTwCPfPcOlfE"
   },
   "source": [
    "* dense_14: (17 input predictors + 1 bias)x 50 hidden nodes\n",
    "* dense_15: (50 hidden nodes previous layer + 1 bias)x 30 hidden nodes\n",
    "* dense_16: (30 hidden nodes previous layer + 1 bias)x 10 hidden node\n",
    "* dense_17: (10 hidden nodes previous layer + 1 bias)x 1 output node \n",
    "\n",
    "*The first layer has 50 hidden nodes with tanh activation.*\n",
    "\n",
    "*Next, using twice 40% dropout before each second layer with 30 hidden nodes and third layer with 10 output nodes. These layers use relu activation.*\n",
    "\n",
    "*The last layer has 1 output node.*\n",
    "\n",
    "*The reason for using dropout to prevent overtraining.*\n",
    "\n",
    "*The model need 2,751 params to train model.*"
   ]
  },
  {
   "cell_type": "markdown",
   "metadata": {
    "id": "asKXfOH0Ntlf"
   },
   "source": [
    "**The model 5 consists of 4 layers, with Adam optimizer**"
   ]
  },
  {
   "cell_type": "code",
   "execution_count": 78,
   "metadata": {
    "executionInfo": {
     "elapsed": 606,
     "status": "ok",
     "timestamp": 1631282613096,
     "user": {
      "displayName": "Xuan Giang",
      "photoUrl": "https://lh3.googleusercontent.com/a-/AOh14Ggd54OGSnsTVH4f55B9i-PtSGR536j-IdXxTeMFoQ=s64",
      "userId": "06583316585577749974"
     },
     "user_tz": -600
    },
    "id": "zg2EXul9uNKB"
   },
   "outputs": [],
   "source": [
    "#Model 5\n",
    "def basic_model_5(x_size, y_size):\n",
    "    t_model = Sequential()\n",
    "    t_model.add(Dense(8, activation=\"relu\", input_shape=(x_size,)))\n",
    "    t_model.add(Dense(5,))\n",
    "    t_model.add(Dense(1))\n",
    "    t_model.add(Dense(y_size))\n",
    "    t_model.compile(loss=\"mean_squared_error\", \n",
    "                    optimizer=Adam(),\n",
    "                    metrics=[metrics.mae])\n",
    "    return(t_model)"
   ]
  },
  {
   "cell_type": "code",
   "execution_count": 79,
   "metadata": {
    "colab": {
     "base_uri": "https://localhost:8080/"
    },
    "executionInfo": {
     "elapsed": 889,
     "status": "ok",
     "timestamp": 1631282614565,
     "user": {
      "displayName": "Xuan Giang",
      "photoUrl": "https://lh3.googleusercontent.com/a-/AOh14Ggd54OGSnsTVH4f55B9i-PtSGR536j-IdXxTeMFoQ=s64",
      "userId": "06583316585577749974"
     },
     "user_tz": -600
    },
    "id": "xhoPFa7EOvQL",
    "outputId": "774443ec-a00f-4ce6-ef0c-61ad2201b30f"
   },
   "outputs": [
    {
     "name": "stdout",
     "output_type": "stream",
     "text": [
      "Model: \"sequential_9\"\n",
      "_________________________________________________________________\n",
      "Layer (type)                 Output Shape              Param #   \n",
      "=================================================================\n",
      "dense_38 (Dense)             (None, 8)                 144       \n",
      "_________________________________________________________________\n",
      "dense_39 (Dense)             (None, 5)                 45        \n",
      "_________________________________________________________________\n",
      "dense_40 (Dense)             (None, 1)                 6         \n",
      "_________________________________________________________________\n",
      "dense_41 (Dense)             (None, 1)                 2         \n",
      "=================================================================\n",
      "Total params: 197\n",
      "Trainable params: 197\n",
      "Non-trainable params: 0\n",
      "_________________________________________________________________\n"
     ]
    }
   ],
   "source": [
    "### build model\n",
    "model5 = basic_model_5(arr_x_train.shape[1], arr_y_train.shape[1])\n",
    "model5.summary()"
   ]
  },
  {
   "cell_type": "markdown",
   "metadata": {
    "id": "dzqxQOFROvzT"
   },
   "source": [
    "* dense_18: (17 input predictors + 1 bias)x 8 hidden nodes\n",
    "* dense_19: (10 hidden nodes previous layer + 1 bias)x 5 hidden nodes\n",
    "* dense_20: (5 hidden nodes previous layer + 1 bias)x 1 hidden node\n",
    "* dense_21: (1 hidden nodes previous layer + 1 bias)x 1 hidden node\n",
    "* dense_128: (1 hidden nodes previous layer + 1 bias)x 1 output node \n",
    "\n",
    "*The first layer has 8 hidden nodes with relu activation.*\n",
    "\n",
    "*The second layer has 5 hidden nodes.*\n",
    "\n",
    "*The third layer has 1 hidden node.*\n",
    "\n",
    "*And the last layer has 1 output node.*\n",
    "\n",
    "*The model only needs 197 params to build model.*\n"
   ]
  },
  {
   "cell_type": "markdown",
   "metadata": {
    "id": "B0h_o6nnufjg"
   },
   "source": [
    "<a id = \"cell_execution\"></a>\n",
    "## 4. Model Execution"
   ]
  },
  {
   "cell_type": "markdown",
   "metadata": {
    "id": "mJnESaxsYzhf"
   },
   "source": [
    "*This section is to provide code to fit the models. Record and plot the history of training and validation. Report the performance of the trained model on the both the training and the test sets.*<br>"
   ]
  },
  {
   "cell_type": "markdown",
   "metadata": {
    "id": "rOYMgMnGvxvC"
   },
   "source": [
    "**Model 1**"
   ]
  },
  {
   "cell_type": "code",
   "execution_count": 30,
   "metadata": {
    "colab": {
     "base_uri": "https://localhost:8080/"
    },
    "executionInfo": {
     "elapsed": 115087,
     "status": "ok",
     "timestamp": 1631281138148,
     "user": {
      "displayName": "Xuan Giang",
      "photoUrl": "https://lh3.googleusercontent.com/a-/AOh14Ggd54OGSnsTVH4f55B9i-PtSGR536j-IdXxTeMFoQ=s64",
      "userId": "06583316585577749974"
     },
     "user_tz": -600
    },
    "id": "zgdbw9Ubnjr1",
    "outputId": "cb0b8dae-b78e-4554-bb61-4b88678f16f1",
    "scrolled": false
   },
   "outputs": [
    {
     "name": "stdout",
     "output_type": "stream",
     "text": [
      "Epoch 1/500\n",
      "329/329 - 3s - loss: 0.5954 - mean_absolute_error: 0.5507 - val_loss: 0.4570 - val_mean_absolute_error: 0.4909\n",
      "Epoch 2/500\n",
      "329/329 - 1s - loss: 0.4336 - mean_absolute_error: 0.4739 - val_loss: 0.4249 - val_mean_absolute_error: 0.4629\n",
      "Epoch 3/500\n",
      "329/329 - 1s - loss: 0.3857 - mean_absolute_error: 0.4320 - val_loss: 0.3562 - val_mean_absolute_error: 0.4073\n",
      "Epoch 4/500\n",
      "329/329 - 1s - loss: 0.3129 - mean_absolute_error: 0.3654 - val_loss: 0.2841 - val_mean_absolute_error: 0.3430\n",
      "Epoch 5/500\n",
      "329/329 - 1s - loss: 0.2628 - mean_absolute_error: 0.3176 - val_loss: 0.2490 - val_mean_absolute_error: 0.3047\n",
      "Epoch 6/500\n",
      "329/329 - 1s - loss: 0.2384 - mean_absolute_error: 0.2940 - val_loss: 0.2317 - val_mean_absolute_error: 0.3118\n",
      "Epoch 7/500\n",
      "329/329 - 1s - loss: 0.2210 - mean_absolute_error: 0.2762 - val_loss: 0.2102 - val_mean_absolute_error: 0.2670\n",
      "Epoch 8/500\n",
      "329/329 - 1s - loss: 0.2059 - mean_absolute_error: 0.2581 - val_loss: 0.1949 - val_mean_absolute_error: 0.2479\n",
      "Epoch 9/500\n",
      "329/329 - 1s - loss: 0.1921 - mean_absolute_error: 0.2433 - val_loss: 0.1823 - val_mean_absolute_error: 0.2439\n",
      "Epoch 10/500\n",
      "329/329 - 1s - loss: 0.1819 - mean_absolute_error: 0.2332 - val_loss: 0.1736 - val_mean_absolute_error: 0.2272\n",
      "Epoch 11/500\n",
      "329/329 - 1s - loss: 0.1746 - mean_absolute_error: 0.2263 - val_loss: 0.1677 - val_mean_absolute_error: 0.2230\n",
      "Epoch 12/500\n",
      "329/329 - 1s - loss: 0.1694 - mean_absolute_error: 0.2213 - val_loss: 0.1647 - val_mean_absolute_error: 0.2056\n",
      "Epoch 13/500\n",
      "329/329 - 1s - loss: 0.1654 - mean_absolute_error: 0.2169 - val_loss: 0.1595 - val_mean_absolute_error: 0.2129\n",
      "Epoch 14/500\n",
      "329/329 - 1s - loss: 0.1615 - mean_absolute_error: 0.2134 - val_loss: 0.1569 - val_mean_absolute_error: 0.2030\n",
      "Epoch 15/500\n",
      "329/329 - 1s - loss: 0.1582 - mean_absolute_error: 0.2103 - val_loss: 0.1540 - val_mean_absolute_error: 0.2007\n",
      "Epoch 16/500\n",
      "329/329 - 1s - loss: 0.1548 - mean_absolute_error: 0.2069 - val_loss: 0.1513 - val_mean_absolute_error: 0.2106\n",
      "Epoch 17/500\n",
      "329/329 - 1s - loss: 0.1518 - mean_absolute_error: 0.2035 - val_loss: 0.1480 - val_mean_absolute_error: 0.2070\n",
      "Epoch 18/500\n",
      "329/329 - 1s - loss: 0.1493 - mean_absolute_error: 0.2006 - val_loss: 0.1468 - val_mean_absolute_error: 0.1889\n",
      "Epoch 19/500\n",
      "329/329 - 1s - loss: 0.1464 - mean_absolute_error: 0.1975 - val_loss: 0.1523 - val_mean_absolute_error: 0.2418\n",
      "Epoch 20/500\n",
      "329/329 - 1s - loss: 0.1444 - mean_absolute_error: 0.1947 - val_loss: 0.1465 - val_mean_absolute_error: 0.1772\n",
      "Epoch 21/500\n",
      "329/329 - 1s - loss: 0.1419 - mean_absolute_error: 0.1916 - val_loss: 0.1462 - val_mean_absolute_error: 0.1754\n",
      "Epoch 22/500\n",
      "329/329 - 1s - loss: 0.1399 - mean_absolute_error: 0.1888 - val_loss: 0.1373 - val_mean_absolute_error: 0.1855\n",
      "Epoch 23/500\n",
      "329/329 - 1s - loss: 0.1376 - mean_absolute_error: 0.1860 - val_loss: 0.1362 - val_mean_absolute_error: 0.1749\n",
      "Epoch 24/500\n",
      "329/329 - 1s - loss: 0.1361 - mean_absolute_error: 0.1833 - val_loss: 0.1340 - val_mean_absolute_error: 0.1911\n",
      "Epoch 25/500\n",
      "329/329 - 1s - loss: 0.1344 - mean_absolute_error: 0.1812 - val_loss: 0.1322 - val_mean_absolute_error: 0.1736\n",
      "Epoch 26/500\n",
      "329/329 - 1s - loss: 0.1323 - mean_absolute_error: 0.1786 - val_loss: 0.1330 - val_mean_absolute_error: 0.1645\n",
      "Epoch 27/500\n",
      "329/329 - 1s - loss: 0.1312 - mean_absolute_error: 0.1763 - val_loss: 0.1326 - val_mean_absolute_error: 0.1606\n",
      "Epoch 28/500\n",
      "329/329 - 1s - loss: 0.1296 - mean_absolute_error: 0.1738 - val_loss: 0.1300 - val_mean_absolute_error: 0.1599\n",
      "Epoch 29/500\n",
      "329/329 - 1s - loss: 0.1281 - mean_absolute_error: 0.1722 - val_loss: 0.1283 - val_mean_absolute_error: 0.1592\n",
      "Epoch 30/500\n",
      "329/329 - 1s - loss: 0.1267 - mean_absolute_error: 0.1705 - val_loss: 0.1256 - val_mean_absolute_error: 0.1650\n",
      "Epoch 31/500\n",
      "329/329 - 1s - loss: 0.1256 - mean_absolute_error: 0.1683 - val_loss: 0.1271 - val_mean_absolute_error: 0.1549\n",
      "Epoch 32/500\n",
      "329/329 - 1s - loss: 0.1245 - mean_absolute_error: 0.1672 - val_loss: 0.1268 - val_mean_absolute_error: 0.1525\n",
      "Epoch 33/500\n",
      "329/329 - 1s - loss: 0.1235 - mean_absolute_error: 0.1662 - val_loss: 0.1421 - val_mean_absolute_error: 0.1740\n",
      "Epoch 34/500\n",
      "329/329 - 1s - loss: 0.1221 - mean_absolute_error: 0.1651 - val_loss: 0.1257 - val_mean_absolute_error: 0.1579\n",
      "Epoch 35/500\n",
      "329/329 - 1s - loss: 0.1216 - mean_absolute_error: 0.1639 - val_loss: 0.1356 - val_mean_absolute_error: 0.1772\n",
      "Epoch 36/500\n",
      "329/329 - 1s - loss: 0.1210 - mean_absolute_error: 0.1633 - val_loss: 0.1218 - val_mean_absolute_error: 0.1792\n",
      "Epoch 37/500\n",
      "329/329 - 1s - loss: 0.1203 - mean_absolute_error: 0.1624 - val_loss: 0.1212 - val_mean_absolute_error: 0.1513\n",
      "Epoch 38/500\n",
      "329/329 - 1s - loss: 0.1198 - mean_absolute_error: 0.1621 - val_loss: 0.1265 - val_mean_absolute_error: 0.1533\n",
      "Epoch 39/500\n",
      "329/329 - 1s - loss: 0.1201 - mean_absolute_error: 0.1619 - val_loss: 0.1239 - val_mean_absolute_error: 0.1570\n",
      "Epoch 40/500\n",
      "329/329 - 1s - loss: 0.1191 - mean_absolute_error: 0.1618 - val_loss: 0.1194 - val_mean_absolute_error: 0.1533\n",
      "Epoch 41/500\n",
      "329/329 - 1s - loss: 0.1184 - mean_absolute_error: 0.1611 - val_loss: 0.1249 - val_mean_absolute_error: 0.1997\n",
      "Epoch 42/500\n",
      "329/329 - 1s - loss: 0.1181 - mean_absolute_error: 0.1617 - val_loss: 0.1356 - val_mean_absolute_error: 0.1820\n",
      "Epoch 43/500\n",
      "329/329 - 1s - loss: 0.1181 - mean_absolute_error: 0.1611 - val_loss: 0.1265 - val_mean_absolute_error: 0.1598\n",
      "Epoch 44/500\n",
      "329/329 - 1s - loss: 0.1181 - mean_absolute_error: 0.1612 - val_loss: 0.1183 - val_mean_absolute_error: 0.1645\n",
      "Epoch 45/500\n",
      "329/329 - 1s - loss: 0.1174 - mean_absolute_error: 0.1610 - val_loss: 0.1344 - val_mean_absolute_error: 0.1625\n",
      "Epoch 46/500\n",
      "329/329 - 1s - loss: 0.1169 - mean_absolute_error: 0.1594 - val_loss: 0.2587 - val_mean_absolute_error: 0.4391\n",
      "Epoch 47/500\n",
      "329/329 - 1s - loss: 0.1175 - mean_absolute_error: 0.1614 - val_loss: 0.1191 - val_mean_absolute_error: 0.1493\n",
      "Epoch 48/500\n",
      "329/329 - 1s - loss: 0.1166 - mean_absolute_error: 0.1600 - val_loss: 0.1229 - val_mean_absolute_error: 0.1487\n",
      "Epoch 49/500\n",
      "329/329 - 1s - loss: 0.1163 - mean_absolute_error: 0.1594 - val_loss: 0.1183 - val_mean_absolute_error: 0.1533\n",
      "Epoch 50/500\n",
      "329/329 - 1s - loss: 0.1158 - mean_absolute_error: 0.1595 - val_loss: 0.1190 - val_mean_absolute_error: 0.1468\n",
      "Epoch 51/500\n",
      "329/329 - 1s - loss: 0.1158 - mean_absolute_error: 0.1592 - val_loss: 0.1373 - val_mean_absolute_error: 0.1821\n",
      "Epoch 52/500\n",
      "329/329 - 1s - loss: 0.1154 - mean_absolute_error: 0.1583 - val_loss: 0.1283 - val_mean_absolute_error: 0.1584\n",
      "Epoch 53/500\n",
      "329/329 - 1s - loss: 0.1155 - mean_absolute_error: 0.1587 - val_loss: 0.1222 - val_mean_absolute_error: 0.1563\n",
      "Epoch 54/500\n",
      "329/329 - 1s - loss: 0.1157 - mean_absolute_error: 0.1589 - val_loss: 0.2773 - val_mean_absolute_error: 0.4519\n",
      "Epoch 55/500\n",
      "329/329 - 1s - loss: 0.1155 - mean_absolute_error: 0.1605 - val_loss: 0.1209 - val_mean_absolute_error: 0.1934\n",
      "Epoch 56/500\n",
      "329/329 - 1s - loss: 0.1143 - mean_absolute_error: 0.1577 - val_loss: 0.1157 - val_mean_absolute_error: 0.1617\n",
      "Epoch 57/500\n",
      "329/329 - 1s - loss: 0.1146 - mean_absolute_error: 0.1581 - val_loss: 0.1192 - val_mean_absolute_error: 0.1444\n",
      "Epoch 58/500\n",
      "329/329 - 1s - loss: 0.1142 - mean_absolute_error: 0.1579 - val_loss: 0.1472 - val_mean_absolute_error: 0.2014\n",
      "Epoch 59/500\n",
      "329/329 - 1s - loss: 0.1138 - mean_absolute_error: 0.1575 - val_loss: 0.1226 - val_mean_absolute_error: 0.1575\n",
      "Epoch 60/500\n",
      "329/329 - 1s - loss: 0.1141 - mean_absolute_error: 0.1581 - val_loss: 0.1145 - val_mean_absolute_error: 0.1535\n",
      "Epoch 61/500\n",
      "329/329 - 1s - loss: 0.1135 - mean_absolute_error: 0.1576 - val_loss: 0.1153 - val_mean_absolute_error: 0.1488\n",
      "Epoch 62/500\n",
      "329/329 - 1s - loss: 0.1131 - mean_absolute_error: 0.1565 - val_loss: 0.1144 - val_mean_absolute_error: 0.1558\n",
      "Epoch 63/500\n",
      "329/329 - 1s - loss: 0.1136 - mean_absolute_error: 0.1573 - val_loss: 0.1142 - val_mean_absolute_error: 0.1612\n",
      "Epoch 64/500\n",
      "329/329 - 1s - loss: 0.1130 - mean_absolute_error: 0.1566 - val_loss: 0.1164 - val_mean_absolute_error: 0.1425\n",
      "Epoch 65/500\n",
      "329/329 - 1s - loss: 0.1128 - mean_absolute_error: 0.1560 - val_loss: 0.1144 - val_mean_absolute_error: 0.1458\n",
      "Epoch 66/500\n",
      "329/329 - 1s - loss: 0.1125 - mean_absolute_error: 0.1564 - val_loss: 0.1178 - val_mean_absolute_error: 0.1454\n",
      "Epoch 67/500\n",
      "329/329 - 1s - loss: 0.1126 - mean_absolute_error: 0.1564 - val_loss: 0.1194 - val_mean_absolute_error: 0.1519\n",
      "Epoch 68/500\n",
      "329/329 - 1s - loss: 0.1117 - mean_absolute_error: 0.1560 - val_loss: 0.1159 - val_mean_absolute_error: 0.1502\n",
      "Epoch 69/500\n",
      "329/329 - 1s - loss: 0.1122 - mean_absolute_error: 0.1558 - val_loss: 0.1146 - val_mean_absolute_error: 0.1610\n",
      "Epoch 70/500\n",
      "329/329 - 1s - loss: 0.1117 - mean_absolute_error: 0.1558 - val_loss: 0.1139 - val_mean_absolute_error: 0.1648\n",
      "Epoch 71/500\n",
      "329/329 - 1s - loss: 0.1121 - mean_absolute_error: 0.1551 - val_loss: 0.1144 - val_mean_absolute_error: 0.1434\n",
      "Epoch 72/500\n",
      "329/329 - 1s - loss: 0.1112 - mean_absolute_error: 0.1551 - val_loss: 0.1410 - val_mean_absolute_error: 0.1996\n",
      "Epoch 73/500\n",
      "329/329 - 1s - loss: 0.1118 - mean_absolute_error: 0.1551 - val_loss: 0.1279 - val_mean_absolute_error: 0.1713\n",
      "Epoch 74/500\n",
      "329/329 - 1s - loss: 0.1121 - mean_absolute_error: 0.1560 - val_loss: 0.1129 - val_mean_absolute_error: 0.1566\n",
      "Epoch 75/500\n",
      "329/329 - 1s - loss: 0.1109 - mean_absolute_error: 0.1544 - val_loss: 0.1826 - val_mean_absolute_error: 0.3396\n",
      "Epoch 76/500\n",
      "329/329 - 1s - loss: 0.1115 - mean_absolute_error: 0.1559 - val_loss: 0.1125 - val_mean_absolute_error: 0.1459\n",
      "Epoch 77/500\n",
      "329/329 - 1s - loss: 0.1113 - mean_absolute_error: 0.1549 - val_loss: 0.1119 - val_mean_absolute_error: 0.1507\n",
      "Epoch 78/500\n",
      "329/329 - 1s - loss: 0.1107 - mean_absolute_error: 0.1548 - val_loss: 0.1166 - val_mean_absolute_error: 0.1422\n",
      "Epoch 79/500\n",
      "329/329 - 1s - loss: 0.1102 - mean_absolute_error: 0.1535 - val_loss: 0.1450 - val_mean_absolute_error: 0.1943\n",
      "Epoch 80/500\n",
      "329/329 - 1s - loss: 0.1103 - mean_absolute_error: 0.1543 - val_loss: 0.1265 - val_mean_absolute_error: 0.1706\n",
      "Epoch 81/500\n",
      "329/329 - 1s - loss: 0.1103 - mean_absolute_error: 0.1541 - val_loss: 0.1242 - val_mean_absolute_error: 0.1476\n",
      "Epoch 82/500\n",
      "329/329 - 1s - loss: 0.1106 - mean_absolute_error: 0.1549 - val_loss: 0.1118 - val_mean_absolute_error: 0.1450\n",
      "Epoch 83/500\n",
      "329/329 - 1s - loss: 0.1102 - mean_absolute_error: 0.1537 - val_loss: 0.1131 - val_mean_absolute_error: 0.1470\n",
      "Epoch 84/500\n",
      "329/329 - 1s - loss: 0.1096 - mean_absolute_error: 0.1533 - val_loss: 0.1132 - val_mean_absolute_error: 0.1409\n",
      "Epoch 85/500\n",
      "329/329 - 1s - loss: 0.1090 - mean_absolute_error: 0.1528 - val_loss: 0.1126 - val_mean_absolute_error: 0.1420\n",
      "Epoch 86/500\n",
      "329/329 - 1s - loss: 0.1093 - mean_absolute_error: 0.1533 - val_loss: 0.1162 - val_mean_absolute_error: 0.1400\n",
      "Epoch 87/500\n",
      "329/329 - 1s - loss: 0.1095 - mean_absolute_error: 0.1535 - val_loss: 0.1211 - val_mean_absolute_error: 0.1465\n",
      "Epoch 88/500\n",
      "329/329 - 1s - loss: 0.1091 - mean_absolute_error: 0.1526 - val_loss: 0.1260 - val_mean_absolute_error: 0.1690\n",
      "Epoch 89/500\n",
      "329/329 - 1s - loss: 0.1087 - mean_absolute_error: 0.1530 - val_loss: 0.1141 - val_mean_absolute_error: 0.1389\n",
      "Epoch 90/500\n",
      "329/329 - 1s - loss: 0.1090 - mean_absolute_error: 0.1529 - val_loss: 0.1173 - val_mean_absolute_error: 0.1429\n",
      "Epoch 91/500\n",
      "329/329 - 1s - loss: 0.1086 - mean_absolute_error: 0.1527 - val_loss: 0.1152 - val_mean_absolute_error: 0.1859\n",
      "Epoch 92/500\n",
      "329/329 - 1s - loss: 0.1083 - mean_absolute_error: 0.1526 - val_loss: 0.1129 - val_mean_absolute_error: 0.1386\n",
      "Epoch 93/500\n",
      "329/329 - 1s - loss: 0.1084 - mean_absolute_error: 0.1528 - val_loss: 0.1272 - val_mean_absolute_error: 0.1686\n",
      "Epoch 94/500\n",
      "329/329 - 1s - loss: 0.1086 - mean_absolute_error: 0.1524 - val_loss: 0.1316 - val_mean_absolute_error: 0.1747\n",
      "Epoch 95/500\n",
      "329/329 - 1s - loss: 0.1083 - mean_absolute_error: 0.1525 - val_loss: 0.1098 - val_mean_absolute_error: 0.1476\n",
      "Epoch 96/500\n",
      "329/329 - 1s - loss: 0.1080 - mean_absolute_error: 0.1522 - val_loss: 0.1218 - val_mean_absolute_error: 0.1584\n",
      "Epoch 97/500\n",
      "329/329 - 1s - loss: 0.1078 - mean_absolute_error: 0.1520 - val_loss: 0.1100 - val_mean_absolute_error: 0.1430\n",
      "Epoch 98/500\n",
      "329/329 - 1s - loss: 0.1074 - mean_absolute_error: 0.1516 - val_loss: 0.1274 - val_mean_absolute_error: 0.1741\n",
      "Epoch 99/500\n",
      "329/329 - 1s - loss: 0.1079 - mean_absolute_error: 0.1517 - val_loss: 0.1252 - val_mean_absolute_error: 0.1705\n",
      "Epoch 100/500\n",
      "329/329 - 1s - loss: 0.1070 - mean_absolute_error: 0.1514 - val_loss: 0.1258 - val_mean_absolute_error: 0.1684\n",
      "Epoch 101/500\n",
      "329/329 - 1s - loss: 0.1070 - mean_absolute_error: 0.1513 - val_loss: 0.1106 - val_mean_absolute_error: 0.1410\n",
      "Epoch 102/500\n",
      "329/329 - 1s - loss: 0.1070 - mean_absolute_error: 0.1512 - val_loss: 0.1111 - val_mean_absolute_error: 0.1681\n",
      "Epoch 103/500\n",
      "329/329 - 1s - loss: 0.1074 - mean_absolute_error: 0.1520 - val_loss: 0.1117 - val_mean_absolute_error: 0.1388\n",
      "Epoch 104/500\n",
      "329/329 - 1s - loss: 0.1068 - mean_absolute_error: 0.1508 - val_loss: 0.1232 - val_mean_absolute_error: 0.1688\n",
      "Epoch 105/500\n",
      "329/329 - 1s - loss: 0.1068 - mean_absolute_error: 0.1515 - val_loss: 0.1086 - val_mean_absolute_error: 0.1472\n",
      "Epoch 106/500\n",
      "329/329 - 1s - loss: 0.1071 - mean_absolute_error: 0.1517 - val_loss: 0.1099 - val_mean_absolute_error: 0.1552\n",
      "Epoch 107/500\n",
      "329/329 - 1s - loss: 0.1067 - mean_absolute_error: 0.1521 - val_loss: 0.1105 - val_mean_absolute_error: 0.1649\n",
      "Epoch 108/500\n",
      "329/329 - 1s - loss: 0.1065 - mean_absolute_error: 0.1512 - val_loss: 0.1083 - val_mean_absolute_error: 0.1503\n",
      "Epoch 109/500\n",
      "329/329 - 1s - loss: 0.1065 - mean_absolute_error: 0.1511 - val_loss: 0.1105 - val_mean_absolute_error: 0.1417\n",
      "Epoch 110/500\n",
      "329/329 - 1s - loss: 0.1065 - mean_absolute_error: 0.1514 - val_loss: 0.1084 - val_mean_absolute_error: 0.1482\n",
      "Epoch 111/500\n",
      "329/329 - 1s - loss: 0.1057 - mean_absolute_error: 0.1505 - val_loss: 0.1086 - val_mean_absolute_error: 0.1432\n",
      "Epoch 112/500\n",
      "329/329 - 1s - loss: 0.1065 - mean_absolute_error: 0.1524 - val_loss: 0.1084 - val_mean_absolute_error: 0.1416\n",
      "Time of process for model 1:  150.987628441\n"
     ]
    }
   ],
   "source": [
    "### fit model\n",
    "start1 = time.process_time()\n",
    "history1 = model1.fit(arr_x_train, arr_y_train,\n",
    "    batch_size=64,\n",
    "    epochs=500,\n",
    "    shuffle=True,\n",
    "    verbose=2,\n",
    "    validation_data=(arr_x_valid, arr_y_valid),\n",
    "    callbacks=keras_callbacks)\n",
    "\n",
    "time1 = time.process_time() - start1\n",
    "#time of process\n",
    "print(\"Time of process for model 1: \", time1)"
   ]
  },
  {
   "cell_type": "markdown",
   "metadata": {
    "id": "_GZUr1HK9rYw"
   },
   "source": [
    "*The time processing of model is 151s and the final validation MAE for this model was 112.*"
   ]
  },
  {
   "cell_type": "code",
   "execution_count": 31,
   "metadata": {
    "colab": {
     "base_uri": "https://localhost:8080/"
    },
    "executionInfo": {
     "elapsed": 29638,
     "status": "ok",
     "timestamp": 1631281167757,
     "user": {
      "displayName": "Xuan Giang",
      "photoUrl": "https://lh3.googleusercontent.com/a-/AOh14Ggd54OGSnsTVH4f55B9i-PtSGR536j-IdXxTeMFoQ=s64",
      "userId": "06583316585577749974"
     },
     "user_tz": -600
    },
    "id": "B7tm3_U9nmkj",
    "outputId": "ddc62f40-16cd-4328-d563-1f871f85e253"
   },
   "outputs": [
    {
     "name": "stdout",
     "output_type": "stream",
     "text": [
      "Train Mean: 1.0763\n",
      "Train MAE:  0.1395 , Train Loss:  0.1038\n",
      "Val Mean: 1.0877\n",
      "Val MAE:  0.1416 , Val Loss:  0.1084\n"
     ]
    }
   ],
   "source": [
    "### evaluate the model with mae score\n",
    "train_score1 = model1.evaluate(arr_x_train, arr_y_train, verbose=0)\n",
    "valid_score1 = model1.evaluate(arr_x_valid, arr_y_valid, verbose=0)\n",
    "\n",
    "print('Train Mean:', round(PartA_y_train['Total_Consuption'].mean(), 4))\n",
    "print('Train MAE: ', round(train_score1[1], 4), ', Train Loss: ', round(train_score1[0], 4)) \n",
    "print('Val Mean:', round(PartA_y_valid['Total_Consuption'].mean(), 4))\n",
    "print('Val MAE: ', round(valid_score1[1], 4), ', Val Loss: ', round(valid_score1[0], 4))"
   ]
  },
  {
   "cell_type": "code",
   "execution_count": 32,
   "metadata": {
    "colab": {
     "base_uri": "https://localhost:8080/",
     "height": 1000
    },
    "executionInfo": {
     "elapsed": 901,
     "status": "ok",
     "timestamp": 1631281168653,
     "user": {
      "displayName": "Xuan Giang",
      "photoUrl": "https://lh3.googleusercontent.com/a-/AOh14Ggd54OGSnsTVH4f55B9i-PtSGR536j-IdXxTeMFoQ=s64",
      "userId": "06583316585577749974"
     },
     "user_tz": -600
    },
    "id": "N-4zYGVhnyXC",
    "outputId": "dc6bc12b-5b49-4ef4-f541-554641716d7a"
   },
   "outputs": [
    {
     "data": {
      "image/png": "[encoded data removed]",
      "text/plain": [
       "<Figure size 720x576 with 1 Axes>"
      ]
     },
     "metadata": {
      "needs_background": "light"
     },
     "output_type": "display_data"
    },
    {
     "data": {
      "image/png": "[encoded data removed]",
      "text/plain": [
       "<Figure size 720x576 with 1 Axes>"
      ]
     },
     "metadata": {
      "needs_background": "light"
     },
     "output_type": "display_data"
    }
   ],
   "source": [
    "### plot the performance of model\n",
    "hist1 = pd.DataFrame(history1.history)\n",
    "\n",
    "plot_hist(hist1, xsize=10, ysize=8)"
   ]
  },
  {
   "cell_type": "markdown",
   "metadata": {
    "id": "SYGWeiqbam2a"
   },
   "source": [
    "*The figure of Training and Validation loss shows that Validation set is too small compared with training set. Because learning curve for training loss that looks like a good fit when it decreased stability to a point. Also, a learning curve for validation loss that shows dramtic movements around the training loss.*\n",
    "\n",
    "*Meanwhile, MAE figure shows the unstable changes between actual and predicted values of model. To be more specific, MAE of validation at some epoches is very greater than that of MAE training.*"
   ]
  },
  {
   "cell_type": "markdown",
   "metadata": {
    "id": "mQRp1uRBv1re"
   },
   "source": [
    "**Model 2**"
   ]
  },
  {
   "cell_type": "code",
   "execution_count": 33,
   "metadata": {
    "colab": {
     "base_uri": "https://localhost:8080/"
    },
    "executionInfo": {
     "elapsed": 25177,
     "status": "ok",
     "timestamp": 1631281193824,
     "user": {
      "displayName": "Xuan Giang",
      "photoUrl": "https://lh3.googleusercontent.com/a-/AOh14Ggd54OGSnsTVH4f55B9i-PtSGR536j-IdXxTeMFoQ=s64",
      "userId": "06583316585577749974"
     },
     "user_tz": -600
    },
    "id": "paytVX0YtAEo",
    "outputId": "f9c09d34-47b6-49d8-bc14-3ec169767621"
   },
   "outputs": [
    {
     "name": "stdout",
     "output_type": "stream",
     "text": [
      "Epoch 1/500\n",
      "329/329 - 2s - loss: 0.3409 - mean_absolute_error: 0.3786 - val_loss: 0.1492 - val_mean_absolute_error: 0.1858\n",
      "Epoch 2/500\n",
      "329/329 - 1s - loss: 0.2305 - mean_absolute_error: 0.2924 - val_loss: 0.1279 - val_mean_absolute_error: 0.1651\n",
      "Epoch 3/500\n",
      "329/329 - 1s - loss: 0.1975 - mean_absolute_error: 0.2638 - val_loss: 0.1301 - val_mean_absolute_error: 0.1428\n",
      "Epoch 4/500\n",
      "329/329 - 1s - loss: 0.1812 - mean_absolute_error: 0.2473 - val_loss: 0.1237 - val_mean_absolute_error: 0.1500\n",
      "Epoch 5/500\n",
      "329/329 - 1s - loss: 0.1721 - mean_absolute_error: 0.2354 - val_loss: 0.1278 - val_mean_absolute_error: 0.1895\n",
      "Epoch 6/500\n",
      "329/329 - 1s - loss: 0.1707 - mean_absolute_error: 0.2342 - val_loss: 0.1254 - val_mean_absolute_error: 0.1576\n",
      "Epoch 7/500\n",
      "329/329 - 1s - loss: 0.1615 - mean_absolute_error: 0.2250 - val_loss: 0.1272 - val_mean_absolute_error: 0.1549\n",
      "Epoch 8/500\n",
      "329/329 - 1s - loss: 0.1581 - mean_absolute_error: 0.2227 - val_loss: 0.1217 - val_mean_absolute_error: 0.1786\n",
      "Epoch 9/500\n",
      "329/329 - 1s - loss: 0.1572 - mean_absolute_error: 0.2225 - val_loss: 0.1233 - val_mean_absolute_error: 0.1606\n",
      "Epoch 10/500\n",
      "329/329 - 1s - loss: 0.1567 - mean_absolute_error: 0.2216 - val_loss: 0.1301 - val_mean_absolute_error: 0.1776\n",
      "Epoch 11/500\n",
      "329/329 - 1s - loss: 0.1570 - mean_absolute_error: 0.2209 - val_loss: 0.1212 - val_mean_absolute_error: 0.1621\n",
      "Epoch 12/500\n",
      "329/329 - 1s - loss: 0.1537 - mean_absolute_error: 0.2192 - val_loss: 0.1267 - val_mean_absolute_error: 0.1701\n",
      "Epoch 13/500\n",
      "329/329 - 1s - loss: 0.1544 - mean_absolute_error: 0.2198 - val_loss: 0.1242 - val_mean_absolute_error: 0.1923\n",
      "Epoch 14/500\n",
      "329/329 - 1s - loss: 0.1530 - mean_absolute_error: 0.2174 - val_loss: 0.1216 - val_mean_absolute_error: 0.1711\n",
      "Epoch 15/500\n",
      "329/329 - 1s - loss: 0.1535 - mean_absolute_error: 0.2159 - val_loss: 0.1235 - val_mean_absolute_error: 0.1642\n",
      "Epoch 16/500\n",
      "329/329 - 1s - loss: 0.1533 - mean_absolute_error: 0.2175 - val_loss: 0.1220 - val_mean_absolute_error: 0.1529\n",
      "Epoch 17/500\n",
      "329/329 - 1s - loss: 0.1499 - mean_absolute_error: 0.2165 - val_loss: 0.1235 - val_mean_absolute_error: 0.1607\n",
      "Epoch 18/500\n",
      "329/329 - 1s - loss: 0.1513 - mean_absolute_error: 0.2168 - val_loss: 0.1205 - val_mean_absolute_error: 0.1737\n",
      "Epoch 19/500\n",
      "329/329 - 1s - loss: 0.1511 - mean_absolute_error: 0.2180 - val_loss: 0.1350 - val_mean_absolute_error: 0.1849\n",
      "Epoch 20/500\n",
      "329/329 - 1s - loss: 0.1540 - mean_absolute_error: 0.2177 - val_loss: 0.1226 - val_mean_absolute_error: 0.1703\n",
      "Epoch 21/500\n",
      "329/329 - 1s - loss: 0.1503 - mean_absolute_error: 0.2169 - val_loss: 0.1269 - val_mean_absolute_error: 0.2034\n",
      "Epoch 22/500\n",
      "329/329 - 1s - loss: 0.1530 - mean_absolute_error: 0.2181 - val_loss: 0.1333 - val_mean_absolute_error: 0.1710\n",
      "Epoch 23/500\n",
      "329/329 - 1s - loss: 0.1494 - mean_absolute_error: 0.2150 - val_loss: 0.1247 - val_mean_absolute_error: 0.1870\n",
      "Time of process for model 2:  34.48036289000001\n"
     ]
    }
   ],
   "source": [
    "### fit model\n",
    "start2 = time.process_time()\n",
    "history2 = model2.fit(arr_x_train, arr_y_train,\n",
    "    batch_size=64,\n",
    "    epochs=500,\n",
    "    shuffle=True,\n",
    "    verbose=2,\n",
    "    validation_data=(arr_x_valid, arr_y_valid),\n",
    "    callbacks=keras_callbacks)\n",
    "\n",
    "time2 = time.process_time() - start2\n",
    "#time of process\n",
    "print(\"Time of process for model 2: \", time2)"
   ]
  },
  {
   "cell_type": "markdown",
   "metadata": {
    "id": "hVg2Wya-90DF"
   },
   "source": [
    "*The time processing of model is 34.5s and the final validation MAE for this model was 23.*"
   ]
  },
  {
   "cell_type": "code",
   "execution_count": 34,
   "metadata": {
    "colab": {
     "base_uri": "https://localhost:8080/"
    },
    "executionInfo": {
     "elapsed": 1817,
     "status": "ok",
     "timestamp": 1631281195624,
     "user": {
      "displayName": "Xuan Giang",
      "photoUrl": "https://lh3.googleusercontent.com/a-/AOh14Ggd54OGSnsTVH4f55B9i-PtSGR536j-IdXxTeMFoQ=s64",
      "userId": "06583316585577749974"
     },
     "user_tz": -600
    },
    "id": "PxESy9jBugn8",
    "outputId": "b56a9ffc-730c-40a6-8c77-90a0d567ff73"
   },
   "outputs": [
    {
     "name": "stdout",
     "output_type": "stream",
     "text": [
      "Train Mean: 1.0763\n",
      "Train MAE:  0.1855 , Train Loss:  0.1222\n",
      "Val Mean: 1.0877\n",
      "Val MAE:  0.187 , Val Loss:  0.1247\n"
     ]
    }
   ],
   "source": [
    "### evaluate the model with mae score\n",
    "train_score2 = model2.evaluate(arr_x_train, arr_y_train, verbose=0)\n",
    "valid_score2 = model2.evaluate(arr_x_valid, arr_y_valid, verbose=0)\n",
    "\n",
    "print('Train Mean:', round(PartA_y_train['Total_Consuption'].mean(), 4))\n",
    "print('Train MAE: ', round(train_score2[1], 4), ', Train Loss: ', round(train_score2[0], 4)) \n",
    "print('Val Mean:', round(PartA_y_valid['Total_Consuption'].mean(), 4))\n",
    "print('Val MAE: ', round(valid_score2[1], 4), ', Val Loss: ', round(valid_score2[0], 4))"
   ]
  },
  {
   "cell_type": "code",
   "execution_count": 35,
   "metadata": {
    "colab": {
     "base_uri": "https://localhost:8080/",
     "height": 1000
    },
    "executionInfo": {
     "elapsed": 1168,
     "status": "ok",
     "timestamp": 1631281196789,
     "user": {
      "displayName": "Xuan Giang",
      "photoUrl": "https://lh3.googleusercontent.com/a-/AOh14Ggd54OGSnsTVH4f55B9i-PtSGR536j-IdXxTeMFoQ=s64",
      "userId": "06583316585577749974"
     },
     "user_tz": -600
    },
    "id": "qza_aCPhukcN",
    "outputId": "38d689cd-68eb-4f40-d77e-c2daf80624c3"
   },
   "outputs": [
    {
     "data": {
      "image/png": "[encoded data removed]",
      "text/plain": [
       "<Figure size 720x576 with 1 Axes>"
      ]
     },
     "metadata": {
      "needs_background": "light"
     },
     "output_type": "display_data"
    },
    {
     "data": {
      "image/png": "[encoded data removed]",
      "text/plain": [
       "<Figure size 720x576 with 1 Axes>"
      ]
     },
     "metadata": {
      "needs_background": "light"
     },
     "output_type": "display_data"
    }
   ],
   "source": [
    "### plot the performance of model\n",
    "hist2 = pd.DataFrame(history2.history)\n",
    "\n",
    "plot_hist(hist2, xsize=10, ysize=8)"
   ]
  },
  {
   "cell_type": "markdown",
   "metadata": {
    "id": "BWNuxfLyg2Gy"
   },
   "source": [
    "*The figure of Training and Validation loss shows that the validation set is simpler than training set (validation loss lower than training loss). This also means the model can predict easily the validation set compared with training set.*\n",
    "\n",
    "*Meanwhile, the traning and validation MAE figure shows the MAE validation is consistanly lower than MAE training which also means the model maybe underfitting*"
   ]
  },
  {
   "cell_type": "markdown",
   "metadata": {
    "id": "mOKecx7Fv1wd"
   },
   "source": [
    "**Model 3**"
   ]
  },
  {
   "cell_type": "code",
   "execution_count": 36,
   "metadata": {
    "colab": {
     "base_uri": "https://localhost:8080/"
    },
    "executionInfo": {
     "elapsed": 100560,
     "status": "ok",
     "timestamp": 1631281297340,
     "user": {
      "displayName": "Xuan Giang",
      "photoUrl": "https://lh3.googleusercontent.com/a-/AOh14Ggd54OGSnsTVH4f55B9i-PtSGR536j-IdXxTeMFoQ=s64",
      "userId": "06583316585577749974"
     },
     "user_tz": -600
    },
    "id": "wJMS99n9uvmf",
    "outputId": "e03fd3d8-43f7-4b4f-c32c-dcb63778e77b",
    "scrolled": false
   },
   "outputs": [
    {
     "name": "stdout",
     "output_type": "stream",
     "text": [
      "Epoch 1/500\n",
      "329/329 - 2s - loss: 0.2242 - mean_absolute_error: 0.2700 - val_loss: 0.1612 - val_mean_absolute_error: 0.1938\n",
      "Epoch 2/500\n",
      "329/329 - 1s - loss: 0.1324 - mean_absolute_error: 0.1867 - val_loss: 0.1310 - val_mean_absolute_error: 0.1627\n",
      "Epoch 3/500\n",
      "329/329 - 1s - loss: 0.1248 - mean_absolute_error: 0.1787 - val_loss: 0.1148 - val_mean_absolute_error: 0.1603\n",
      "Epoch 4/500\n",
      "329/329 - 1s - loss: 0.1202 - mean_absolute_error: 0.1720 - val_loss: 0.1125 - val_mean_absolute_error: 0.1460\n",
      "Epoch 5/500\n",
      "329/329 - 1s - loss: 0.1194 - mean_absolute_error: 0.1684 - val_loss: 0.1130 - val_mean_absolute_error: 0.1583\n",
      "Epoch 6/500\n",
      "329/329 - 1s - loss: 0.1170 - mean_absolute_error: 0.1651 - val_loss: 0.1444 - val_mean_absolute_error: 0.2715\n",
      "Epoch 7/500\n",
      "329/329 - 1s - loss: 0.1163 - mean_absolute_error: 0.1658 - val_loss: 0.1410 - val_mean_absolute_error: 0.2573\n",
      "Epoch 8/500\n",
      "329/329 - 1s - loss: 0.1155 - mean_absolute_error: 0.1631 - val_loss: 0.1171 - val_mean_absolute_error: 0.1974\n",
      "Epoch 9/500\n",
      "329/329 - 1s - loss: 0.1155 - mean_absolute_error: 0.1652 - val_loss: 0.1116 - val_mean_absolute_error: 0.1453\n",
      "Epoch 10/500\n",
      "329/329 - 1s - loss: 0.1147 - mean_absolute_error: 0.1637 - val_loss: 0.1132 - val_mean_absolute_error: 0.1597\n",
      "Epoch 11/500\n",
      "329/329 - 1s - loss: 0.1141 - mean_absolute_error: 0.1651 - val_loss: 0.1502 - val_mean_absolute_error: 0.2074\n",
      "Epoch 12/500\n",
      "329/329 - 1s - loss: 0.1146 - mean_absolute_error: 0.1641 - val_loss: 0.1098 - val_mean_absolute_error: 0.1554\n",
      "Epoch 13/500\n",
      "329/329 - 1s - loss: 0.1152 - mean_absolute_error: 0.1640 - val_loss: 0.1133 - val_mean_absolute_error: 0.1519\n",
      "Epoch 14/500\n",
      "329/329 - 1s - loss: 0.1142 - mean_absolute_error: 0.1628 - val_loss: 0.1107 - val_mean_absolute_error: 0.1390\n",
      "Epoch 15/500\n",
      "329/329 - 1s - loss: 0.1135 - mean_absolute_error: 0.1647 - val_loss: 0.1127 - val_mean_absolute_error: 0.1620\n",
      "Epoch 16/500\n",
      "329/329 - 1s - loss: 0.1145 - mean_absolute_error: 0.1633 - val_loss: 0.1133 - val_mean_absolute_error: 0.1453\n",
      "Epoch 17/500\n",
      "329/329 - 1s - loss: 0.1129 - mean_absolute_error: 0.1634 - val_loss: 0.1273 - val_mean_absolute_error: 0.1584\n",
      "Epoch 18/500\n",
      "329/329 - 1s - loss: 0.1120 - mean_absolute_error: 0.1622 - val_loss: 0.1323 - val_mean_absolute_error: 0.1584\n",
      "Epoch 19/500\n",
      "329/329 - 1s - loss: 0.1125 - mean_absolute_error: 0.1629 - val_loss: 0.1119 - val_mean_absolute_error: 0.1806\n",
      "Epoch 20/500\n",
      "329/329 - 1s - loss: 0.1119 - mean_absolute_error: 0.1628 - val_loss: 0.1145 - val_mean_absolute_error: 0.1395\n",
      "Epoch 21/500\n",
      "329/329 - 1s - loss: 0.1125 - mean_absolute_error: 0.1631 - val_loss: 0.1214 - val_mean_absolute_error: 0.1550\n",
      "Epoch 22/500\n",
      "329/329 - 1s - loss: 0.1123 - mean_absolute_error: 0.1629 - val_loss: 0.1086 - val_mean_absolute_error: 0.1400\n",
      "Epoch 23/500\n",
      "329/329 - 1s - loss: 0.1115 - mean_absolute_error: 0.1618 - val_loss: 0.1133 - val_mean_absolute_error: 0.1898\n",
      "Epoch 24/500\n",
      "329/329 - 1s - loss: 0.1116 - mean_absolute_error: 0.1631 - val_loss: 0.1190 - val_mean_absolute_error: 0.1402\n",
      "Epoch 25/500\n",
      "329/329 - 1s - loss: 0.1118 - mean_absolute_error: 0.1632 - val_loss: 0.1068 - val_mean_absolute_error: 0.1439\n",
      "Epoch 26/500\n",
      "329/329 - 1s - loss: 0.1112 - mean_absolute_error: 0.1617 - val_loss: 0.1087 - val_mean_absolute_error: 0.1408\n",
      "Epoch 27/500\n",
      "329/329 - 1s - loss: 0.1107 - mean_absolute_error: 0.1619 - val_loss: 0.1340 - val_mean_absolute_error: 0.1695\n",
      "Epoch 28/500\n",
      "329/329 - 1s - loss: 0.1104 - mean_absolute_error: 0.1621 - val_loss: 0.1078 - val_mean_absolute_error: 0.1464\n",
      "Epoch 29/500\n",
      "329/329 - 1s - loss: 0.1116 - mean_absolute_error: 0.1626 - val_loss: 0.1069 - val_mean_absolute_error: 0.1449\n",
      "Epoch 30/500\n",
      "329/329 - 1s - loss: 0.1097 - mean_absolute_error: 0.1617 - val_loss: 0.1095 - val_mean_absolute_error: 0.1379\n",
      "Epoch 31/500\n",
      "329/329 - 1s - loss: 0.1101 - mean_absolute_error: 0.1627 - val_loss: 0.1167 - val_mean_absolute_error: 0.1403\n",
      "Epoch 32/500\n",
      "329/329 - 1s - loss: 0.1094 - mean_absolute_error: 0.1618 - val_loss: 0.1087 - val_mean_absolute_error: 0.1397\n",
      "Epoch 33/500\n",
      "329/329 - 1s - loss: 0.1087 - mean_absolute_error: 0.1616 - val_loss: 0.1110 - val_mean_absolute_error: 0.1595\n",
      "Epoch 34/500\n",
      "329/329 - 1s - loss: 0.1098 - mean_absolute_error: 0.1624 - val_loss: 0.1212 - val_mean_absolute_error: 0.1523\n",
      "Epoch 35/500\n",
      "329/329 - 1s - loss: 0.1088 - mean_absolute_error: 0.1615 - val_loss: 0.1057 - val_mean_absolute_error: 0.1617\n",
      "Epoch 36/500\n",
      "329/329 - 1s - loss: 0.1100 - mean_absolute_error: 0.1623 - val_loss: 0.1085 - val_mean_absolute_error: 0.1692\n",
      "Epoch 37/500\n",
      "329/329 - 1s - loss: 0.1086 - mean_absolute_error: 0.1623 - val_loss: 0.1083 - val_mean_absolute_error: 0.1403\n",
      "Epoch 38/500\n",
      "329/329 - 1s - loss: 0.1095 - mean_absolute_error: 0.1621 - val_loss: 0.1480 - val_mean_absolute_error: 0.2233\n",
      "Epoch 39/500\n",
      "329/329 - 1s - loss: 0.1077 - mean_absolute_error: 0.1605 - val_loss: 0.1114 - val_mean_absolute_error: 0.1336\n",
      "Epoch 40/500\n",
      "329/329 - 1s - loss: 0.1084 - mean_absolute_error: 0.1616 - val_loss: 0.1032 - val_mean_absolute_error: 0.1429\n",
      "Epoch 41/500\n",
      "329/329 - 1s - loss: 0.1081 - mean_absolute_error: 0.1612 - val_loss: 0.1185 - val_mean_absolute_error: 0.1399\n",
      "Epoch 42/500\n",
      "329/329 - 1s - loss: 0.1074 - mean_absolute_error: 0.1614 - val_loss: 0.1129 - val_mean_absolute_error: 0.1425\n",
      "Epoch 43/500\n",
      "329/329 - 1s - loss: 0.1074 - mean_absolute_error: 0.1615 - val_loss: 0.1152 - val_mean_absolute_error: 0.2069\n",
      "Epoch 44/500\n",
      "329/329 - 1s - loss: 0.1075 - mean_absolute_error: 0.1618 - val_loss: 0.1228 - val_mean_absolute_error: 0.1654\n",
      "Epoch 45/500\n",
      "329/329 - 1s - loss: 0.1074 - mean_absolute_error: 0.1619 - val_loss: 0.1041 - val_mean_absolute_error: 0.1500\n",
      "Epoch 46/500\n",
      "329/329 - 1s - loss: 0.1077 - mean_absolute_error: 0.1620 - val_loss: 0.1068 - val_mean_absolute_error: 0.1570\n",
      "Epoch 47/500\n",
      "329/329 - 1s - loss: 0.1071 - mean_absolute_error: 0.1613 - val_loss: 0.1142 - val_mean_absolute_error: 0.1390\n",
      "Epoch 48/500\n",
      "329/329 - 1s - loss: 0.1070 - mean_absolute_error: 0.1612 - val_loss: 0.1066 - val_mean_absolute_error: 0.1546\n",
      "Epoch 49/500\n",
      "329/329 - 1s - loss: 0.1062 - mean_absolute_error: 0.1611 - val_loss: 0.1100 - val_mean_absolute_error: 0.1476\n",
      "Epoch 50/500\n",
      "329/329 - 1s - loss: 0.1066 - mean_absolute_error: 0.1608 - val_loss: 0.1036 - val_mean_absolute_error: 0.1515\n",
      "Epoch 51/500\n",
      "329/329 - 1s - loss: 0.1064 - mean_absolute_error: 0.1616 - val_loss: 0.1035 - val_mean_absolute_error: 0.1521\n",
      "Epoch 52/500\n",
      "329/329 - 1s - loss: 0.1057 - mean_absolute_error: 0.1611 - val_loss: 0.1038 - val_mean_absolute_error: 0.1519\n",
      "Epoch 53/500\n",
      "329/329 - 1s - loss: 0.1065 - mean_absolute_error: 0.1605 - val_loss: 0.1069 - val_mean_absolute_error: 0.1419\n",
      "Epoch 54/500\n",
      "329/329 - 1s - loss: 0.1059 - mean_absolute_error: 0.1608 - val_loss: 0.1044 - val_mean_absolute_error: 0.1680\n",
      "Epoch 55/500\n",
      "329/329 - 1s - loss: 0.1047 - mean_absolute_error: 0.1612 - val_loss: 0.1150 - val_mean_absolute_error: 0.1687\n",
      "Epoch 56/500\n",
      "329/329 - 1s - loss: 0.1058 - mean_absolute_error: 0.1609 - val_loss: 0.1076 - val_mean_absolute_error: 0.1319\n",
      "Epoch 57/500\n",
      "329/329 - 1s - loss: 0.1057 - mean_absolute_error: 0.1615 - val_loss: 0.1075 - val_mean_absolute_error: 0.1388\n",
      "Epoch 58/500\n",
      "329/329 - 1s - loss: 0.1049 - mean_absolute_error: 0.1599 - val_loss: 0.1084 - val_mean_absolute_error: 0.1316\n",
      "Epoch 59/500\n",
      "329/329 - 1s - loss: 0.1039 - mean_absolute_error: 0.1610 - val_loss: 0.1073 - val_mean_absolute_error: 0.1358\n",
      "Epoch 60/500\n",
      "329/329 - 1s - loss: 0.1056 - mean_absolute_error: 0.1611 - val_loss: 0.1293 - val_mean_absolute_error: 0.2521\n",
      "Epoch 61/500\n",
      "329/329 - 1s - loss: 0.1046 - mean_absolute_error: 0.1612 - val_loss: 0.1057 - val_mean_absolute_error: 0.1485\n",
      "Epoch 62/500\n",
      "329/329 - 1s - loss: 0.1054 - mean_absolute_error: 0.1613 - val_loss: 0.1026 - val_mean_absolute_error: 0.1372\n",
      "Epoch 63/500\n",
      "329/329 - 1s - loss: 0.1052 - mean_absolute_error: 0.1610 - val_loss: 0.0992 - val_mean_absolute_error: 0.1366\n",
      "Epoch 64/500\n",
      "329/329 - 1s - loss: 0.1050 - mean_absolute_error: 0.1611 - val_loss: 0.1106 - val_mean_absolute_error: 0.1588\n",
      "Epoch 65/500\n",
      "329/329 - 1s - loss: 0.1040 - mean_absolute_error: 0.1608 - val_loss: 0.1067 - val_mean_absolute_error: 0.1356\n",
      "Epoch 66/500\n",
      "329/329 - 1s - loss: 0.1045 - mean_absolute_error: 0.1608 - val_loss: 0.1105 - val_mean_absolute_error: 0.1464\n",
      "Epoch 67/500\n",
      "329/329 - 1s - loss: 0.1042 - mean_absolute_error: 0.1600 - val_loss: 0.0996 - val_mean_absolute_error: 0.1461\n",
      "Epoch 68/500\n",
      "329/329 - 1s - loss: 0.1045 - mean_absolute_error: 0.1616 - val_loss: 0.1197 - val_mean_absolute_error: 0.1581\n",
      "Epoch 69/500\n",
      "329/329 - 1s - loss: 0.1033 - mean_absolute_error: 0.1609 - val_loss: 0.1145 - val_mean_absolute_error: 0.2102\n",
      "Epoch 70/500\n",
      "329/329 - 1s - loss: 0.1031 - mean_absolute_error: 0.1610 - val_loss: 0.1135 - val_mean_absolute_error: 0.1418\n",
      "Epoch 71/500\n",
      "329/329 - 1s - loss: 0.1042 - mean_absolute_error: 0.1610 - val_loss: 0.0985 - val_mean_absolute_error: 0.1373\n",
      "Epoch 72/500\n",
      "329/329 - 1s - loss: 0.1036 - mean_absolute_error: 0.1607 - val_loss: 0.1101 - val_mean_absolute_error: 0.1961\n",
      "Epoch 73/500\n",
      "329/329 - 1s - loss: 0.1033 - mean_absolute_error: 0.1609 - val_loss: 0.1101 - val_mean_absolute_error: 0.2016\n",
      "Epoch 74/500\n",
      "329/329 - 1s - loss: 0.1037 - mean_absolute_error: 0.1618 - val_loss: 0.1040 - val_mean_absolute_error: 0.1468\n",
      "Epoch 75/500\n",
      "329/329 - 1s - loss: 0.1044 - mean_absolute_error: 0.1613 - val_loss: 0.1059 - val_mean_absolute_error: 0.1887\n",
      "Epoch 76/500\n",
      "329/329 - 1s - loss: 0.1037 - mean_absolute_error: 0.1603 - val_loss: 0.1146 - val_mean_absolute_error: 0.1542\n",
      "Epoch 77/500\n",
      "329/329 - 1s - loss: 0.1046 - mean_absolute_error: 0.1613 - val_loss: 0.1280 - val_mean_absolute_error: 0.1835\n",
      "Epoch 78/500\n",
      "329/329 - 1s - loss: 0.1037 - mean_absolute_error: 0.1609 - val_loss: 0.1102 - val_mean_absolute_error: 0.1925\n",
      "Time of process for model 3:  132.926247616\n"
     ]
    }
   ],
   "source": [
    "### fit model\n",
    "start3 = time.process_time()\n",
    "history3 = model3.fit(arr_x_train, arr_y_train,\n",
    "    batch_size=64,\n",
    "    epochs=500,\n",
    "    shuffle=True,\n",
    "    verbose=2,\n",
    "    validation_data=(arr_x_valid, arr_y_valid),\n",
    "    callbacks=keras_callbacks)\n",
    "\n",
    "time3 = time.process_time() - start3\n",
    "#time of process\n",
    "print(\"Time of process for model 3: \", time3)"
   ]
  },
  {
   "cell_type": "markdown",
   "metadata": {
    "id": "9Ibp4SGW944j"
   },
   "source": [
    "*The time processing of model is 133s and the final validation MAE for this model was 78.*"
   ]
  },
  {
   "cell_type": "code",
   "execution_count": 37,
   "metadata": {
    "colab": {
     "base_uri": "https://localhost:8080/"
    },
    "executionInfo": {
     "elapsed": 1371,
     "status": "ok",
     "timestamp": 1631281298696,
     "user": {
      "displayName": "Xuan Giang",
      "photoUrl": "https://lh3.googleusercontent.com/a-/AOh14Ggd54OGSnsTVH4f55B9i-PtSGR536j-IdXxTeMFoQ=s64",
      "userId": "06583316585577749974"
     },
     "user_tz": -600
    },
    "id": "mfGGWYWtuvvD",
    "outputId": "18181b5d-b4fb-4ec4-f478-9fbd35c1d9bd"
   },
   "outputs": [
    {
     "name": "stdout",
     "output_type": "stream",
     "text": [
      "Train Mean: 1.0763\n",
      "Train MAE:  0.1902 , Train Loss:  0.1058\n",
      "Val Mean: 1.0877\n",
      "Val MAE:  0.1925 , Val Loss:  0.1102\n"
     ]
    }
   ],
   "source": [
    "### evaluate the model with mae score\n",
    "train_score3 = model3.evaluate(arr_x_train, arr_y_train, verbose=0)\n",
    "valid_score3 = model3.evaluate(arr_x_valid, arr_y_valid, verbose=0)\n",
    "\n",
    "print('Train Mean:', round(PartA_y_train['Total_Consuption'].mean(), 4))\n",
    "print('Train MAE: ', round(train_score3[1], 4), ', Train Loss: ', round(train_score3[0], 4)) \n",
    "print('Val Mean:', round(PartA_y_valid['Total_Consuption'].mean(), 4))\n",
    "print('Val MAE: ', round(valid_score3[1], 4), ', Val Loss: ', round(valid_score3[0], 4))"
   ]
  },
  {
   "cell_type": "code",
   "execution_count": 38,
   "metadata": {
    "colab": {
     "base_uri": "https://localhost:8080/",
     "height": 1000
    },
    "executionInfo": {
     "elapsed": 1195,
     "status": "ok",
     "timestamp": 1631281299889,
     "user": {
      "displayName": "Xuan Giang",
      "photoUrl": "https://lh3.googleusercontent.com/a-/AOh14Ggd54OGSnsTVH4f55B9i-PtSGR536j-IdXxTeMFoQ=s64",
      "userId": "06583316585577749974"
     },
     "user_tz": -600
    },
    "id": "zCEvGJ-OvPqy",
    "outputId": "1c05c74b-0380-4020-d209-91a6852ee93b"
   },
   "outputs": [
    {
     "data": {
      "image/png": "[encoded data removed]",
      "text/plain": [
       "<Figure size 720x576 with 1 Axes>"
      ]
     },
     "metadata": {
      "needs_background": "light"
     },
     "output_type": "display_data"
    },
    {
     "data": {
      "image/png": "[encoded data removed]",
      "text/plain": [
       "<Figure size 720x576 with 1 Axes>"
      ]
     },
     "metadata": {
      "needs_background": "light"
     },
     "output_type": "display_data"
    }
   ],
   "source": [
    "### plot the performance of model\n",
    "hist3 = pd.DataFrame(history3.history)\n",
    "\n",
    "plot_hist(hist3, xsize=10, ysize=8)"
   ]
  },
  {
   "cell_type": "markdown",
   "metadata": {
    "id": "Zvf60gHEh2Ps"
   },
   "source": [
    "*The figure of Training and Validation loss shows that Validation set is too small compared with training set. Because learning curve for training loss that looks like a good fit when it decreased stability to a point. Also, a learning curve for validation loss that shows dramtic movements around the training loss.*\n",
    "\n",
    "*Meanwhile, MAE figure shows the dramatic changes between actual and predicted values of model. To be more specific, MAE of validation at some epoches is very greater or very lower than that of MAE training, and we can see clearly the gap between these values*"
   ]
  },
  {
   "cell_type": "markdown",
   "metadata": {
    "id": "mRaYGZklv1z9"
   },
   "source": [
    "**Model 4**"
   ]
  },
  {
   "cell_type": "code",
   "execution_count": 39,
   "metadata": {
    "colab": {
     "base_uri": "https://localhost:8080/"
    },
    "executionInfo": {
     "elapsed": 42237,
     "status": "ok",
     "timestamp": 1631281342122,
     "user": {
      "displayName": "Xuan Giang",
      "photoUrl": "https://lh3.googleusercontent.com/a-/AOh14Ggd54OGSnsTVH4f55B9i-PtSGR536j-IdXxTeMFoQ=s64",
      "userId": "06583316585577749974"
     },
     "user_tz": -600
    },
    "id": "1Yn-HhfHvWC3",
    "outputId": "41702492-987a-446e-9a23-037a4f709db8"
   },
   "outputs": [
    {
     "name": "stdout",
     "output_type": "stream",
     "text": [
      "Epoch 1/500\n",
      "329/329 - 3s - loss: 0.3588 - mean_absolute_error: 0.3885 - val_loss: 0.1770 - val_mean_absolute_error: 0.2253\n",
      "Epoch 2/500\n",
      "329/329 - 2s - loss: 0.2012 - mean_absolute_error: 0.2722 - val_loss: 0.1420 - val_mean_absolute_error: 0.1844\n",
      "Epoch 3/500\n",
      "329/329 - 2s - loss: 0.1746 - mean_absolute_error: 0.2435 - val_loss: 0.1504 - val_mean_absolute_error: 0.1864\n",
      "Epoch 4/500\n",
      "329/329 - 1s - loss: 0.1603 - mean_absolute_error: 0.2260 - val_loss: 0.1295 - val_mean_absolute_error: 0.1679\n",
      "Epoch 5/500\n",
      "329/329 - 1s - loss: 0.1498 - mean_absolute_error: 0.2143 - val_loss: 0.1298 - val_mean_absolute_error: 0.1700\n",
      "Epoch 6/500\n",
      "329/329 - 1s - loss: 0.1441 - mean_absolute_error: 0.2086 - val_loss: 0.1287 - val_mean_absolute_error: 0.1641\n",
      "Epoch 7/500\n",
      "329/329 - 1s - loss: 0.1400 - mean_absolute_error: 0.2019 - val_loss: 0.1292 - val_mean_absolute_error: 0.1689\n",
      "Epoch 8/500\n",
      "329/329 - 2s - loss: 0.1387 - mean_absolute_error: 0.1994 - val_loss: 0.1313 - val_mean_absolute_error: 0.1584\n",
      "Epoch 9/500\n",
      "329/329 - 1s - loss: 0.1355 - mean_absolute_error: 0.1959 - val_loss: 0.1365 - val_mean_absolute_error: 0.1682\n",
      "Epoch 10/500\n",
      "329/329 - 1s - loss: 0.1353 - mean_absolute_error: 0.1937 - val_loss: 0.1237 - val_mean_absolute_error: 0.1620\n",
      "Epoch 11/500\n",
      "329/329 - 1s - loss: 0.1323 - mean_absolute_error: 0.1911 - val_loss: 0.1266 - val_mean_absolute_error: 0.1785\n",
      "Epoch 12/500\n",
      "329/329 - 1s - loss: 0.1314 - mean_absolute_error: 0.1891 - val_loss: 0.1246 - val_mean_absolute_error: 0.1752\n",
      "Epoch 13/500\n",
      "329/329 - 1s - loss: 0.1314 - mean_absolute_error: 0.1875 - val_loss: 0.1257 - val_mean_absolute_error: 0.2091\n",
      "Epoch 14/500\n",
      "329/329 - 1s - loss: 0.1303 - mean_absolute_error: 0.1883 - val_loss: 0.1269 - val_mean_absolute_error: 0.1743\n",
      "Epoch 15/500\n",
      "329/329 - 1s - loss: 0.1291 - mean_absolute_error: 0.1842 - val_loss: 0.1241 - val_mean_absolute_error: 0.1820\n",
      "Epoch 16/500\n",
      "329/329 - 2s - loss: 0.1279 - mean_absolute_error: 0.1844 - val_loss: 0.1277 - val_mean_absolute_error: 0.1824\n",
      "Epoch 17/500\n",
      "329/329 - 2s - loss: 0.1274 - mean_absolute_error: 0.1827 - val_loss: 0.1277 - val_mean_absolute_error: 0.1926\n",
      "Epoch 18/500\n",
      "329/329 - 2s - loss: 0.1279 - mean_absolute_error: 0.1817 - val_loss: 0.1370 - val_mean_absolute_error: 0.1830\n",
      "Epoch 19/500\n",
      "329/329 - 2s - loss: 0.1271 - mean_absolute_error: 0.1808 - val_loss: 0.1328 - val_mean_absolute_error: 0.1891\n",
      "Epoch 20/500\n",
      "329/329 - 1s - loss: 0.1262 - mean_absolute_error: 0.1802 - val_loss: 0.1299 - val_mean_absolute_error: 0.2032\n",
      "Epoch 21/500\n",
      "329/329 - 1s - loss: 0.1257 - mean_absolute_error: 0.1795 - val_loss: 0.1291 - val_mean_absolute_error: 0.2108\n",
      "Epoch 22/500\n",
      "329/329 - 1s - loss: 0.1246 - mean_absolute_error: 0.1793 - val_loss: 0.1368 - val_mean_absolute_error: 0.1934\n",
      "Epoch 23/500\n",
      "329/329 - 1s - loss: 0.1253 - mean_absolute_error: 0.1788 - val_loss: 0.1300 - val_mean_absolute_error: 0.2040\n",
      "Epoch 24/500\n",
      "329/329 - 2s - loss: 0.1241 - mean_absolute_error: 0.1777 - val_loss: 0.1278 - val_mean_absolute_error: 0.2054\n",
      "Epoch 25/500\n",
      "329/329 - 1s - loss: 0.1245 - mean_absolute_error: 0.1782 - val_loss: 0.1411 - val_mean_absolute_error: 0.2104\n",
      "Epoch 26/500\n",
      "329/329 - 1s - loss: 0.1239 - mean_absolute_error: 0.1762 - val_loss: 0.1418 - val_mean_absolute_error: 0.2118\n",
      "Epoch 27/500\n",
      "329/329 - 1s - loss: 0.1234 - mean_absolute_error: 0.1764 - val_loss: 0.1377 - val_mean_absolute_error: 0.2172\n",
      "Epoch 28/500\n",
      "329/329 - 1s - loss: 0.1241 - mean_absolute_error: 0.1764 - val_loss: 0.1419 - val_mean_absolute_error: 0.2343\n",
      "Time of process for model 4:  56.06772398999999\n"
     ]
    }
   ],
   "source": [
    "### fit model\n",
    "start4 = time.process_time()\n",
    "history4 = model4.fit(arr_x_train, arr_y_train,\n",
    "    batch_size=64,\n",
    "    epochs=500,\n",
    "    shuffle=True,\n",
    "    verbose=2,\n",
    "    validation_data=(arr_x_valid, arr_y_valid),\n",
    "    callbacks=keras_callbacks)\n",
    "\n",
    "time4  = time.process_time() - start4\n",
    "#time of process\n",
    "print(\"Time of process for model 4: \", time4)"
   ]
  },
  {
   "cell_type": "markdown",
   "metadata": {
    "id": "rVPSVVNX9-Fo"
   },
   "source": [
    "*The time processing of model is 56s and the final validation MAE for this model was 28.*"
   ]
  },
  {
   "cell_type": "code",
   "execution_count": 40,
   "metadata": {
    "colab": {
     "base_uri": "https://localhost:8080/"
    },
    "executionInfo": {
     "elapsed": 1067,
     "status": "ok",
     "timestamp": 1631281343185,
     "user": {
      "displayName": "Xuan Giang",
      "photoUrl": "https://lh3.googleusercontent.com/a-/AOh14Ggd54OGSnsTVH4f55B9i-PtSGR536j-IdXxTeMFoQ=s64",
      "userId": "06583316585577749974"
     },
     "user_tz": -600
    },
    "id": "B6bnsoaqvWJS",
    "outputId": "0fe769b8-52a9-4f5b-d160-5d8f416cba33"
   },
   "outputs": [
    {
     "name": "stdout",
     "output_type": "stream",
     "text": [
      "Train Mean: 1.0763\n",
      "Train MAE:  0.2322 , Train Loss:  0.1391\n",
      "Val Mean: 1.0877\n",
      "Val MAE:  0.2343 , Val Loss:  0.1419\n"
     ]
    }
   ],
   "source": [
    "### evaluate the model with mae score\n",
    "train_score4 = model4.evaluate(arr_x_train, arr_y_train, verbose=0)\n",
    "valid_score4 = model4.evaluate(arr_x_valid, arr_y_valid, verbose=0)\n",
    "\n",
    "print('Train Mean:', round(PartA_y_train['Total_Consuption'].mean(), 4))\n",
    "print('Train MAE: ', round(train_score4[1], 4), ', Train Loss: ', round(train_score4[0], 4)) \n",
    "print('Val Mean:', round(PartA_y_valid['Total_Consuption'].mean(), 4))\n",
    "print('Val MAE: ', round(valid_score4[1], 4), ', Val Loss: ', round(valid_score4[0], 4))"
   ]
  },
  {
   "cell_type": "code",
   "execution_count": 41,
   "metadata": {
    "colab": {
     "base_uri": "https://localhost:8080/",
     "height": 1000
    },
    "executionInfo": {
     "elapsed": 1031,
     "status": "ok",
     "timestamp": 1631281344213,
     "user": {
      "displayName": "Xuan Giang",
      "photoUrl": "https://lh3.googleusercontent.com/a-/AOh14Ggd54OGSnsTVH4f55B9i-PtSGR536j-IdXxTeMFoQ=s64",
      "userId": "06583316585577749974"
     },
     "user_tz": -600
    },
    "id": "hQ3kDgvzvWPL",
    "outputId": "434b90db-ec8e-49fc-be58-e9c1d7963ae2"
   },
   "outputs": [
    {
     "data": {
      "image/png": "[encoded data removed]",
      "text/plain": [
       "<Figure size 720x576 with 1 Axes>"
      ]
     },
     "metadata": {
      "needs_background": "light"
     },
     "output_type": "display_data"
    },
    {
     "data": {
      "image/png": "[encoded data removed]",
      "text/plain": [
       "<Figure size 720x576 with 1 Axes>"
      ]
     },
     "metadata": {
      "needs_background": "light"
     },
     "output_type": "display_data"
    }
   ],
   "source": [
    "### plot the performance of model\n",
    "hist4 = pd.DataFrame(history4.history)\n",
    "\n",
    "plot_hist(hist4, xsize=10, ysize=8)"
   ]
  },
  {
   "cell_type": "markdown",
   "metadata": {
    "id": "5kita83crJgi"
   },
   "source": [
    "*Both figures show that the model is overfitting because*\n",
    "\n",
    "    -The plot of training loss continues to decrease with experience.\n",
    "    -The plot of validation loss decreases to a point and begins increasing again."
   ]
  },
  {
   "cell_type": "markdown",
   "metadata": {
    "id": "PyfMtasQv6aG"
   },
   "source": [
    "**Model 5**"
   ]
  },
  {
   "cell_type": "code",
   "execution_count": 80,
   "metadata": {
    "colab": {
     "base_uri": "https://localhost:8080/"
    },
    "executionInfo": {
     "elapsed": 44447,
     "status": "ok",
     "timestamp": 1631282698847,
     "user": {
      "displayName": "Xuan Giang",
      "photoUrl": "https://lh3.googleusercontent.com/a-/AOh14Ggd54OGSnsTVH4f55B9i-PtSGR536j-IdXxTeMFoQ=s64",
      "userId": "06583316585577749974"
     },
     "user_tz": -600
    },
    "id": "O-RYoHasvWvg",
    "outputId": "a627adf7-7f07-43c7-f0fa-d47ebbf2671c"
   },
   "outputs": [
    {
     "name": "stdout",
     "output_type": "stream",
     "text": [
      "Epoch 1/500\n",
      "329/329 - 2s - loss: 0.5203 - mean_absolute_error: 0.5012 - val_loss: 0.2147 - val_mean_absolute_error: 0.3069\n",
      "Epoch 2/500\n",
      "329/329 - 1s - loss: 0.1765 - mean_absolute_error: 0.2529 - val_loss: 0.1493 - val_mean_absolute_error: 0.2067\n",
      "Epoch 3/500\n",
      "329/329 - 1s - loss: 0.1462 - mean_absolute_error: 0.2037 - val_loss: 0.1382 - val_mean_absolute_error: 0.1958\n",
      "Epoch 4/500\n",
      "329/329 - 1s - loss: 0.1380 - mean_absolute_error: 0.1910 - val_loss: 0.1334 - val_mean_absolute_error: 0.1876\n",
      "Epoch 5/500\n",
      "329/329 - 1s - loss: 0.1328 - mean_absolute_error: 0.1841 - val_loss: 0.1302 - val_mean_absolute_error: 0.1878\n",
      "Epoch 6/500\n",
      "329/329 - 1s - loss: 0.1285 - mean_absolute_error: 0.1789 - val_loss: 0.1263 - val_mean_absolute_error: 0.1782\n",
      "Epoch 7/500\n",
      "329/329 - 1s - loss: 0.1244 - mean_absolute_error: 0.1736 - val_loss: 0.1233 - val_mean_absolute_error: 0.1750\n",
      "Epoch 8/500\n",
      "329/329 - 1s - loss: 0.1213 - mean_absolute_error: 0.1687 - val_loss: 0.1218 - val_mean_absolute_error: 0.1777\n",
      "Epoch 9/500\n",
      "329/329 - 1s - loss: 0.1189 - mean_absolute_error: 0.1659 - val_loss: 0.1203 - val_mean_absolute_error: 0.1784\n",
      "Epoch 10/500\n",
      "329/329 - 1s - loss: 0.1176 - mean_absolute_error: 0.1643 - val_loss: 0.1196 - val_mean_absolute_error: 0.1546\n",
      "Epoch 11/500\n",
      "329/329 - 1s - loss: 0.1171 - mean_absolute_error: 0.1628 - val_loss: 0.1187 - val_mean_absolute_error: 0.1585\n",
      "Epoch 12/500\n",
      "329/329 - 1s - loss: 0.1169 - mean_absolute_error: 0.1622 - val_loss: 0.1185 - val_mean_absolute_error: 0.1578\n",
      "Epoch 13/500\n",
      "329/329 - 1s - loss: 0.1167 - mean_absolute_error: 0.1621 - val_loss: 0.1182 - val_mean_absolute_error: 0.1671\n",
      "Epoch 14/500\n",
      "329/329 - 1s - loss: 0.1165 - mean_absolute_error: 0.1620 - val_loss: 0.1185 - val_mean_absolute_error: 0.1737\n",
      "Epoch 15/500\n",
      "329/329 - 1s - loss: 0.1166 - mean_absolute_error: 0.1629 - val_loss: 0.1188 - val_mean_absolute_error: 0.1528\n",
      "Epoch 16/500\n",
      "329/329 - 1s - loss: 0.1166 - mean_absolute_error: 0.1613 - val_loss: 0.1185 - val_mean_absolute_error: 0.1536\n",
      "Epoch 17/500\n",
      "329/329 - 1s - loss: 0.1166 - mean_absolute_error: 0.1617 - val_loss: 0.1180 - val_mean_absolute_error: 0.1573\n",
      "Epoch 18/500\n",
      "329/329 - 1s - loss: 0.1164 - mean_absolute_error: 0.1611 - val_loss: 0.1212 - val_mean_absolute_error: 0.1925\n",
      "Epoch 19/500\n",
      "329/329 - 1s - loss: 0.1165 - mean_absolute_error: 0.1621 - val_loss: 0.1182 - val_mean_absolute_error: 0.1575\n",
      "Epoch 20/500\n",
      "329/329 - 1s - loss: 0.1165 - mean_absolute_error: 0.1615 - val_loss: 0.1182 - val_mean_absolute_error: 0.1706\n",
      "Epoch 21/500\n",
      "329/329 - 1s - loss: 0.1163 - mean_absolute_error: 0.1615 - val_loss: 0.1177 - val_mean_absolute_error: 0.1616\n",
      "Epoch 22/500\n",
      "329/329 - 1s - loss: 0.1162 - mean_absolute_error: 0.1619 - val_loss: 0.1193 - val_mean_absolute_error: 0.1501\n",
      "Epoch 23/500\n",
      "329/329 - 1s - loss: 0.1163 - mean_absolute_error: 0.1610 - val_loss: 0.1213 - val_mean_absolute_error: 0.1473\n",
      "Epoch 24/500\n",
      "329/329 - 1s - loss: 0.1164 - mean_absolute_error: 0.1611 - val_loss: 0.1178 - val_mean_absolute_error: 0.1596\n",
      "Epoch 25/500\n",
      "329/329 - 1s - loss: 0.1163 - mean_absolute_error: 0.1625 - val_loss: 0.1176 - val_mean_absolute_error: 0.1640\n",
      "Epoch 26/500\n",
      "329/329 - 1s - loss: 0.1163 - mean_absolute_error: 0.1614 - val_loss: 0.1178 - val_mean_absolute_error: 0.1673\n",
      "Epoch 27/500\n",
      "329/329 - 1s - loss: 0.1162 - mean_absolute_error: 0.1620 - val_loss: 0.1187 - val_mean_absolute_error: 0.1524\n",
      "Epoch 28/500\n",
      "329/329 - 1s - loss: 0.1162 - mean_absolute_error: 0.1610 - val_loss: 0.1175 - val_mean_absolute_error: 0.1639\n",
      "Epoch 29/500\n",
      "329/329 - 1s - loss: 0.1161 - mean_absolute_error: 0.1614 - val_loss: 0.1181 - val_mean_absolute_error: 0.1675\n",
      "Epoch 30/500\n",
      "329/329 - 1s - loss: 0.1160 - mean_absolute_error: 0.1607 - val_loss: 0.1185 - val_mean_absolute_error: 0.1567\n",
      "Epoch 31/500\n",
      "329/329 - 1s - loss: 0.1164 - mean_absolute_error: 0.1623 - val_loss: 0.1178 - val_mean_absolute_error: 0.1606\n",
      "Epoch 32/500\n",
      "329/329 - 1s - loss: 0.1160 - mean_absolute_error: 0.1612 - val_loss: 0.1179 - val_mean_absolute_error: 0.1695\n",
      "Epoch 33/500\n",
      "329/329 - 1s - loss: 0.1161 - mean_absolute_error: 0.1608 - val_loss: 0.1191 - val_mean_absolute_error: 0.1805\n",
      "Epoch 34/500\n",
      "329/329 - 1s - loss: 0.1159 - mean_absolute_error: 0.1611 - val_loss: 0.1175 - val_mean_absolute_error: 0.1665\n",
      "Epoch 35/500\n",
      "329/329 - 1s - loss: 0.1161 - mean_absolute_error: 0.1613 - val_loss: 0.1179 - val_mean_absolute_error: 0.1547\n",
      "Epoch 36/500\n",
      "329/329 - 1s - loss: 0.1160 - mean_absolute_error: 0.1610 - val_loss: 0.1183 - val_mean_absolute_error: 0.1563\n",
      "Epoch 37/500\n",
      "329/329 - 1s - loss: 0.1159 - mean_absolute_error: 0.1608 - val_loss: 0.1178 - val_mean_absolute_error: 0.1566\n",
      "Epoch 38/500\n",
      "329/329 - 1s - loss: 0.1160 - mean_absolute_error: 0.1610 - val_loss: 0.1175 - val_mean_absolute_error: 0.1629\n",
      "Epoch 39/500\n",
      "329/329 - 1s - loss: 0.1161 - mean_absolute_error: 0.1615 - val_loss: 0.1174 - val_mean_absolute_error: 0.1617\n",
      "Epoch 40/500\n",
      "329/329 - 1s - loss: 0.1158 - mean_absolute_error: 0.1608 - val_loss: 0.1174 - val_mean_absolute_error: 0.1609\n",
      "Epoch 41/500\n",
      "329/329 - 1s - loss: 0.1159 - mean_absolute_error: 0.1611 - val_loss: 0.1179 - val_mean_absolute_error: 0.1544\n",
      "Epoch 42/500\n",
      "329/329 - 1s - loss: 0.1159 - mean_absolute_error: 0.1604 - val_loss: 0.1189 - val_mean_absolute_error: 0.1811\n",
      "Epoch 43/500\n",
      "329/329 - 1s - loss: 0.1159 - mean_absolute_error: 0.1616 - val_loss: 0.1178 - val_mean_absolute_error: 0.1556\n",
      "Time of process for model 5:  60.06723718500007\n"
     ]
    }
   ],
   "source": [
    "### fit model\n",
    "start5 = time.process_time()\n",
    "history5 = model5.fit(arr_x_train, arr_y_train,\n",
    "    batch_size=64,\n",
    "    epochs=500,\n",
    "    shuffle=True,\n",
    "    verbose=2,\n",
    "    validation_data=(arr_x_valid, arr_y_valid),\n",
    "    callbacks=keras_callbacks)\n",
    "\n",
    "time5 = time.process_time() - start5\n",
    "#time of process\n",
    "print(\"Time of process for model 5: \", time5)"
   ]
  },
  {
   "cell_type": "markdown",
   "metadata": {
    "id": "RyHANizj_WAc"
   },
   "source": [
    "*The time processing of model is 60s and the final validation MAE for this model was 43.*"
   ]
  },
  {
   "cell_type": "code",
   "execution_count": 81,
   "metadata": {
    "colab": {
     "base_uri": "https://localhost:8080/"
    },
    "executionInfo": {
     "elapsed": 1470,
     "status": "ok",
     "timestamp": 1631282700306,
     "user": {
      "displayName": "Xuan Giang",
      "photoUrl": "https://lh3.googleusercontent.com/a-/AOh14Ggd54OGSnsTVH4f55B9i-PtSGR536j-IdXxTeMFoQ=s64",
      "userId": "06583316585577749974"
     },
     "user_tz": -600
    },
    "id": "d_co2UUcvWyG",
    "outputId": "95c7a9d2-116f-458f-c054-82867f69997e"
   },
   "outputs": [
    {
     "name": "stdout",
     "output_type": "stream",
     "text": [
      "Train Mean: 1.0763\n",
      "Train MAE:  0.1541 , Train Loss:  0.1155\n",
      "Val Mean: 1.0877\n",
      "Val MAE:  0.1556 , Val Loss:  0.1178\n"
     ]
    }
   ],
   "source": [
    "### evaluate the model with mae score\n",
    "train_score5 = model5.evaluate(arr_x_train, arr_y_train, verbose=0)\n",
    "valid_score5 = model5.evaluate(arr_x_valid, arr_y_valid, verbose=0)\n",
    "\n",
    "print('Train Mean:', round(PartA_y_train['Total_Consuption'].mean(), 4))\n",
    "print('Train MAE: ', round(train_score5[1], 4), ', Train Loss: ', round(train_score5[0], 4)) \n",
    "print('Val Mean:', round(PartA_y_valid['Total_Consuption'].mean(), 4))\n",
    "print('Val MAE: ', round(valid_score5[1], 4), ', Val Loss: ', round(valid_score5[0], 4))"
   ]
  },
  {
   "cell_type": "code",
   "execution_count": 82,
   "metadata": {
    "colab": {
     "base_uri": "https://localhost:8080/",
     "height": 1000
    },
    "executionInfo": {
     "elapsed": 1623,
     "status": "ok",
     "timestamp": 1631282701926,
     "user": {
      "displayName": "Xuan Giang",
      "photoUrl": "https://lh3.googleusercontent.com/a-/AOh14Ggd54OGSnsTVH4f55B9i-PtSGR536j-IdXxTeMFoQ=s64",
      "userId": "06583316585577749974"
     },
     "user_tz": -600
    },
    "id": "DjnOif-uvW16",
    "outputId": "cd0179d1-c5df-4dbe-a0f6-c20066b2490b"
   },
   "outputs": [
    {
     "data": {
      "image/png": "[encoded data removed]",
      "text/plain": [
       "<Figure size 720x576 with 1 Axes>"
      ]
     },
     "metadata": {
      "needs_background": "light"
     },
     "output_type": "display_data"
    },
    {
     "data": {
      "image/png": "[encoded data removed]",
      "text/plain": [
       "<Figure size 720x576 with 1 Axes>"
      ]
     },
     "metadata": {
      "needs_background": "light"
     },
     "output_type": "display_data"
    }
   ],
   "source": [
    "### plot the performance of model\n",
    "hist5 = pd.DataFrame(history5.history)\n",
    "\n",
    "plot_hist(hist5, xsize=10, ysize=8)"
   ]
  },
  {
   "cell_type": "markdown",
   "metadata": {
    "id": "ljuRjznLsWug"
   },
   "source": [
    "*The figure of Training and Validation loss shows that the model is good fit because of two reasons as below:*\n",
    "\n",
    "    * The plot of training loss decreases to a point of stability.\n",
    "    * The plot of validation loss decreases to a point of stability and has a small gap with the training loss.\n",
    "\n",
    "*Also, the figure of MAE training and validation reflects that the MAE validation is not consistanly higher or lower than MAE training which also means the model is not under or overfitting.*\n"
   ]
  },
  {
   "cell_type": "markdown",
   "metadata": {
    "id": "tLBXWEhpYzhg"
   },
   "source": [
    "<a id = \"cell_report\"></a>\n",
    "## 5. Experiments Report"
   ]
  },
  {
   "cell_type": "markdown",
   "metadata": {
    "id": "f4yf9F_ZxQVH"
   },
   "source": [
    "*Provide a summary of experimental results in the table below.*\n",
    "\n",
    "| Model# |  Train MAE | Valid MAE |\n",
    "| :-: | -: | -: |\n",
    "| 1 | 0.1395    | 0.1416|   |\n",
    "| 2 |0.185   | 0.187 |   |\n",
    "| 3 | 0.1902   | 0.1925 |   |\n",
    "| 4 | 0.2232  |  0.2343|   |\n",
    "| 5 | 0.1541   |   0.1556|   |\n",
    "\n",
    "<br>"
   ]
  },
  {
   "cell_type": "markdown",
   "metadata": {
    "id": "D7Q1IVfGQev3"
   },
   "source": [
    "*The time processing (with GPU) of five model as below:*"
   ]
  },
  {
   "cell_type": "markdown",
   "metadata": {
    "id": "cdJanhflQvF3"
   },
   "source": [
    "\n",
    "| Model# |  Time Processing(s) | Params |\n",
    "| :-: | -: | -: |\n",
    "| 1 | 150.987628441 | 7373  |  \n",
    "| 2 | 34.48036289000001 | 7371  |   \n",
    "| 3 | 132.926247616 | 7373  |   \n",
    "| 4 |56.06772398999999  | 2751  |   \n",
    "| 5 | 60.06723718500007 | 243  |   "
   ]
  },
  {
   "cell_type": "markdown",
   "metadata": {
    "id": "KvXte7BzYzhg"
   },
   "source": [
    "*In a paragraph discuss your results. Identify the strengths and weaknesses of the selected models. Which model would you recommend as a final solution? and why?.*\n",
    "<br>"
   ]
  },
  {
   "cell_type": "markdown",
   "metadata": {
    "id": "1FZ_zdQHtZeS"
   },
   "source": [
    "MAE is used to measure accuracy of models. More precisely, this value is lower \n",
    "which also means a good model. From table of MAE summary, all models are quite good (from 0.14 to 0.23).\n"
   ]
  },
  {
   "cell_type": "markdown",
   "metadata": {
    "id": "3ImoBV1OvZnf"
   },
   "source": [
    "However, when using the plot to visulize the model performance, there are some problems. To be more specific, figures of model 1 and 3 show that the validation set is too small compared with training set. Therefore, the validation dataset does not provide sufficient information to evaluate the performance of model. Meanwhile, figure of model 2 shows that the validation set is simpler than training set (validation loss lower than training loss). This also means the model can predict easily the validation set compared with training set. In addition, the figure of model 4 reflects an overfitting of the model performance."
   ]
  },
  {
   "cell_type": "markdown",
   "metadata": {
    "id": "xi1hd2duv-xU"
   },
   "source": [
    "On the other hand, model 5 displays as a good model. Because the plot of training loss decreases to a point of stability while the plot of validation loss decreases to a point of stability and has a small gap with the training loss. Also, the figure of MAE training and validation reflects that the MAE validation is not consistanly higher or lower than MAE training which also means the model is not under or overfitting."
   ]
  },
  {
   "cell_type": "markdown",
   "metadata": {
    "id": "Yd0KCGVbw5Jg"
   },
   "source": [
    "Addition, the MAE of model 5 is very low (0.15), the time processing is 60s, and the params needed is only 197 which also means saving."
   ]
  },
  {
   "cell_type": "markdown",
   "metadata": {
    "id": "9s2EKTiYw_NT"
   },
   "source": [
    "As a consequence, the model 5 should be used for predict the total consumption estimation since the model is very saving, fast and high accuracy."
   ]
  }
 ],
 "metadata": {
  "accelerator": "GPU",
  "colab": {
   "collapsed_sections": [],
   "name": "ThiXuanGiang_Nguyen_MIS780A2PartA.ipynb",
   "provenance": [],
   "toc_visible": true
  },
  "kernelspec": {
   "display_name": "Python 3 (ipykernel)",
   "language": "python",
   "name": "python3"
  },
  "language_info": {
   "codemirror_mode": {
    "name": "ipython",
    "version": 3
   },
   "file_extension": ".py",
   "mimetype": "text/x-python",
   "name": "python",
   "nbconvert_exporter": "python",
   "pygments_lexer": "ipython3",
   "version": "3.11.5"
  }
 },
 "nbformat": 4,
 "nbformat_minor": 1
}

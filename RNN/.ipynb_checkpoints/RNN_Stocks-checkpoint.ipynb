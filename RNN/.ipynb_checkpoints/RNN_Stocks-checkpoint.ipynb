{
 "cells": [
  {
   "cell_type": "markdown",
   "metadata": {
    "id": "SZwQc8iIYzhL"
   },
   "source": [
    "## Part C:  Deep Learning for Time Series Data"
   ]
  },
  {
   "cell_type": "markdown",
   "metadata": {
    "id": "epCN92jil8-T"
   },
   "source": [
    "*Markdown formats: All tables and images will be aligned to the left."
   ]
  },
  {
   "cell_type": "code",
   "execution_count": 3946,
   "metadata": {
    "colab": {
     "base_uri": "https://localhost:8080/",
     "height": 17
    },
    "executionInfo": {
     "elapsed": 263,
     "status": "ok",
     "timestamp": 1631359257250,
     "user": {
      "displayName": "Xuan Giang",
      "photoUrl": "https://lh3.googleusercontent.com/a-/AOh14Ggd54OGSnsTVH4f55B9i-PtSGR536j-IdXxTeMFoQ=s64",
      "userId": "06583316585577749974"
     },
     "user_tz": -600
    },
    "id": "8dCcx2fPl8PO",
    "outputId": "a38ed08c-5f01-4f94-a76b-b87f87c29465"
   },
   "outputs": [
    {
     "data": {
      "text/html": [
       "<style>table {float:left}</style>\n",
       "<style>img {float:left}</style>"
      ],
      "text/plain": [
       "<IPython.core.display.HTML object>"
      ]
     },
     "metadata": {},
     "output_type": "display_data"
    }
   ],
   "source": [
    "%%html\n",
    "<style>table {float:left}</style>\n",
    "<style>img {float:left}</style>"
   ]
  },
  {
   "cell_type": "code",
   "execution_count": 3947,
   "metadata": {
    "colab": {
     "base_uri": "https://localhost:8080/"
    },
    "executionInfo": {
     "elapsed": 556,
     "status": "ok",
     "timestamp": 1631359258258,
     "user": {
      "displayName": "Xuan Giang",
      "photoUrl": "https://lh3.googleusercontent.com/a-/AOh14Ggd54OGSnsTVH4f55B9i-PtSGR536j-IdXxTeMFoQ=s64",
      "userId": "06583316585577749974"
     },
     "user_tz": -600
    },
    "id": "rb62usCiA_uC",
    "outputId": "e25fdd5d-1bdc-4b4a-a12a-3ae4c3570324"
   },
   "outputs": [
    {
     "name": "stdout",
     "output_type": "stream",
     "text": [
      "Drive already mounted at /content/drive; to attempt to forcibly remount, call drive.mount(\"/content/drive\", force_remount=True).\n"
     ]
    }
   ],
   "source": [
    "from google.colab import drive\n",
    "drive.mount('/content/drive')"
   ]
  },
  {
   "cell_type": "markdown",
   "metadata": {
    "id": "u1mFlc8QmIjL"
   },
   "source": [
    "<hr style=\"height:1px;border:none;color:#333;background-color:#333;\" />\n",
    "\n",
    "**Task Description**\n",
    "\n",
    "1. Construct a Recurrent Neural Network for multivariate time series prediction.\n",
    "2. Run this notebook and record results.\n",
    "3. Generate prediction and compare with the original timeseries. \n",
    "\n",
    "<hr style=\"height:1px;border:none;color:#333;background-color:#333;\" />"
   ]
  },
  {
   "cell_type": "markdown",
   "metadata": {
    "id": "QoBihZe6_Acd"
   },
   "source": [
    "## Table of Content\n",
    "   \n",
    "1. [Notebook Preparation](#cell_Preparation)\n",
    "\n",
    "2. [Data Preprocessing](#cell_Preprocessing)\n",
    "\n",
    "3. [Model Construction](#cell_model)\n",
    "\n",
    "4. [Model Execution](#cell_execution)\n",
    " \n",
    "5. [Prediction](#cell_report)\n",
    "\n"
   ]
  },
  {
   "cell_type": "markdown",
   "metadata": {
    "id": "ufoVVdqtYzhU"
   },
   "source": [
    "<a id = \"cell_Preparation\"></a>\n",
    "## 1. Notebook Preparation"
   ]
  },
  {
   "cell_type": "markdown",
   "metadata": {
    "id": "njDKx1_JYzhU"
   },
   "source": [
    "*Load all required Python libraries (e.g. pandas, tensorflow, keras).*"
   ]
  },
  {
   "cell_type": "code",
   "execution_count": 3948,
   "metadata": {
    "colab": {
     "base_uri": "https://localhost:8080/"
    },
    "executionInfo": {
     "elapsed": 55,
     "status": "ok",
     "timestamp": 1631359258259,
     "user": {
      "displayName": "Xuan Giang",
      "photoUrl": "https://lh3.googleusercontent.com/a-/AOh14Ggd54OGSnsTVH4f55B9i-PtSGR536j-IdXxTeMFoQ=s64",
      "userId": "06583316585577749974"
     },
     "user_tz": -600
    },
    "id": "BQo3ipOhYzhV",
    "outputId": "c77d4365-c635-4b5c-be6e-4d5e2427f33a"
   },
   "outputs": [
    {
     "data": {
      "text/plain": [
       "[PhysicalDevice(name='/physical_device:GPU:0', device_type='GPU')]"
      ]
     },
     "execution_count": 3948,
     "metadata": {},
     "output_type": "execute_result"
    }
   ],
   "source": [
    "from __future__ import print_function\n",
    "import os\n",
    "import math\n",
    "import datetime\n",
    "import numpy as np\n",
    "import seaborn as sns\n",
    "import pandas as pd\n",
    "import matplotlib.pyplot as plt\n",
    "import xgboost as xgb\n",
    "import tensorflow as tf\n",
    "import time\n",
    "tf.config.list_physical_devices('GPU')"
   ]
  },
  {
   "cell_type": "code",
   "execution_count": 3949,
   "metadata": {
    "executionInfo": {
     "elapsed": 41,
     "status": "ok",
     "timestamp": 1631359258260,
     "user": {
      "displayName": "Xuan Giang",
      "photoUrl": "https://lh3.googleusercontent.com/a-/AOh14Ggd54OGSnsTVH4f55B9i-PtSGR536j-IdXxTeMFoQ=s64",
      "userId": "06583316585577749974"
     },
     "user_tz": -600
    },
    "id": "KDOk3exlBQpd"
   },
   "outputs": [],
   "source": [
    "from sklearn.preprocessing import StandardScaler, MinMaxScaler\n",
    "from sklearn.impute import SimpleImputer\n",
    "from sklearn.model_selection import cross_val_score\n",
    "from sklearn.model_selection import KFold\n",
    "from sklearn.model_selection import train_test_split\n",
    "from sklearn.preprocessing import OneHotEncoder\n",
    "from sklearn.pipeline import Pipeline\n",
    "from sklearn.metrics import mean_absolute_error"
   ]
  },
  {
   "cell_type": "code",
   "execution_count": 3950,
   "metadata": {
    "executionInfo": {
     "elapsed": 42,
     "status": "ok",
     "timestamp": 1631359258262,
     "user": {
      "displayName": "Xuan Giang",
      "photoUrl": "https://lh3.googleusercontent.com/a-/AOh14Ggd54OGSnsTVH4f55B9i-PtSGR536j-IdXxTeMFoQ=s64",
      "userId": "06583316585577749974"
     },
     "user_tz": -600
    },
    "id": "30nsOlMlBVry"
   },
   "outputs": [],
   "source": [
    "from tensorflow.keras.models import Sequential\n",
    "from tensorflow.keras import metrics\n",
    "from tensorflow.keras import regularizers\n",
    "from tensorflow.keras.models import Sequential\n",
    "from tensorflow.keras.layers import Input, Dense, GRU, Embedding, BatchNormalization\n",
    "from tensorflow.keras.layers import Conv2D, MaxPooling2D, Dropout, Flatten, Activation\n",
    "from tensorflow.keras.optimizers import Adam, Nadam, RMSprop, SGD, Adadelta\n",
    "from tensorflow.keras.callbacks import EarlyStopping, ModelCheckpoint, TensorBoard, ReduceLROnPlateau\n",
    "from tensorflow.keras.backend import square, mean\n",
    "from tensorflow.keras.models import load_model\n",
    "from tensorflow.keras.datasets import imdb\n",
    "from tensorflow.keras.models import Sequential\n",
    "from tensorflow.keras.layers import LSTM\n",
    "from tensorflow.keras.layers import Conv1D\n",
    "from tensorflow.keras.layers import MaxPooling1D\n",
    "from keras.layers import LeakyReLU\n",
    "from tensorflow.keras.preprocessing import sequence\n",
    "from tensorflow.keras.initializers import RandomUniform"
   ]
  },
  {
   "cell_type": "code",
   "execution_count": 3951,
   "metadata": {
    "executionInfo": {
     "elapsed": 42,
     "status": "ok",
     "timestamp": 1631359258264,
     "user": {
      "displayName": "Xuan Giang",
      "photoUrl": "https://lh3.googleusercontent.com/a-/AOh14Ggd54OGSnsTVH4f55B9i-PtSGR536j-IdXxTeMFoQ=s64",
      "userId": "06583316585577749974"
     },
     "user_tz": -600
    },
    "id": "m7lqsmUDnRBu"
   },
   "outputs": [],
   "source": [
    "%matplotlib inline\n",
    "pd.set_option('display.max_columns', None)\n",
    "pd.set_option('display.max_rows', None)\n",
    "plt.rcParams[\"figure.figsize\"] = [10, 5]"
   ]
  },
  {
   "cell_type": "markdown",
   "metadata": {
    "id": "FPNzh1OOShwz"
   },
   "source": [
    "***Allows display of data frames side by side.***"
   ]
  },
  {
   "cell_type": "code",
   "execution_count": 3952,
   "metadata": {
    "executionInfo": {
     "elapsed": 42,
     "status": "ok",
     "timestamp": 1631359258265,
     "user": {
      "displayName": "Xuan Giang",
      "photoUrl": "https://lh3.googleusercontent.com/a-/AOh14Ggd54OGSnsTVH4f55B9i-PtSGR536j-IdXxTeMFoQ=s64",
      "userId": "06583316585577749974"
     },
     "user_tz": -600
    },
    "id": "jy4Ef-9Jaw5M"
   },
   "outputs": [],
   "source": [
    "from IPython.display import display_html\n",
    "def display_side_by_side(*args):\n",
    "    html_str=''\n",
    "    for df in args:\n",
    "        html_str+=df.to_html()\n",
    "    display_html(html_str.replace('table','table style=\"display:inline\"'),raw=True)"
   ]
  },
  {
   "cell_type": "markdown",
   "metadata": {
    "id": "X0GEQmxQTSTq"
   },
   "source": [
    "***Store the model performance***"
   ]
  },
  {
   "cell_type": "code",
   "execution_count": 3953,
   "metadata": {
    "executionInfo": {
     "elapsed": 39,
     "status": "ok",
     "timestamp": 1631359258266,
     "user": {
      "displayName": "Xuan Giang",
      "photoUrl": "https://lh3.googleusercontent.com/a-/AOh14Ggd54OGSnsTVH4f55B9i-PtSGR536j-IdXxTeMFoQ=s64",
      "userId": "06583316585577749974"
     },
     "user_tz": -600
    },
    "id": "K5cn8tBJaw_D"
   },
   "outputs": [],
   "source": [
    "# Initiates collections of model performance\n",
    "def start_hist():\n",
    "    return {}\n",
    "\n",
    "# Adds more performance indicators to history\n",
    "def collect_hist(accum_hist, next_hist):\n",
    "    # Get all keys\n",
    "    keys = list(next_hist.keys())\n",
    "    for k in keys:\n",
    "        if k in accum_hist:\n",
    "            accum_hist[k].extend(next_hist[k])\n",
    "        else:\n",
    "            accum_hist[k] = next_hist[k]\n",
    "    return accum_hist"
   ]
  },
  {
   "cell_type": "markdown",
   "metadata": {
    "id": "gLv8L6fITkeQ"
   },
   "source": [
    "***Define the function to plot the training history, i.e. the Mean Absolute Error and Loss (Mean Squared Error), which were both defined at the time of model compilation***"
   ]
  },
  {
   "cell_type": "code",
   "execution_count": 3954,
   "metadata": {
    "executionInfo": {
     "elapsed": 39,
     "status": "ok",
     "timestamp": 1631359258267,
     "user": {
      "displayName": "Xuan Giang",
      "photoUrl": "https://lh3.googleusercontent.com/a-/AOh14Ggd54OGSnsTVH4f55B9i-PtSGR536j-IdXxTeMFoQ=s64",
      "userId": "06583316585577749974"
     },
     "user_tz": -600
    },
    "id": "86iKthQta1op"
   },
   "outputs": [],
   "source": [
    "def plot_hist(h, xsize=6, ysize=5):\n",
    "    # Prepare plotting\n",
    "    fig_size = plt.rcParams[\"figure.figsize\"]\n",
    "    plt.rcParams[\"figure.figsize\"] = [xsize, ysize]\n",
    "    \n",
    "    # Get training and validation keys\n",
    "    ks = list(h.keys())\n",
    "    n2 = math.floor(len(ks)/2)\n",
    "    train_keys = ks[0:n2]\n",
    "    valid_keys = ks[n2:2*n2]\n",
    "    \n",
    "    # summarize history for different metrics\n",
    "    for i in range(n2):\n",
    "        plt.plot(h[train_keys[i]])\n",
    "        plt.plot(h[valid_keys[i]])\n",
    "        plt.title('Training vs Validation '+train_keys[i])\n",
    "        plt.ylabel(train_keys[i])\n",
    "        plt.xlabel('Epoch')\n",
    "        plt.legend(['Train', 'Validation'], loc='upper left')\n",
    "        plt.draw()\n",
    "        plt.show()\n",
    "    \n",
    "    return"
   ]
  },
  {
   "cell_type": "markdown",
   "metadata": {
    "id": "nqPl5gh_YzhX"
   },
   "source": [
    "<a id = \"cell_Preprocessing\"></a>\n",
    "## 2. Data Preprocessing"
   ]
  },
  {
   "cell_type": "markdown",
   "metadata": {
    "id": "vKlthRTNYzhY"
   },
   "source": [
    "*Load data from file and carry out necessary preprocessing.*"
   ]
  },
  {
   "cell_type": "code",
   "execution_count": 3955,
   "metadata": {
    "colab": {
     "base_uri": "https://localhost:8080/",
     "height": 376
    },
    "executionInfo": {
     "elapsed": 39,
     "status": "ok",
     "timestamp": 1631359258268,
     "user": {
      "displayName": "Xuan Giang",
      "photoUrl": "https://lh3.googleusercontent.com/a-/AOh14Ggd54OGSnsTVH4f55B9i-PtSGR536j-IdXxTeMFoQ=s64",
      "userId": "06583316585577749974"
     },
     "user_tz": -600
    },
    "id": "xUrPcLEzYzhY",
    "outputId": "a75cb2b7-30d7-4cca-de94-2c551e7dcd8f"
   },
   "outputs": [
    {
     "name": "stdout",
     "output_type": "stream",
     "text": [
      "Stock data shape:  (2516, 10)\n"
     ]
    },
    {
     "data": {
      "text/html": [
       "<div>\n",
       "<style scoped>\n",
       "    .dataframe tbody tr th:only-of-type {\n",
       "        vertical-align: middle;\n",
       "    }\n",
       "\n",
       "    .dataframe tbody tr th {\n",
       "        vertical-align: top;\n",
       "    }\n",
       "\n",
       "    .dataframe thead th {\n",
       "        text-align: right;\n",
       "    }\n",
       "</style>\n",
       "<table border=\"1\" class=\"dataframe\">\n",
       "  <thead>\n",
       "    <tr style=\"text-align: right;\">\n",
       "      <th></th>\n",
       "      <th>Date</th>\n",
       "      <th>Day</th>\n",
       "      <th>HPQ</th>\n",
       "      <th>GOOGL</th>\n",
       "      <th>MSFT</th>\n",
       "      <th>IBM</th>\n",
       "      <th>INTC</th>\n",
       "      <th>ADBE</th>\n",
       "      <th>AMZN</th>\n",
       "      <th>AAPL</th>\n",
       "    </tr>\n",
       "  </thead>\n",
       "  <tbody>\n",
       "    <tr>\n",
       "      <th>0</th>\n",
       "      <td>1/4/10 12:00 AM</td>\n",
       "      <td>14612</td>\n",
       "      <td>23.819256</td>\n",
       "      <td>313.688690</td>\n",
       "      <td>30.950001</td>\n",
       "      <td>132.449997</td>\n",
       "      <td>20.879999</td>\n",
       "      <td>37.090000</td>\n",
       "      <td>133.899994</td>\n",
       "      <td>30.572857</td>\n",
       "    </tr>\n",
       "    <tr>\n",
       "      <th>1</th>\n",
       "      <td>1/5/10 12:00 AM</td>\n",
       "      <td>14613</td>\n",
       "      <td>23.919165</td>\n",
       "      <td>312.307312</td>\n",
       "      <td>30.959999</td>\n",
       "      <td>130.850006</td>\n",
       "      <td>20.870001</td>\n",
       "      <td>37.700001</td>\n",
       "      <td>134.690002</td>\n",
       "      <td>30.625713</td>\n",
       "    </tr>\n",
       "    <tr>\n",
       "      <th>2</th>\n",
       "      <td>1/6/10 12:00 AM</td>\n",
       "      <td>14614</td>\n",
       "      <td>23.696640</td>\n",
       "      <td>304.434448</td>\n",
       "      <td>30.770000</td>\n",
       "      <td>130.000000</td>\n",
       "      <td>20.799999</td>\n",
       "      <td>37.619999</td>\n",
       "      <td>132.250000</td>\n",
       "      <td>30.138571</td>\n",
       "    </tr>\n",
       "    <tr>\n",
       "      <th>3</th>\n",
       "      <td>1/7/10 12:00 AM</td>\n",
       "      <td>14615</td>\n",
       "      <td>23.705723</td>\n",
       "      <td>297.347351</td>\n",
       "      <td>30.450001</td>\n",
       "      <td>129.550003</td>\n",
       "      <td>20.600000</td>\n",
       "      <td>36.889999</td>\n",
       "      <td>130.000000</td>\n",
       "      <td>30.082857</td>\n",
       "    </tr>\n",
       "    <tr>\n",
       "      <th>4</th>\n",
       "      <td>1/8/10 12:00 AM</td>\n",
       "      <td>14616</td>\n",
       "      <td>23.882833</td>\n",
       "      <td>301.311310</td>\n",
       "      <td>30.660000</td>\n",
       "      <td>130.850006</td>\n",
       "      <td>20.830000</td>\n",
       "      <td>36.689999</td>\n",
       "      <td>133.520004</td>\n",
       "      <td>30.282858</td>\n",
       "    </tr>\n",
       "    <tr>\n",
       "      <th>5</th>\n",
       "      <td>1/11/10 12:00 AM</td>\n",
       "      <td>14619</td>\n",
       "      <td>23.810173</td>\n",
       "      <td>300.855865</td>\n",
       "      <td>30.270000</td>\n",
       "      <td>129.479996</td>\n",
       "      <td>20.950001</td>\n",
       "      <td>36.209999</td>\n",
       "      <td>130.309998</td>\n",
       "      <td>30.015715</td>\n",
       "    </tr>\n",
       "    <tr>\n",
       "      <th>6</th>\n",
       "      <td>1/12/10 12:00 AM</td>\n",
       "      <td>14620</td>\n",
       "      <td>23.601271</td>\n",
       "      <td>295.535522</td>\n",
       "      <td>30.070000</td>\n",
       "      <td>130.509995</td>\n",
       "      <td>20.610001</td>\n",
       "      <td>35.660000</td>\n",
       "      <td>127.349998</td>\n",
       "      <td>29.674286</td>\n",
       "    </tr>\n",
       "    <tr>\n",
       "      <th>7</th>\n",
       "      <td>1/13/10 12:00 AM</td>\n",
       "      <td>14621</td>\n",
       "      <td>23.714806</td>\n",
       "      <td>293.838837</td>\n",
       "      <td>30.350000</td>\n",
       "      <td>130.229996</td>\n",
       "      <td>20.959999</td>\n",
       "      <td>36.279999</td>\n",
       "      <td>129.110001</td>\n",
       "      <td>30.092857</td>\n",
       "    </tr>\n",
       "    <tr>\n",
       "      <th>8</th>\n",
       "      <td>1/14/10 12:00 AM</td>\n",
       "      <td>14622</td>\n",
       "      <td>23.846502</td>\n",
       "      <td>295.220215</td>\n",
       "      <td>30.959999</td>\n",
       "      <td>132.309998</td>\n",
       "      <td>21.480000</td>\n",
       "      <td>35.900002</td>\n",
       "      <td>127.349998</td>\n",
       "      <td>29.918571</td>\n",
       "    </tr>\n",
       "    <tr>\n",
       "      <th>9</th>\n",
       "      <td>1/15/10 12:00 AM</td>\n",
       "      <td>14623</td>\n",
       "      <td>23.828339</td>\n",
       "      <td>290.290283</td>\n",
       "      <td>30.860001</td>\n",
       "      <td>131.779999</td>\n",
       "      <td>20.799999</td>\n",
       "      <td>35.869999</td>\n",
       "      <td>127.139999</td>\n",
       "      <td>29.418571</td>\n",
       "    </tr>\n",
       "  </tbody>\n",
       "</table>\n",
       "</div>"
      ],
      "text/plain": [
       "               Date    Day        HPQ       GOOGL       MSFT         IBM  \\\n",
       "0   1/4/10 12:00 AM  14612  23.819256  313.688690  30.950001  132.449997   \n",
       "1   1/5/10 12:00 AM  14613  23.919165  312.307312  30.959999  130.850006   \n",
       "2   1/6/10 12:00 AM  14614  23.696640  304.434448  30.770000  130.000000   \n",
       "3   1/7/10 12:00 AM  14615  23.705723  297.347351  30.450001  129.550003   \n",
       "4   1/8/10 12:00 AM  14616  23.882833  301.311310  30.660000  130.850006   \n",
       "5  1/11/10 12:00 AM  14619  23.810173  300.855865  30.270000  129.479996   \n",
       "6  1/12/10 12:00 AM  14620  23.601271  295.535522  30.070000  130.509995   \n",
       "7  1/13/10 12:00 AM  14621  23.714806  293.838837  30.350000  130.229996   \n",
       "8  1/14/10 12:00 AM  14622  23.846502  295.220215  30.959999  132.309998   \n",
       "9  1/15/10 12:00 AM  14623  23.828339  290.290283  30.860001  131.779999   \n",
       "\n",
       "        INTC       ADBE        AMZN       AAPL  \n",
       "0  20.879999  37.090000  133.899994  30.572857  \n",
       "1  20.870001  37.700001  134.690002  30.625713  \n",
       "2  20.799999  37.619999  132.250000  30.138571  \n",
       "3  20.600000  36.889999  130.000000  30.082857  \n",
       "4  20.830000  36.689999  133.520004  30.282858  \n",
       "5  20.950001  36.209999  130.309998  30.015715  \n",
       "6  20.610001  35.660000  127.349998  29.674286  \n",
       "7  20.959999  36.279999  129.110001  30.092857  \n",
       "8  21.480000  35.900002  127.349998  29.918571  \n",
       "9  20.799999  35.869999  127.139999  29.418571  "
      ]
     },
     "execution_count": 3955,
     "metadata": {},
     "output_type": "execute_result"
    }
   ],
   "source": [
    "# Load data\n",
    "data_PartC = pd.read_csv('/content/drive/MyDrive/MIS780/A2/MIS780A2-DataSets/PartC-Stocks.csv') \n",
    "print('Stock data shape: ', data_PartC.shape) #print shape of data set\n",
    "data_PartC.head(10) #print 10 first rows\n"
   ]
  },
  {
   "cell_type": "code",
   "execution_count": 3956,
   "metadata": {
    "colab": {
     "base_uri": "https://localhost:8080/",
     "height": 444
    },
    "executionInfo": {
     "elapsed": 29,
     "status": "ok",
     "timestamp": 1631359258269,
     "user": {
      "displayName": "Xuan Giang",
      "photoUrl": "https://lh3.googleusercontent.com/a-/AOh14Ggd54OGSnsTVH4f55B9i-PtSGR536j-IdXxTeMFoQ=s64",
      "userId": "06583316585577749974"
     },
     "user_tz": -600
    },
    "id": "f0bEeME5bQY-",
    "outputId": "1e0eb953-3535-40b6-e320-6c9ccc88af0c"
   },
   "outputs": [
    {
     "data": {
      "text/html": [
       "<div>\n",
       "<style scoped>\n",
       "    .dataframe tbody tr th:only-of-type {\n",
       "        vertical-align: middle;\n",
       "    }\n",
       "\n",
       "    .dataframe tbody tr th {\n",
       "        vertical-align: top;\n",
       "    }\n",
       "\n",
       "    .dataframe thead th {\n",
       "        text-align: right;\n",
       "    }\n",
       "</style>\n",
       "<table border=\"1\" class=\"dataframe\">\n",
       "  <thead>\n",
       "    <tr style=\"text-align: right;\">\n",
       "      <th></th>\n",
       "      <th>Date</th>\n",
       "      <th>Day</th>\n",
       "      <th>HPQ</th>\n",
       "      <th>GOOGL</th>\n",
       "      <th>MSFT</th>\n",
       "      <th>IBM</th>\n",
       "      <th>INTC</th>\n",
       "      <th>ADBE</th>\n",
       "      <th>AMZN</th>\n",
       "      <th>AAPL</th>\n",
       "    </tr>\n",
       "  </thead>\n",
       "  <tbody>\n",
       "    <tr>\n",
       "      <th>count</th>\n",
       "      <td>2516</td>\n",
       "      <td>2516.000000</td>\n",
       "      <td>2516.000000</td>\n",
       "      <td>2516.000000</td>\n",
       "      <td>2516.000000</td>\n",
       "      <td>2516.000000</td>\n",
       "      <td>2516.000000</td>\n",
       "      <td>2516.000000</td>\n",
       "      <td>2516.000000</td>\n",
       "      <td>2516.000000</td>\n",
       "    </tr>\n",
       "    <tr>\n",
       "      <th>unique</th>\n",
       "      <td>2516</td>\n",
       "      <td>NaN</td>\n",
       "      <td>NaN</td>\n",
       "      <td>NaN</td>\n",
       "      <td>NaN</td>\n",
       "      <td>NaN</td>\n",
       "      <td>NaN</td>\n",
       "      <td>NaN</td>\n",
       "      <td>NaN</td>\n",
       "      <td>NaN</td>\n",
       "    </tr>\n",
       "    <tr>\n",
       "      <th>top</th>\n",
       "      <td>3/6/17 12:00 AM</td>\n",
       "      <td>NaN</td>\n",
       "      <td>NaN</td>\n",
       "      <td>NaN</td>\n",
       "      <td>NaN</td>\n",
       "      <td>NaN</td>\n",
       "      <td>NaN</td>\n",
       "      <td>NaN</td>\n",
       "      <td>NaN</td>\n",
       "      <td>NaN</td>\n",
       "    </tr>\n",
       "    <tr>\n",
       "      <th>freq</th>\n",
       "      <td>1</td>\n",
       "      <td>NaN</td>\n",
       "      <td>NaN</td>\n",
       "      <td>NaN</td>\n",
       "      <td>NaN</td>\n",
       "      <td>NaN</td>\n",
       "      <td>NaN</td>\n",
       "      <td>NaN</td>\n",
       "      <td>NaN</td>\n",
       "      <td>NaN</td>\n",
       "    </tr>\n",
       "    <tr>\n",
       "      <th>mean</th>\n",
       "      <td>NaN</td>\n",
       "      <td>16435.030604</td>\n",
       "      <td>16.078941</td>\n",
       "      <td>652.111853</td>\n",
       "      <td>56.322166</td>\n",
       "      <td>162.001892</td>\n",
       "      <td>32.489364</td>\n",
       "      <td>104.480763</td>\n",
       "      <td>676.207079</td>\n",
       "      <td>110.345293</td>\n",
       "    </tr>\n",
       "    <tr>\n",
       "      <th>std</th>\n",
       "      <td>NaN</td>\n",
       "      <td>1054.325591</td>\n",
       "      <td>4.776089</td>\n",
       "      <td>328.755875</td>\n",
       "      <td>33.863428</td>\n",
       "      <td>24.271917</td>\n",
       "      <td>10.704391</td>\n",
       "      <td>84.966762</td>\n",
       "      <td>580.440707</td>\n",
       "      <td>56.172958</td>\n",
       "    </tr>\n",
       "    <tr>\n",
       "      <th>min</th>\n",
       "      <td>NaN</td>\n",
       "      <td>14612.000000</td>\n",
       "      <td>5.317893</td>\n",
       "      <td>218.253250</td>\n",
       "      <td>23.010000</td>\n",
       "      <td>107.570000</td>\n",
       "      <td>17.670000</td>\n",
       "      <td>22.690001</td>\n",
       "      <td>108.610001</td>\n",
       "      <td>27.435715</td>\n",
       "    </tr>\n",
       "    <tr>\n",
       "      <th>25%</th>\n",
       "      <td>NaN</td>\n",
       "      <td>15521.250000</td>\n",
       "      <td>12.189729</td>\n",
       "      <td>317.869110</td>\n",
       "      <td>29.559999</td>\n",
       "      <td>143.037495</td>\n",
       "      <td>23.257500</td>\n",
       "      <td>34.274999</td>\n",
       "      <td>227.597496</td>\n",
       "      <td>64.714285</td>\n",
       "    </tr>\n",
       "    <tr>\n",
       "      <th>50%</th>\n",
       "      <td>NaN</td>\n",
       "      <td>16435.000000</td>\n",
       "      <td>15.887779</td>\n",
       "      <td>570.769989</td>\n",
       "      <td>44.400002</td>\n",
       "      <td>159.529999</td>\n",
       "      <td>30.860001</td>\n",
       "      <td>72.904999</td>\n",
       "      <td>375.140015</td>\n",
       "      <td>99.480000</td>\n",
       "    </tr>\n",
       "    <tr>\n",
       "      <th>75%</th>\n",
       "      <td>NaN</td>\n",
       "      <td>17346.750000</td>\n",
       "      <td>19.865320</td>\n",
       "      <td>947.542480</td>\n",
       "      <td>70.940002</td>\n",
       "      <td>184.007504</td>\n",
       "      <td>36.902501</td>\n",
       "      <td>143.597496</td>\n",
       "      <td>967.847488</td>\n",
       "      <td>150.552502</td>\n",
       "    </tr>\n",
       "    <tr>\n",
       "      <th>max</th>\n",
       "      <td>NaN</td>\n",
       "      <td>18260.000000</td>\n",
       "      <td>26.420000</td>\n",
       "      <td>1362.469971</td>\n",
       "      <td>158.960007</td>\n",
       "      <td>215.800003</td>\n",
       "      <td>60.080002</td>\n",
       "      <td>331.200012</td>\n",
       "      <td>2039.510010</td>\n",
       "      <td>293.649994</td>\n",
       "    </tr>\n",
       "  </tbody>\n",
       "</table>\n",
       "</div>"
      ],
      "text/plain": [
       "                   Date           Day          HPQ        GOOGL         MSFT  \\\n",
       "count              2516   2516.000000  2516.000000  2516.000000  2516.000000   \n",
       "unique             2516           NaN          NaN          NaN          NaN   \n",
       "top     3/6/17 12:00 AM           NaN          NaN          NaN          NaN   \n",
       "freq                  1           NaN          NaN          NaN          NaN   \n",
       "mean                NaN  16435.030604    16.078941   652.111853    56.322166   \n",
       "std                 NaN   1054.325591     4.776089   328.755875    33.863428   \n",
       "min                 NaN  14612.000000     5.317893   218.253250    23.010000   \n",
       "25%                 NaN  15521.250000    12.189729   317.869110    29.559999   \n",
       "50%                 NaN  16435.000000    15.887779   570.769989    44.400002   \n",
       "75%                 NaN  17346.750000    19.865320   947.542480    70.940002   \n",
       "max                 NaN  18260.000000    26.420000  1362.469971   158.960007   \n",
       "\n",
       "                IBM         INTC         ADBE         AMZN         AAPL  \n",
       "count   2516.000000  2516.000000  2516.000000  2516.000000  2516.000000  \n",
       "unique          NaN          NaN          NaN          NaN          NaN  \n",
       "top             NaN          NaN          NaN          NaN          NaN  \n",
       "freq            NaN          NaN          NaN          NaN          NaN  \n",
       "mean     162.001892    32.489364   104.480763   676.207079   110.345293  \n",
       "std       24.271917    10.704391    84.966762   580.440707    56.172958  \n",
       "min      107.570000    17.670000    22.690001   108.610001    27.435715  \n",
       "25%      143.037495    23.257500    34.274999   227.597496    64.714285  \n",
       "50%      159.529999    30.860001    72.904999   375.140015    99.480000  \n",
       "75%      184.007504    36.902501   143.597496   967.847488   150.552502  \n",
       "max      215.800003    60.080002   331.200012  2039.510010   293.649994  "
      ]
     },
     "execution_count": 3956,
     "metadata": {},
     "output_type": "execute_result"
    }
   ],
   "source": [
    "# Description of dataset\n",
    "data_PartC.describe(include = 'all')"
   ]
  },
  {
   "cell_type": "code",
   "execution_count": 3957,
   "metadata": {
    "colab": {
     "base_uri": "https://localhost:8080/"
    },
    "executionInfo": {
     "elapsed": 28,
     "status": "ok",
     "timestamp": 1631359258270,
     "user": {
      "displayName": "Xuan Giang",
      "photoUrl": "https://lh3.googleusercontent.com/a-/AOh14Ggd54OGSnsTVH4f55B9i-PtSGR536j-IdXxTeMFoQ=s64",
      "userId": "06583316585577749974"
     },
     "user_tz": -600
    },
    "id": "xCfHxSlpcxoZ",
    "outputId": "d4cff327-6993-4b8a-c172-48edeac75397"
   },
   "outputs": [
    {
     "data": {
      "text/plain": [
       "Date     0\n",
       "Day      0\n",
       "HPQ      0\n",
       "GOOGL    0\n",
       "MSFT     0\n",
       "IBM      0\n",
       "INTC     0\n",
       "ADBE     0\n",
       "AMZN     0\n",
       "AAPL     0\n",
       "dtype: int64"
      ]
     },
     "execution_count": 3957,
     "metadata": {},
     "output_type": "execute_result"
    }
   ],
   "source": [
    "# Identify null values\n",
    "data_PartC.isnull().sum()"
   ]
  },
  {
   "cell_type": "markdown",
   "metadata": {
    "id": "afzjwf-AYzha"
   },
   "source": [
    "*Plot the time series data of some variables.*"
   ]
  },
  {
   "cell_type": "markdown",
   "metadata": {
    "id": "eRJBnmHCedlR"
   },
   "source": [
    "**The figure of HHQ and AAPL**"
   ]
  },
  {
   "cell_type": "code",
   "execution_count": 3958,
   "metadata": {
    "colab": {
     "base_uri": "https://localhost:8080/",
     "height": 351
    },
    "executionInfo": {
     "elapsed": 940,
     "status": "ok",
     "timestamp": 1631359259186,
     "user": {
      "displayName": "Xuan Giang",
      "photoUrl": "https://lh3.googleusercontent.com/a-/AOh14Ggd54OGSnsTVH4f55B9i-PtSGR536j-IdXxTeMFoQ=s64",
      "userId": "06583316585577749974"
     },
     "user_tz": -600
    },
    "id": "NH6TLSO7eQ7s",
    "outputId": "1598aa42-02ac-437a-c9e4-5f615c6048cb"
   },
   "outputs": [
    {
     "data": {
      "text/plain": [
       "<matplotlib.axes._subplots.AxesSubplot at 0x7fba17b3de90>"
      ]
     },
     "execution_count": 3958,
     "metadata": {},
     "output_type": "execute_result"
    },
    {
     "data": {
      "image/png": "[encoded data removed]",
      "text/plain": [
       "<Figure size 720x360 with 2 Axes>"
      ]
     },
     "metadata": {
      "needs_background": "light"
     },
     "output_type": "display_data"
    }
   ],
   "source": [
    "ax1 = data_PartC['HPQ'].plot(color=\"lightblue\", alpha=0.9)\n",
    "ax1.set(xlabel='Days', ylabel='Price of HPQ')\n",
    "ax2 = plt.twinx()\n",
    "ax2.set(ylabel='Price of AAPL')\n",
    "data_PartC['AAPL'].plot(color=\"coral\", alpha=0.5, ax=ax2)"
   ]
  },
  {
   "cell_type": "markdown",
   "metadata": {
    "id": "rGdzKWBfT0ki"
   },
   "source": [
    "*Overall, the price of HHQ witnessed a slight decrease from 24 to 22 in the period of 2010 to 2019. To be more specific, there were two falls in the price of HHQ, from 25 to 5 (in 2012) and increase to 20 (in 2013) then decline to 10 (in 2014). This price peak at 27 (in 2016) and decreased to 22 at the end of the period.*\n",
    "\n",
    "*Meanwhile, the price of AAPL dramatically surged from 10 to 300. More precisely, the value of AAPL witnessed 4 waves (2012, 2014, 2016 and 2019). It gradually increased to 120 and then decreased to 60 and then keep continuing to 225 before having a significant reduction to 140. After that, this price surged to 300 at the end of 2019.*"
   ]
  },
  {
   "cell_type": "markdown",
   "metadata": {
    "id": "3cy0MjKeehsa"
   },
   "source": [
    "**The figure of GOOGL and AMZN**"
   ]
  },
  {
   "cell_type": "code",
   "execution_count": 3959,
   "metadata": {
    "colab": {
     "base_uri": "https://localhost:8080/",
     "height": 351
    },
    "executionInfo": {
     "elapsed": 17,
     "status": "ok",
     "timestamp": 1631359259187,
     "user": {
      "displayName": "Xuan Giang",
      "photoUrl": "https://lh3.googleusercontent.com/a-/AOh14Ggd54OGSnsTVH4f55B9i-PtSGR536j-IdXxTeMFoQ=s64",
      "userId": "06583316585577749974"
     },
     "user_tz": -600
    },
    "id": "l11BDcY5f71i",
    "outputId": "6d290759-aba5-4414-9b05-bcf861f386cd"
   },
   "outputs": [
    {
     "data": {
      "text/plain": [
       "<matplotlib.axes._subplots.AxesSubplot at 0x7fba0e512b90>"
      ]
     },
     "execution_count": 3959,
     "metadata": {},
     "output_type": "execute_result"
    },
    {
     "data": {
      "image/png": "[encoded data removed]",
      "text/plain": [
       "<Figure size 720x360 with 2 Axes>"
      ]
     },
     "metadata": {
      "needs_background": "light"
     },
     "output_type": "display_data"
    }
   ],
   "source": [
    "ax1 = data_PartC['GOOGL'].plot(color=\"yellow\", alpha=0.9)\n",
    "ax1.set(xlabel='Days', ylabel='Price of GOOGL')\n",
    "ax2 = plt.twinx()\n",
    "ax2.set(ylabel='Price of AMZN')\n",
    "data_PartC['AMZN'].plot(color=\"red\", alpha=0.5, ax=ax2)"
   ]
  },
  {
   "cell_type": "markdown",
   "metadata": {
    "id": "WtcalsHPZG1c"
   },
   "source": [
    "*It can be seen that, the price of GOOGL and AMZN witnessed an significant increase from 2010 to 2019. To be more specific, the value of GOOGL rise from 218 to 1360 while AMZN was 108 to 2039.*\n",
    "\n",
    "*However, the price of GOOGL had two falls in 2016 and 2017, 1300 decrease to 1000 then increase to 1200 and decrease to 1100 again. Meanwhile, AMZN fell from 2000 to 1300.*"
   ]
  },
  {
   "cell_type": "markdown",
   "metadata": {
    "id": "82Tk2T07enap"
   },
   "source": [
    "**The figure of MSFT and ADBE**"
   ]
  },
  {
   "cell_type": "code",
   "execution_count": 3960,
   "metadata": {
    "colab": {
     "base_uri": "https://localhost:8080/",
     "height": 351
    },
    "executionInfo": {
     "elapsed": 955,
     "status": "ok",
     "timestamp": 1631359260131,
     "user": {
      "displayName": "Xuan Giang",
      "photoUrl": "https://lh3.googleusercontent.com/a-/AOh14Ggd54OGSnsTVH4f55B9i-PtSGR536j-IdXxTeMFoQ=s64",
      "userId": "06583316585577749974"
     },
     "user_tz": -600
    },
    "id": "1uKsVHAgf87I",
    "outputId": "a00116fb-5128-4dc8-864b-ecebb7a2ef09"
   },
   "outputs": [
    {
     "data": {
      "text/plain": [
       "<matplotlib.axes._subplots.AxesSubplot at 0x7fba0f3b5790>"
      ]
     },
     "execution_count": 3960,
     "metadata": {},
     "output_type": "execute_result"
    },
    {
     "data": {
      "image/png": "[encoded data removed]",
      "text/plain": [
       "<Figure size 720x360 with 2 Axes>"
      ]
     },
     "metadata": {
      "needs_background": "light"
     },
     "output_type": "display_data"
    }
   ],
   "source": [
    "ax1 = data_PartC['MSFT'].plot(color=\"pink\", alpha=0.9)\n",
    "ax1.set(xlabel='Days', ylabel='Price of MSFT')\n",
    "ax2 = plt.twinx()\n",
    "ax2.set(ylabel='Price of ADBE')\n",
    "data_PartC['ADBE'].plot(color=\"black\", alpha=0.5, ax=ax2)"
   ]
  },
  {
   "cell_type": "markdown",
   "metadata": {
    "id": "V3KRQFDtaW5s"
   },
   "source": [
    "*Similarly, the price of MSFT and ADBE also increase in the period of 2010 and 2019. Also, these stocks had the fall in the same year (2017) before rise again at the end of 2019.*"
   ]
  },
  {
   "cell_type": "markdown",
   "metadata": {
    "id": "xg7C_FPSeqxK"
   },
   "source": [
    "**The figure of IBM and INTC**"
   ]
  },
  {
   "cell_type": "code",
   "execution_count": 3961,
   "metadata": {
    "colab": {
     "base_uri": "https://localhost:8080/",
     "height": 352
    },
    "executionInfo": {
     "elapsed": 34,
     "status": "ok",
     "timestamp": 1631359260133,
     "user": {
      "displayName": "Xuan Giang",
      "photoUrl": "https://lh3.googleusercontent.com/a-/AOh14Ggd54OGSnsTVH4f55B9i-PtSGR536j-IdXxTeMFoQ=s64",
      "userId": "06583316585577749974"
     },
     "user_tz": -600
    },
    "id": "KKBcB7_Sf9cM",
    "outputId": "2e65937f-cabd-4f30-dc18-0565f8eaab30"
   },
   "outputs": [
    {
     "data": {
      "text/plain": [
       "<matplotlib.axes._subplots.AxesSubplot at 0x7fba0748e290>"
      ]
     },
     "execution_count": 3961,
     "metadata": {},
     "output_type": "execute_result"
    },
    {
     "data": {
      "image/png": "[encoded data removed]",
      "text/plain": [
       "<Figure size 720x360 with 2 Axes>"
      ]
     },
     "metadata": {
      "needs_background": "light"
     },
     "output_type": "display_data"
    }
   ],
   "source": [
    "ax1 = data_PartC['IBM'].plot(color=\"blue\", alpha=0.9)\n",
    "ax1.set(xlabel='Days', ylabel='Price of IBM')\n",
    "ax2 = plt.twinx()\n",
    "ax2.set(ylabel='Price of INTC')\n",
    "data_PartC['INTC'].plot(color=\"green\", alpha=0.5, ax=ax2)"
   ]
  },
  {
   "cell_type": "markdown",
   "metadata": {
    "id": "Rp8qP02VcYu5"
   },
   "source": [
    "*It can be seen that the price of IBM did not have difference in the period of 2010 and 2019. Although, this price surge from 130 to 210 (in 2012), it fell to 120 in 2014 and keep decreasing to 107 (in 2016). In 2019, it came back at the price same as 2010.*\n",
    "\n",
    "*Meanwhile, INTC witnessed a dramatic change in this period. More precisely, it had a noisy movement, but it still surged from 20 to 60.*"
   ]
  },
  {
   "cell_type": "markdown",
   "metadata": {
    "id": "xEv6xwVsz68R"
   },
   "source": [
    "**Since we dont have missing values so that data imputation is ignored**"
   ]
  },
  {
   "cell_type": "code",
   "execution_count": 3962,
   "metadata": {
    "executionInfo": {
     "elapsed": 26,
     "status": "ok",
     "timestamp": 1631359260133,
     "user": {
      "displayName": "Xuan Giang",
      "photoUrl": "https://lh3.googleusercontent.com/a-/AOh14Ggd54OGSnsTVH4f55B9i-PtSGR536j-IdXxTeMFoQ=s64",
      "userId": "06583316585577749974"
     },
     "user_tz": -600
    },
    "id": "zWW9M69Kz7_Q"
   },
   "outputs": [],
   "source": [
    "def data_resample(data_res):\n",
    "\n",
    "    data_res = data_res.copy()\n",
    "    \n",
    "    # Create a sorted index from date\n",
    "    data_res['Date'] = pd.to_datetime(data_res['Date'])\n",
    "    data_res.index = data_res['Date']\n",
    "    data_res.sort_index(inplace=True)\n",
    "    del data_res['Date']\n",
    "\n",
    "    # Upsample so the time-series has data for every day\n",
    "    data_res = data_res.resample('D')\n",
    "\n",
    "    # Fill in missing values by interpolating in between existing records\n",
    "    data_res = data_res.interpolate(method='time')\n",
    "\n",
    "    # Remove any empty rows that may have been created in this process\n",
    "    data_res = data_res.dropna(how='all')\n",
    "    \n",
    "    # Location is no longer needed\n",
    "    del data_res['Day']\n",
    "\n",
    "    return data_res"
   ]
  },
  {
   "cell_type": "code",
   "execution_count": 3963,
   "metadata": {
    "colab": {
     "base_uri": "https://localhost:8080/",
     "height": 390
    },
    "executionInfo": {
     "elapsed": 26,
     "status": "ok",
     "timestamp": 1631359260133,
     "user": {
      "displayName": "Xuan Giang",
      "photoUrl": "https://lh3.googleusercontent.com/a-/AOh14Ggd54OGSnsTVH4f55B9i-PtSGR536j-IdXxTeMFoQ=s64",
      "userId": "06583316585577749974"
     },
     "user_tz": -600
    },
    "id": "icn46iGGFPtW",
    "outputId": "d63eacc9-d124-4e43-e202-2d8caaaa3d2a"
   },
   "outputs": [
    {
     "data": {
      "text/html": [
       "<div>\n",
       "<style scoped>\n",
       "    .dataframe tbody tr th:only-of-type {\n",
       "        vertical-align: middle;\n",
       "    }\n",
       "\n",
       "    .dataframe tbody tr th {\n",
       "        vertical-align: top;\n",
       "    }\n",
       "\n",
       "    .dataframe thead th {\n",
       "        text-align: right;\n",
       "    }\n",
       "</style>\n",
       "<table border=\"1\" class=\"dataframe\">\n",
       "  <thead>\n",
       "    <tr style=\"text-align: right;\">\n",
       "      <th></th>\n",
       "      <th>HPQ</th>\n",
       "      <th>GOOGL</th>\n",
       "      <th>MSFT</th>\n",
       "      <th>IBM</th>\n",
       "      <th>INTC</th>\n",
       "      <th>ADBE</th>\n",
       "      <th>AMZN</th>\n",
       "      <th>AAPL</th>\n",
       "    </tr>\n",
       "    <tr>\n",
       "      <th>Date</th>\n",
       "      <th></th>\n",
       "      <th></th>\n",
       "      <th></th>\n",
       "      <th></th>\n",
       "      <th></th>\n",
       "      <th></th>\n",
       "      <th></th>\n",
       "      <th></th>\n",
       "    </tr>\n",
       "  </thead>\n",
       "  <tbody>\n",
       "    <tr>\n",
       "      <th>2010-01-04</th>\n",
       "      <td>23.819256</td>\n",
       "      <td>313.688690</td>\n",
       "      <td>30.950001</td>\n",
       "      <td>132.449997</td>\n",
       "      <td>20.879999</td>\n",
       "      <td>37.090000</td>\n",
       "      <td>133.899994</td>\n",
       "      <td>30.572857</td>\n",
       "    </tr>\n",
       "    <tr>\n",
       "      <th>2010-01-05</th>\n",
       "      <td>23.919165</td>\n",
       "      <td>312.307312</td>\n",
       "      <td>30.959999</td>\n",
       "      <td>130.850006</td>\n",
       "      <td>20.870001</td>\n",
       "      <td>37.700001</td>\n",
       "      <td>134.690002</td>\n",
       "      <td>30.625713</td>\n",
       "    </tr>\n",
       "    <tr>\n",
       "      <th>2010-01-06</th>\n",
       "      <td>23.696640</td>\n",
       "      <td>304.434448</td>\n",
       "      <td>30.770000</td>\n",
       "      <td>130.000000</td>\n",
       "      <td>20.799999</td>\n",
       "      <td>37.619999</td>\n",
       "      <td>132.250000</td>\n",
       "      <td>30.138571</td>\n",
       "    </tr>\n",
       "    <tr>\n",
       "      <th>2010-01-07</th>\n",
       "      <td>23.705723</td>\n",
       "      <td>297.347351</td>\n",
       "      <td>30.450001</td>\n",
       "      <td>129.550003</td>\n",
       "      <td>20.600000</td>\n",
       "      <td>36.889999</td>\n",
       "      <td>130.000000</td>\n",
       "      <td>30.082857</td>\n",
       "    </tr>\n",
       "    <tr>\n",
       "      <th>2010-01-08</th>\n",
       "      <td>23.882833</td>\n",
       "      <td>301.311310</td>\n",
       "      <td>30.660000</td>\n",
       "      <td>130.850006</td>\n",
       "      <td>20.830000</td>\n",
       "      <td>36.689999</td>\n",
       "      <td>133.520004</td>\n",
       "      <td>30.282858</td>\n",
       "    </tr>\n",
       "    <tr>\n",
       "      <th>2010-01-09</th>\n",
       "      <td>23.858613</td>\n",
       "      <td>301.159495</td>\n",
       "      <td>30.530000</td>\n",
       "      <td>130.393336</td>\n",
       "      <td>20.870000</td>\n",
       "      <td>36.529999</td>\n",
       "      <td>132.450002</td>\n",
       "      <td>30.193810</td>\n",
       "    </tr>\n",
       "    <tr>\n",
       "      <th>2010-01-10</th>\n",
       "      <td>23.834393</td>\n",
       "      <td>301.007680</td>\n",
       "      <td>30.400000</td>\n",
       "      <td>129.936666</td>\n",
       "      <td>20.910000</td>\n",
       "      <td>36.369999</td>\n",
       "      <td>131.380000</td>\n",
       "      <td>30.104762</td>\n",
       "    </tr>\n",
       "    <tr>\n",
       "      <th>2010-01-11</th>\n",
       "      <td>23.810173</td>\n",
       "      <td>300.855865</td>\n",
       "      <td>30.270000</td>\n",
       "      <td>129.479996</td>\n",
       "      <td>20.950001</td>\n",
       "      <td>36.209999</td>\n",
       "      <td>130.309998</td>\n",
       "      <td>30.015715</td>\n",
       "    </tr>\n",
       "    <tr>\n",
       "      <th>2010-01-12</th>\n",
       "      <td>23.601271</td>\n",
       "      <td>295.535522</td>\n",
       "      <td>30.070000</td>\n",
       "      <td>130.509995</td>\n",
       "      <td>20.610001</td>\n",
       "      <td>35.660000</td>\n",
       "      <td>127.349998</td>\n",
       "      <td>29.674286</td>\n",
       "    </tr>\n",
       "    <tr>\n",
       "      <th>2010-01-13</th>\n",
       "      <td>23.714806</td>\n",
       "      <td>293.838837</td>\n",
       "      <td>30.350000</td>\n",
       "      <td>130.229996</td>\n",
       "      <td>20.959999</td>\n",
       "      <td>36.279999</td>\n",
       "      <td>129.110001</td>\n",
       "      <td>30.092857</td>\n",
       "    </tr>\n",
       "  </tbody>\n",
       "</table>\n",
       "</div>"
      ],
      "text/plain": [
       "                  HPQ       GOOGL       MSFT         IBM       INTC  \\\n",
       "Date                                                                  \n",
       "2010-01-04  23.819256  313.688690  30.950001  132.449997  20.879999   \n",
       "2010-01-05  23.919165  312.307312  30.959999  130.850006  20.870001   \n",
       "2010-01-06  23.696640  304.434448  30.770000  130.000000  20.799999   \n",
       "2010-01-07  23.705723  297.347351  30.450001  129.550003  20.600000   \n",
       "2010-01-08  23.882833  301.311310  30.660000  130.850006  20.830000   \n",
       "2010-01-09  23.858613  301.159495  30.530000  130.393336  20.870000   \n",
       "2010-01-10  23.834393  301.007680  30.400000  129.936666  20.910000   \n",
       "2010-01-11  23.810173  300.855865  30.270000  129.479996  20.950001   \n",
       "2010-01-12  23.601271  295.535522  30.070000  130.509995  20.610001   \n",
       "2010-01-13  23.714806  293.838837  30.350000  130.229996  20.959999   \n",
       "\n",
       "                 ADBE        AMZN       AAPL  \n",
       "Date                                          \n",
       "2010-01-04  37.090000  133.899994  30.572857  \n",
       "2010-01-05  37.700001  134.690002  30.625713  \n",
       "2010-01-06  37.619999  132.250000  30.138571  \n",
       "2010-01-07  36.889999  130.000000  30.082857  \n",
       "2010-01-08  36.689999  133.520004  30.282858  \n",
       "2010-01-09  36.529999  132.450002  30.193810  \n",
       "2010-01-10  36.369999  131.380000  30.104762  \n",
       "2010-01-11  36.209999  130.309998  30.015715  \n",
       "2010-01-12  35.660000  127.349998  29.674286  \n",
       "2010-01-13  36.279999  129.110001  30.092857  "
      ]
     },
     "execution_count": 3963,
     "metadata": {},
     "output_type": "execute_result"
    }
   ],
   "source": [
    "# Apply resample to data partC\n",
    "data_PartC_RNN = data_resample(data_PartC)\n",
    "data_PartC_RNN.head(10)"
   ]
  },
  {
   "cell_type": "code",
   "execution_count": 3964,
   "metadata": {
    "colab": {
     "base_uri": "https://localhost:8080/"
    },
    "executionInfo": {
     "elapsed": 25,
     "status": "ok",
     "timestamp": 1631359260134,
     "user": {
      "displayName": "Xuan Giang",
      "photoUrl": "https://lh3.googleusercontent.com/a-/AOh14Ggd54OGSnsTVH4f55B9i-PtSGR536j-IdXxTeMFoQ=s64",
      "userId": "06583316585577749974"
     },
     "user_tz": -600
    },
    "id": "kdeEWi7kFR-8",
    "outputId": "6e45dcb6-3e91-492c-ff4a-3f61eeabb12c"
   },
   "outputs": [
    {
     "name": "stdout",
     "output_type": "stream",
     "text": [
      "<class 'pandas.core.frame.DataFrame'>\n",
      "DatetimeIndex: 3649 entries, 2010-01-04 to 2019-12-31\n",
      "Freq: D\n",
      "Data columns (total 8 columns):\n",
      " #   Column  Non-Null Count  Dtype  \n",
      "---  ------  --------------  -----  \n",
      " 0   HPQ     3649 non-null   float64\n",
      " 1   GOOGL   3649 non-null   float64\n",
      " 2   MSFT    3649 non-null   float64\n",
      " 3   IBM     3649 non-null   float64\n",
      " 4   INTC    3649 non-null   float64\n",
      " 5   ADBE    3649 non-null   float64\n",
      " 6   AMZN    3649 non-null   float64\n",
      " 7   AAPL    3649 non-null   float64\n",
      "dtypes: float64(8)\n",
      "memory usage: 256.6 KB\n"
     ]
    }
   ],
   "source": [
    "# Observation the data type\n",
    "data_PartC_RNN.info()"
   ]
  },
  {
   "cell_type": "code",
   "execution_count": 3965,
   "metadata": {
    "colab": {
     "base_uri": "https://localhost:8080/"
    },
    "executionInfo": {
     "elapsed": 21,
     "status": "ok",
     "timestamp": 1631359260134,
     "user": {
      "displayName": "Xuan Giang",
      "photoUrl": "https://lh3.googleusercontent.com/a-/AOh14Ggd54OGSnsTVH4f55B9i-PtSGR536j-IdXxTeMFoQ=s64",
      "userId": "06583316585577749974"
     },
     "user_tz": -600
    },
    "id": "XFm9lOhkGiWP",
    "outputId": "99356d0e-c635-4d7c-e190-fec08242c467"
   },
   "outputs": [
    {
     "data": {
      "text/plain": [
       "HPQ      0\n",
       "GOOGL    0\n",
       "MSFT     0\n",
       "IBM      0\n",
       "INTC     0\n",
       "ADBE     0\n",
       "AMZN     0\n",
       "AAPL     0\n",
       "dtype: int64"
      ]
     },
     "execution_count": 3965,
     "metadata": {},
     "output_type": "execute_result"
    }
   ],
   "source": [
    "# Identify null values\n",
    "data_PartC_RNN.isnull().sum()"
   ]
  },
  {
   "cell_type": "code",
   "execution_count": 3966,
   "metadata": {
    "colab": {
     "base_uri": "https://localhost:8080/",
     "height": 362
    },
    "executionInfo": {
     "elapsed": 974,
     "status": "ok",
     "timestamp": 1631359261091,
     "user": {
      "displayName": "Xuan Giang",
      "photoUrl": "https://lh3.googleusercontent.com/a-/AOh14Ggd54OGSnsTVH4f55B9i-PtSGR536j-IdXxTeMFoQ=s64",
      "userId": "06583316585577749974"
     },
     "user_tz": -600
    },
    "id": "tsW1PucisyXh",
    "outputId": "5359a565-af18-40e4-f0c4-f3c1d66a5ae7"
   },
   "outputs": [
    {
     "data": {
      "text/plain": [
       "[Text(0, 0.5, 'Price'), Text(0.5, 0, 'Date')]"
      ]
     },
     "execution_count": 3966,
     "metadata": {},
     "output_type": "execute_result"
    },
    {
     "data": {
      "image/png": "[encoded data removed]",
      "text/plain": [
       "<Figure size 720x360 with 1 Axes>"
      ]
     },
     "metadata": {
      "needs_background": "light"
     },
     "output_type": "display_data"
    }
   ],
   "source": [
    "#Plot the price of AAPL in the 2015\n",
    "ax1 = data_PartC_RNN['AAPL']['2015-01-01':'2015-12-30'].plot()\n",
    "ax1.set(xlabel='Date', ylabel='Price')"
   ]
  },
  {
   "cell_type": "markdown",
   "metadata": {
    "id": "h_VvVKpZjP6u"
   },
   "source": [
    "*The price was 110 in Jannuary, soared to 135 in March, then decrease to 102 at the end of August before come back to stating price at the end of 2015.*"
   ]
  },
  {
   "cell_type": "markdown",
   "metadata": {
    "id": "u9VREgPrmMM6"
   },
   "source": [
    "*Split the data (e.g 0.7/0.3) and prepare the data for training and testing. Note that we will try to make prediction two days ahead (hint: shift the targeted variables two days backward to use as label). Clear indicates which variables are used as predictors in your code and explanation.*"
   ]
  },
  {
   "cell_type": "code",
   "execution_count": 3967,
   "metadata": {
    "colab": {
     "base_uri": "https://localhost:8080/",
     "height": 235
    },
    "executionInfo": {
     "elapsed": 34,
     "status": "ok",
     "timestamp": 1631359261091,
     "user": {
      "displayName": "Xuan Giang",
      "photoUrl": "https://lh3.googleusercontent.com/a-/AOh14Ggd54OGSnsTVH4f55B9i-PtSGR536j-IdXxTeMFoQ=s64",
      "userId": "06583316585577749974"
     },
     "user_tz": -600
    },
    "id": "vVd8ZiyqFZpc",
    "outputId": "6020a6ea-2b37-42b3-8482-3037cca4b307"
   },
   "outputs": [
    {
     "data": {
      "text/html": [
       "<div>\n",
       "<style scoped>\n",
       "    .dataframe tbody tr th:only-of-type {\n",
       "        vertical-align: middle;\n",
       "    }\n",
       "\n",
       "    .dataframe tbody tr th {\n",
       "        vertical-align: top;\n",
       "    }\n",
       "\n",
       "    .dataframe thead th {\n",
       "        text-align: right;\n",
       "    }\n",
       "</style>\n",
       "<table border=\"1\" class=\"dataframe\">\n",
       "  <thead>\n",
       "    <tr style=\"text-align: right;\">\n",
       "      <th></th>\n",
       "      <th>AAPL</th>\n",
       "    </tr>\n",
       "    <tr>\n",
       "      <th>Date</th>\n",
       "      <th></th>\n",
       "    </tr>\n",
       "  </thead>\n",
       "  <tbody>\n",
       "    <tr>\n",
       "      <th>2010-01-04</th>\n",
       "      <td>30.138571</td>\n",
       "    </tr>\n",
       "    <tr>\n",
       "      <th>2010-01-05</th>\n",
       "      <td>30.082857</td>\n",
       "    </tr>\n",
       "    <tr>\n",
       "      <th>2010-01-06</th>\n",
       "      <td>30.282858</td>\n",
       "    </tr>\n",
       "    <tr>\n",
       "      <th>2010-01-07</th>\n",
       "      <td>30.193810</td>\n",
       "    </tr>\n",
       "    <tr>\n",
       "      <th>2010-01-08</th>\n",
       "      <td>30.104762</td>\n",
       "    </tr>\n",
       "  </tbody>\n",
       "</table>\n",
       "</div>"
      ],
      "text/plain": [
       "                 AAPL\n",
       "Date                 \n",
       "2010-01-04  30.138571\n",
       "2010-01-05  30.082857\n",
       "2010-01-06  30.282858\n",
       "2010-01-07  30.193810\n",
       "2010-01-08  30.104762"
      ]
     },
     "execution_count": 3967,
     "metadata": {},
     "output_type": "execute_result"
    }
   ],
   "source": [
    "# Select target column\n",
    "target_code = ['AAPL']\n",
    "horizon = 2 # to shift the targeted variables two days backward to use as label\n",
    "\n",
    "data_PartC_RNN_targets = data_PartC_RNN[target_code].shift(-horizon)\n",
    "data_PartC_RNN_targets.head()"
   ]
  },
  {
   "cell_type": "code",
   "execution_count": 3968,
   "metadata": {
    "colab": {
     "base_uri": "https://localhost:8080/",
     "height": 328
    },
    "executionInfo": {
     "elapsed": 33,
     "status": "ok",
     "timestamp": 1631359261092,
     "user": {
      "displayName": "Xuan Giang",
      "photoUrl": "https://lh3.googleusercontent.com/a-/AOh14Ggd54OGSnsTVH4f55B9i-PtSGR536j-IdXxTeMFoQ=s64",
      "userId": "06583316585577749974"
     },
     "user_tz": -600
    },
    "id": "MMSqo835FbLn",
    "outputId": "9121003b-c1ce-456f-c41e-55870e2ba195"
   },
   "outputs": [
    {
     "data": {
      "text/html": [
       "<table style=\"display:inline\" border=\"1\" class=\"dataframe\">\n",
       "  <thead>\n",
       "    <tr>\n",
       "      <th></th>\n",
       "      <th>Original Stock</th>\n",
       "    </tr>\n",
       "    <tr>\n",
       "      <th></th>\n",
       "      <th>AAPL</th>\n",
       "    </tr>\n",
       "    <tr>\n",
       "      <th>Date</th>\n",
       "      <th></th>\n",
       "    </tr>\n",
       "  </thead>\n",
       "  <tbody>\n",
       "    <tr>\n",
       "      <th>2010-01-04</th>\n",
       "      <td>30.572857</td>\n",
       "    </tr>\n",
       "    <tr>\n",
       "      <th>2010-01-05</th>\n",
       "      <td>30.625713</td>\n",
       "    </tr>\n",
       "    <tr>\n",
       "      <th>2010-01-06</th>\n",
       "      <td>30.138571</td>\n",
       "    </tr>\n",
       "    <tr>\n",
       "      <th>2010-01-07</th>\n",
       "      <td>30.082857</td>\n",
       "    </tr>\n",
       "    <tr>\n",
       "      <th>2010-01-08</th>\n",
       "      <td>30.282858</td>\n",
       "    </tr>\n",
       "    <tr>\n",
       "      <th>2010-01-09</th>\n",
       "      <td>30.193810</td>\n",
       "    </tr>\n",
       "    <tr>\n",
       "      <th>2010-01-10</th>\n",
       "      <td>30.104762</td>\n",
       "    </tr>\n",
       "  </tbody>\n",
       "</table style=\"display:inline\"><table style=\"display:inline\" border=\"1\" class=\"dataframe\">\n",
       "  <thead>\n",
       "    <tr>\n",
       "      <th></th>\n",
       "      <th>Target Stock</th>\n",
       "    </tr>\n",
       "    <tr>\n",
       "      <th></th>\n",
       "      <th>AAPL</th>\n",
       "    </tr>\n",
       "    <tr>\n",
       "      <th>Date</th>\n",
       "      <th></th>\n",
       "    </tr>\n",
       "  </thead>\n",
       "  <tbody>\n",
       "    <tr>\n",
       "      <th>2010-01-04</th>\n",
       "      <td>30.138571</td>\n",
       "    </tr>\n",
       "    <tr>\n",
       "      <th>2010-01-05</th>\n",
       "      <td>30.082857</td>\n",
       "    </tr>\n",
       "    <tr>\n",
       "      <th>2010-01-06</th>\n",
       "      <td>30.282858</td>\n",
       "    </tr>\n",
       "    <tr>\n",
       "      <th>2010-01-07</th>\n",
       "      <td>30.193810</td>\n",
       "    </tr>\n",
       "    <tr>\n",
       "      <th>2010-01-08</th>\n",
       "      <td>30.104762</td>\n",
       "    </tr>\n",
       "  </tbody>\n",
       "</table style=\"display:inline\">"
      ]
     },
     "metadata": {},
     "output_type": "display_data"
    }
   ],
   "source": [
    "# Show original examples and some for target column\n",
    "org_df = pd.concat([data_PartC_RNN[target_code].head(horizon + 5)], keys=['Original Stock'], axis=1)\n",
    "tg_df = pd.concat([data_PartC_RNN_targets.head(5)], keys=['Target Stock'], axis=1)\n",
    "display_side_by_side(org_df, tg_df)"
   ]
  },
  {
   "cell_type": "code",
   "execution_count": 3969,
   "metadata": {
    "colab": {
     "base_uri": "https://localhost:8080/"
    },
    "executionInfo": {
     "elapsed": 32,
     "status": "ok",
     "timestamp": 1631359261092,
     "user": {
      "displayName": "Xuan Giang",
      "photoUrl": "https://lh3.googleusercontent.com/a-/AOh14Ggd54OGSnsTVH4f55B9i-PtSGR536j-IdXxTeMFoQ=s64",
      "userId": "06583316585577749974"
     },
     "user_tz": -600
    },
    "id": "sdz4te5RDNhD",
    "outputId": "f210182a-3d16-4070-faad-45dc8a219d39"
   },
   "outputs": [
    {
     "name": "stdout",
     "output_type": "stream",
     "text": [
      "Original x shape: (3647, 8) , New x shape: (2552, 8) (1095, 8)\n",
      "Original y shape: (3647, 1) , New y shape: (2552, 1) (1095, 1)\n"
     ]
    }
   ],
   "source": [
    "# Correct predictors x and targets/labels y for the horizon shift\n",
    "x_dataC = data_PartC_RNN.values[0:-horizon]\n",
    "y_dataC = data_PartC_RNN_targets.values[:-horizon]\n",
    "\n",
    "# # Splitting data \n",
    "# x_trainC, x_testC, y_trainC, y_testC = train_test_split(x_dataC, y_dataC, test_size = 0.3, random_state=2020, shuffle = False)\n",
    "\n",
    "# # Identify time events to be used in training\n",
    "# num_x_events = x_dataC.shape[1]\n",
    "# num_y_events = y_dataC.shape[1]\n",
    "\n",
    "# Calculate training and testing partition sizes\n",
    "num_dataC = len(x_dataC)\n",
    "train_split = 0.7\n",
    "num_trainC = int(train_split * num_dataC)\n",
    "num_testC = num_dataC - num_trainC\n",
    "\n",
    "# Define boundaries for training and testing\n",
    "x_trainC = x_dataC[0:num_trainC]\n",
    "x_testC = x_dataC[num_trainC:]\n",
    "y_trainC = y_dataC[0:num_trainC]\n",
    "y_testC = y_dataC[num_trainC:]\n",
    "\n",
    "# Identify time events to be used in training\n",
    "num_x_eventsC = x_dataC.shape[1]\n",
    "num_y_eventsC = y_dataC.shape[1]\n",
    "\n",
    "\n",
    "print(\"Original x shape:\", x_dataC.shape, \", New x shape:\", x_trainC.shape, x_testC.shape)\n",
    "print(\"Original y shape:\", y_dataC.shape, \", New y shape:\", y_trainC.shape, y_testC.shape)"
   ]
  },
  {
   "cell_type": "markdown",
   "metadata": {
    "id": "P7DaCiytWeIa"
   },
   "source": [
    "*Change the dataset to the same scale ((from 0 to 1) based on MinMaxScaler*"
   ]
  },
  {
   "cell_type": "code",
   "execution_count": 3970,
   "metadata": {
    "colab": {
     "base_uri": "https://localhost:8080/"
    },
    "executionInfo": {
     "elapsed": 29,
     "status": "ok",
     "timestamp": 1631359261093,
     "user": {
      "displayName": "Xuan Giang",
      "photoUrl": "https://lh3.googleusercontent.com/a-/AOh14Ggd54OGSnsTVH4f55B9i-PtSGR536j-IdXxTeMFoQ=s64",
      "userId": "06583316585577749974"
     },
     "user_tz": -600
    },
    "id": "QW1R-jWLDYVP",
    "outputId": "393a9000-0b3e-4453-f476-0f5ebb57497d"
   },
   "outputs": [
    {
     "name": "stdout",
     "output_type": "stream",
     "text": [
      "Before train x scaling - Min: 5.317893028259277 , Max: 844.3599853515625\n",
      "Before test x scaling - Min: 14.579999923706055 , Max: 2039.510009765625\n",
      "After train x scaling - Min: 0.0 , Max: 1.0\n",
      "After test x scaling - Min: 0.0 , Max: 1.0\n"
     ]
    }
   ],
   "source": [
    "print(\"Before train x scaling - Min:\", np.min(x_trainC), \", Max:\", np.max(x_trainC))\n",
    "print(\"Before test x scaling - Min:\", np.min(x_testC), \", Max:\", np.max(x_testC))\n",
    "x_scalerC = MinMaxScaler(feature_range=(0, 1), copy=True)\n",
    "x_train_scaledC = x_scalerC.fit_transform(x_trainC).clip(0, 1)\n",
    "x_test_scaledC = x_scalerC.transform(x_testC).clip(0, 1)\n",
    "print(\"After train x scaling - Min:\", np.min(x_train_scaledC), \", Max:\", np.max(x_train_scaledC))\n",
    "print(\"After test x scaling - Min:\", np.min(x_test_scaledC), \", Max:\", np.max(x_test_scaledC))"
   ]
  },
  {
   "cell_type": "code",
   "execution_count": 3971,
   "metadata": {
    "colab": {
     "base_uri": "https://localhost:8080/"
    },
    "executionInfo": {
     "elapsed": 27,
     "status": "ok",
     "timestamp": 1631359261094,
     "user": {
      "displayName": "Xuan Giang",
      "photoUrl": "https://lh3.googleusercontent.com/a-/AOh14Ggd54OGSnsTVH4f55B9i-PtSGR536j-IdXxTeMFoQ=s64",
      "userId": "06583316585577749974"
     },
     "user_tz": -600
    },
    "id": "fAXC6K7uLXwM",
    "outputId": "5fa0aa3f-555b-4d28-a36b-4844076ecad3"
   },
   "outputs": [
    {
     "name": "stdout",
     "output_type": "stream",
     "text": [
      "Before train y scaling - Min: 27.43571472167969 , Max: 133.0\n",
      "Before test y scaling - Min: 115.98500061035156 , Max: 293.6499938964844\n",
      "After train y scaling - Min: 0.0 , Max: 1.0\n",
      "After test y scaling - Min: 0.8388185990670198 , Max: 2.521821451951582\n"
     ]
    }
   ],
   "source": [
    "print(\"Before train y scaling - Min:\", np.min(y_trainC), \", Max:\", np.max(y_trainC))\n",
    "print(\"Before test y scaling - Min:\", np.min(y_testC), \", Max:\", np.max(y_testC))\n",
    "\n",
    "y_scalerC = x_scalerC\n",
    "y_train_scaledC = y_scalerC.fit_transform(y_trainC)\n",
    "y_test_scaledC = y_scalerC.transform(y_testC)\n",
    "print(\"After train y scaling - Min:\", np.min(y_train_scaledC), \", Max:\", np.max(y_train_scaledC))\n",
    "print(\"After test y scaling - Min:\", np.min(y_test_scaledC), \", Max:\", np.max(y_test_scaledC))"
   ]
  },
  {
   "cell_type": "markdown",
   "metadata": {
    "id": "sDdwexIHX-HL"
   },
   "source": [
    "*A generator function to create batches of shorter sub-sequences picked at random from training data*"
   ]
  },
  {
   "cell_type": "code",
   "execution_count": 3972,
   "metadata": {
    "executionInfo": {
     "elapsed": 24,
     "status": "ok",
     "timestamp": 1631359261094,
     "user": {
      "displayName": "Xuan Giang",
      "photoUrl": "https://lh3.googleusercontent.com/a-/AOh14Ggd54OGSnsTVH4f55B9i-PtSGR536j-IdXxTeMFoQ=s64",
      "userId": "06583316585577749974"
     },
     "user_tz": -600
    },
    "id": "MTxLEhjBD3PX"
   },
   "outputs": [],
   "source": [
    "def batch_generator(batch_size, sequence_length):\n",
    "    while True:\n",
    "        # Allocate a new array for the batch of input-events.\n",
    "        x_shapeC = (batch_size, sequence_length, num_x_eventsC)\n",
    "        x_batchC = np.zeros(shape=x_shapeC, dtype=np.float16)\n",
    "\n",
    "        # Allocate a new array for the batch of output-events.\n",
    "        y_shapeC = (batch_size, sequence_length, num_y_eventsC)\n",
    "        y_batchC = np.zeros(shape=y_shapeC, dtype=np.float16)\n",
    "\n",
    "        # Fill the batch with random sequences of data.\n",
    "        for i in range(batch_size):\n",
    "            # Get a random start-index.\n",
    "            # This points somewhere into the training-data.\n",
    "            idx = np.random.randint(num_trainC - sequence_length)\n",
    "            \n",
    "            # Copy the sequences of data starting at this index.\n",
    "            x_batchC[i] = x_train_scaledC[idx:idx+sequence_length]\n",
    "            y_batchC[i] = y_train_scaledC[idx:idx+sequence_length]\n",
    "        \n",
    "        yield (x_batchC, y_batchC)"
   ]
  },
  {
   "cell_type": "markdown",
   "metadata": {
    "id": "TFEfI5fVX4EP"
   },
   "source": [
    "*The batch size is a hyperparameter that defines the number of samples to work through before updating the internal model parameters.*"
   ]
  },
  {
   "cell_type": "code",
   "execution_count": 3973,
   "metadata": {
    "executionInfo": {
     "elapsed": 24,
     "status": "ok",
     "timestamp": 1631359261095,
     "user": {
      "displayName": "Xuan Giang",
      "photoUrl": "https://lh3.googleusercontent.com/a-/AOh14Ggd54OGSnsTVH4f55B9i-PtSGR536j-IdXxTeMFoQ=s64",
      "userId": "06583316585577749974"
     },
     "user_tz": -600
    },
    "id": "MrgwohZmD-Oh"
   },
   "outputs": [],
   "source": [
    "#Process 22 sequences before updating the model.\n",
    "batch_size = 22 \n",
    "\n",
    "#The length of each time series sequences/input dimenions.\n",
    "sequence_length = 28 #7x4"
   ]
  },
  {
   "cell_type": "code",
   "execution_count": 3974,
   "metadata": {
    "executionInfo": {
     "elapsed": 24,
     "status": "ok",
     "timestamp": 1631359261095,
     "user": {
      "displayName": "Xuan Giang",
      "photoUrl": "https://lh3.googleusercontent.com/a-/AOh14Ggd54OGSnsTVH4f55B9i-PtSGR536j-IdXxTeMFoQ=s64",
      "userId": "06583316585577749974"
     },
     "user_tz": -600
    },
    "id": "ivjqv-MoEAn1"
   },
   "outputs": [],
   "source": [
    "# Create the batch-generator\n",
    "generator = batch_generator(batch_size=batch_size, sequence_length=sequence_length)"
   ]
  },
  {
   "cell_type": "code",
   "execution_count": 3975,
   "metadata": {
    "colab": {
     "base_uri": "https://localhost:8080/"
    },
    "executionInfo": {
     "elapsed": 24,
     "status": "ok",
     "timestamp": 1631359261096,
     "user": {
      "displayName": "Xuan Giang",
      "photoUrl": "https://lh3.googleusercontent.com/a-/AOh14Ggd54OGSnsTVH4f55B9i-PtSGR536j-IdXxTeMFoQ=s64",
      "userId": "06583316585577749974"
     },
     "user_tz": -600
    },
    "id": "5GxR5y0QEC-N",
    "outputId": "49e5fae1-4bf7-4816-a065-5240dfca99ff"
   },
   "outputs": [
    {
     "name": "stdout",
     "output_type": "stream",
     "text": [
      "(22, 28, 8)\n",
      "(22, 28, 1)\n"
     ]
    }
   ],
   "source": [
    "# Test the batch-generator\n",
    "x_batchC, y_batchC = next(generator)\n",
    "print(x_batchC.shape)\n",
    "print(y_batchC.shape)"
   ]
  },
  {
   "cell_type": "code",
   "execution_count": 3976,
   "metadata": {
    "colab": {
     "base_uri": "https://localhost:8080/",
     "height": 367
    },
    "executionInfo": {
     "elapsed": 20,
     "status": "ok",
     "timestamp": 1631359261096,
     "user": {
      "displayName": "Xuan Giang",
      "photoUrl": "https://lh3.googleusercontent.com/a-/AOh14Ggd54OGSnsTVH4f55B9i-PtSGR536j-IdXxTeMFoQ=s64",
      "userId": "06583316585577749974"
     },
     "user_tz": -600
    },
    "id": "OyS-Jk7yEGd8",
    "outputId": "bc0a0046-a770-4841-8df8-4fa734bd8454"
   },
   "outputs": [
    {
     "data": {
      "text/plain": [
       "<matplotlib.legend.Legend at 0x7fba08c78490>"
      ]
     },
     "execution_count": 3976,
     "metadata": {},
     "output_type": "execute_result"
    },
    {
     "data": {
      "image/png": "[encoded data removed]",
      "text/plain": [
       "<Figure size 720x360 with 1 Axes>"
      ]
     },
     "metadata": {
      "needs_background": "light"
     },
     "output_type": "display_data"
    }
   ],
   "source": [
    "# Plot one of the events\n",
    "batchC = 0  # Some sequence in the batch\n",
    "eventC = 0  # Some event from input-events\n",
    "x_seqC = x_batchC[batchC, :, eventC]\n",
    "y_seqC = y_batchC[batchC, :, eventC]\n",
    "plt.plot(x_seqC)\n",
    "plt.plot(y_seqC)\n",
    "plt.title('Time Series Batch: Training (past) vs Targets (future)')\n",
    "plt.ylabel('Stocks')\n",
    "plt.xlabel('Time')\n",
    "plt.legend(['Training (x)', 'Targets (y)'], loc='upper left')"
   ]
  },
  {
   "cell_type": "code",
   "execution_count": 3977,
   "metadata": {
    "executionInfo": {
     "elapsed": 17,
     "status": "ok",
     "timestamp": 1631359261097,
     "user": {
      "displayName": "Xuan Giang",
      "photoUrl": "https://lh3.googleusercontent.com/a-/AOh14Ggd54OGSnsTVH4f55B9i-PtSGR536j-IdXxTeMFoQ=s64",
      "userId": "06583316585577749974"
     },
     "user_tz": -600
    },
    "id": "8P7UZU53EIun"
   },
   "outputs": [],
   "source": [
    "validation_data = (np.expand_dims(x_test_scaledC, axis=0),\n",
    "                   np.expand_dims(y_test_scaledC, axis=0))"
   ]
  },
  {
   "cell_type": "markdown",
   "metadata": {
    "id": "lY3RPGcKYzhc"
   },
   "source": [
    "<a id = \"cell_model\"></a>\n",
    "## 3. Model Construction"
   ]
  },
  {
   "cell_type": "markdown",
   "metadata": {
    "id": "Ec1t33UdYzhc"
   },
   "source": [
    "*Create one forecasting model using a Recurrent Neural Network, such as vanilla RNN, LSTM and GRU.*\n",
    "\n",
    "*For all models, use mean_squared_error (MSE) as the loss function, and set the number of epochs to be 100, steps_per_epoch to be 60 and warmup_steps to be 7*"
   ]
  },
  {
   "cell_type": "code",
   "execution_count": 3978,
   "metadata": {
    "executionInfo": {
     "elapsed": 17,
     "status": "ok",
     "timestamp": 1631359261097,
     "user": {
      "displayName": "Xuan Giang",
      "photoUrl": "https://lh3.googleusercontent.com/a-/AOh14Ggd54OGSnsTVH4f55B9i-PtSGR536j-IdXxTeMFoQ=s64",
      "userId": "06583316585577749974"
     },
     "user_tz": -600
    },
    "id": "YRSO49oTYzhc"
   },
   "outputs": [],
   "source": [
    "# Create epochs, steps_per_epoch and warmup_steps\n",
    "epochs = 100\n",
    "steps_per_epoch = 60\n",
    "warmup_steps = 7 # For custom loss function"
   ]
  },
  {
   "cell_type": "code",
   "execution_count": 3979,
   "metadata": {
    "executionInfo": {
     "elapsed": 18,
     "status": "ok",
     "timestamp": 1631359261098,
     "user": {
      "displayName": "Xuan Giang",
      "photoUrl": "https://lh3.googleusercontent.com/a-/AOh14Ggd54OGSnsTVH4f55B9i-PtSGR536j-IdXxTeMFoQ=s64",
      "userId": "06583316585577749974"
     },
     "user_tz": -600
    },
    "id": "e4mK9DOsEhop"
   },
   "outputs": [],
   "source": [
    "# The shape of both input tensors are: [batch_size, sequence_length, num_y_events]\n",
    "def loss_mse_warmup(y_true, y_pred):\n",
    "    # Ignore the \"warmup\" parts of the sequences\n",
    "    y_true_slice = y_true[:, warmup_steps:, :]\n",
    "    y_pred_slice = y_pred[:, warmup_steps:, :]\n",
    "    mse = mean(square(y_true_slice - y_pred_slice))   \n",
    "    return mse"
   ]
  },
  {
   "cell_type": "markdown",
   "metadata": {},
   "source": [
    "#### The GRU model initialize weights with smaller values to avoid `NaN` values during training because we use more layers."
   ]
  },
  {
   "cell_type": "code",
   "execution_count": 3980,
   "metadata": {
    "executionInfo": {
     "elapsed": 17,
     "status": "ok",
     "timestamp": 1631359261098,
     "user": {
      "displayName": "Xuan Giang",
      "photoUrl": "https://lh3.googleusercontent.com/a-/AOh14Ggd54OGSnsTVH4f55B9i-PtSGR536j-IdXxTeMFoQ=s64",
      "userId": "06583316585577749974"
     },
     "user_tz": -600
    },
    "id": "g-Mkh87oEjwI"
   },
   "outputs": [],
   "source": [
    "# Create model\n",
    "def rnn_model_gru(num_x_eventsC, num_y_eventsC):\n",
    "    init = RandomUniform(minval=-0.05, maxval=0.05)\n",
    "    model = Sequential()\n",
    "    model.add(GRU(units=1024, \n",
    "              return_sequences=True,\n",
    "              kernel_initializer='normal',\n",
    "              kernel_regularizer=regularizers.l1(0.01), \n",
    "              bias_regularizer=regularizers.l1(0.01),              \n",
    "              input_shape=(None, num_x_eventsC,)))\n",
    "    model.add(LeakyReLU(alpha=0.002))\n",
    "    model.add(Dropout(0.2))\n",
    "    model.add(BatchNormalization(momentum=0.01))\n",
    "\n",
    "    model.add(Dense(512,\n",
    "              kernel_initializer='normal',\n",
    "              kernel_regularizer=regularizers.l1_l2(0.01), \n",
    "              bias_regularizer=regularizers.l1_l2(0.01)))\n",
    "    model.add(LeakyReLU(alpha=0.002))\n",
    "    model.add(Dropout(0.1))\n",
    "    model.add(BatchNormalization(momentum=0.01))\n",
    "    model.add(Dropout(0.0))\n",
    "\n",
    "    model.add(Dense(num_y_eventsC, activation='linear',\n",
    "                    kernel_initializer=init))\n",
    "    model.summary()\n",
    "    return(model)"
   ]
  },
  {
   "cell_type": "markdown",
   "metadata": {},
   "source": [
    "**The first layer is GRU with 1024 units, use regularizers.l1 = 0.01 and input dimension is 8 features.** \n",
    "\n",
    "**The second layer is LeakyRelu with alpha = 0.002\n",
    "Use the first drop out with 20% in third layer.\n",
    "Then use BatchNormalization layer with momentum=0.01.**\n",
    "\n",
    "**In next Dense layer, use 512 nodes with regularizers.l1_l2 = 0.01\n",
    "Then apply 10% dropout before using BatchNormalization layer with momentum=0.01 again.**\n",
    "\n",
    "**Finally, 0% dropout applied before using last layer with 1 output for 2 day step and activation is linear.**"
   ]
  },
  {
   "cell_type": "markdown",
   "metadata": {
    "id": "n5hrYMH4aNm9"
   },
   "source": [
    "*Save checkpoints and log the progress to TensorBoard for call back later*"
   ]
  },
  {
   "cell_type": "code",
   "execution_count": 3981,
   "metadata": {
    "executionInfo": {
     "elapsed": 471,
     "status": "ok",
     "timestamp": 1631359261552,
     "user": {
      "displayName": "Xuan Giang",
      "photoUrl": "https://lh3.googleusercontent.com/a-/AOh14Ggd54OGSnsTVH4f55B9i-PtSGR536j-IdXxTeMFoQ=s64",
      "userId": "06583316585577749974"
     },
     "user_tz": -600
    },
    "id": "7_vy7lbzEwOK"
   },
   "outputs": [],
   "source": [
    "path_checkpoint = './gru_checkpoints/'\n",
    "\n",
    "callback_checkpoint = ModelCheckpoint(filepath=path_checkpoint,\n",
    "        monitor='val_loss',\n",
    "        verbose=1,\n",
    "        save_weights_only=True,\n",
    "        save_best_only=True)\n",
    "\n",
    "callback_early_stopping = EarlyStopping(monitor='val_loss',\n",
    "        patience=10, verbose=1)\n",
    "\n",
    "callback_tensorboard = TensorBoard(log_dir='./gru_logs/',\n",
    "        histogram_freq=0,\n",
    "        write_graph=False)\n",
    "\n",
    "# This callback reduces the learning-rate if the validation-loss has not improved as defined by `patience`.\n",
    "# The learning-rate will be reduced by a `factor` (by multiplying) but no more than `min_lr`.\n",
    "callback_reduce_lr = ReduceLROnPlateau(monitor='val_loss',\n",
    "        factor=0.3,\n",
    "        min_lr=1e-4,\n",
    "        patience=5,\n",
    "        min_delta = 1e-3,\n",
    "        verbose=1)\n",
    "\n",
    "keras_callbacks = [\n",
    "        callback_early_stopping,\n",
    "        callback_reduce_lr,\n",
    "        callback_checkpoint\n",
    "]"
   ]
  },
  {
   "cell_type": "code",
   "execution_count": 3982,
   "metadata": {
    "colab": {
     "base_uri": "https://localhost:8080/"
    },
    "executionInfo": {
     "elapsed": 20,
     "status": "ok",
     "timestamp": 1631359261553,
     "user": {
      "displayName": "Xuan Giang",
      "photoUrl": "https://lh3.googleusercontent.com/a-/AOh14Ggd54OGSnsTVH4f55B9i-PtSGR536j-IdXxTeMFoQ=s64",
      "userId": "06583316585577749974"
     },
     "user_tz": -600
    },
    "id": "wUAIpIXME0ot",
    "outputId": "04c1069f-510c-4ddf-a194-84809b6bc167"
   },
   "outputs": [
    {
     "name": "stdout",
     "output_type": "stream",
     "text": [
      "Model: \"sequential_91\"\n",
      "_________________________________________________________________\n",
      "Layer (type)                 Output Shape              Param #   \n",
      "=================================================================\n",
      "gru_141 (GRU)                (None, None, 1024)        3176448   \n",
      "_________________________________________________________________\n",
      "leaky_re_lu_128 (LeakyReLU)  (None, None, 1024)        0         \n",
      "_________________________________________________________________\n",
      "dropout_154 (Dropout)        (None, None, 1024)        0         \n",
      "_________________________________________________________________\n",
      "batch_normalization_130 (Bat (None, None, 1024)        4096      \n",
      "_________________________________________________________________\n",
      "dense_104 (Dense)            (None, None, 512)         524800    \n",
      "_________________________________________________________________\n",
      "leaky_re_lu_129 (LeakyReLU)  (None, None, 512)         0         \n",
      "_________________________________________________________________\n",
      "dropout_155 (Dropout)        (None, None, 512)         0         \n",
      "_________________________________________________________________\n",
      "batch_normalization_131 (Bat (None, None, 512)         2048      \n",
      "_________________________________________________________________\n",
      "dropout_156 (Dropout)        (None, None, 512)         0         \n",
      "_________________________________________________________________\n",
      "dense_105 (Dense)            (None, None, 1)           513       \n",
      "=================================================================\n",
      "Total params: 3,707,905\n",
      "Trainable params: 3,704,833\n",
      "Non-trainable params: 3,072\n",
      "_________________________________________________________________\n"
     ]
    }
   ],
   "source": [
    "# Define a  optimizers \n",
    "opt_adam_1 = Adam(learning_rate=0.001, beta_1=0.9, beta_2=0.999, epsilon=1e-07)\n",
    "\n",
    "# Start collecting history, in case we train the model iteratively\n",
    "rnn_hist_partC = start_hist()\n",
    "\n",
    "model_partC = rnn_model_gru(num_x_eventsC, num_y_eventsC)\n",
    "model_partC.compile(loss=loss_mse_warmup, optimizer=opt_adam_1, metrics=[metrics.mae])"
   ]
  },
  {
   "cell_type": "markdown",
   "metadata": {
    "id": "tEjhd3W3gQpO"
   },
   "source": [
    "**The model need 3,707,905 params to buil model and use Adam optimizer for this model.**"
   ]
  },
  {
   "cell_type": "markdown",
   "metadata": {
    "id": "B0h_o6nnufjg"
   },
   "source": [
    "<a id = \"cell_execution\"></a>\n",
    "## 4. Model Execution"
   ]
  },
  {
   "cell_type": "markdown",
   "metadata": {
    "id": "mJnESaxsYzhf"
   },
   "source": [
    "*This section is to provide code to fit the models. Record and plot the history of training and validation. Report the performance (mean_absolute_error and loss) of the trained model on the both the training and the test sets.*<br>"
   ]
  },
  {
   "cell_type": "code",
   "execution_count": 3983,
   "metadata": {
    "colab": {
     "base_uri": "https://localhost:8080/"
    },
    "executionInfo": {
     "elapsed": 53355,
     "status": "ok",
     "timestamp": 1631359314904,
     "user": {
      "displayName": "Xuan Giang",
      "photoUrl": "https://lh3.googleusercontent.com/a-/AOh14Ggd54OGSnsTVH4f55B9i-PtSGR536j-IdXxTeMFoQ=s64",
      "userId": "06583316585577749974"
     },
     "user_tz": -600
    },
    "id": "gEXPgBWWoOy_",
    "outputId": "4c6dd372-3cda-419c-ede6-05c97ffdb781",
    "scrolled": false
   },
   "outputs": [
    {
     "name": "stdout",
     "output_type": "stream",
     "text": [
      "Epoch 1/100\n",
      "60/60 - 3s - loss: 126.3454 - mean_absolute_error: 0.5988 - val_loss: 48.5840 - val_mean_absolute_error: 0.5799\n",
      "\n",
      "Epoch 00001: val_loss improved from inf to 48.58405, saving model to ./gru_checkpoints/\n",
      "Epoch 2/100\n",
      "60/60 - 1s - loss: 21.0063 - mean_absolute_error: 0.4750 - val_loss: 6.5032 - val_mean_absolute_error: 0.6237\n",
      "\n",
      "Epoch 00002: val_loss improved from 48.58405 to 6.50315, saving model to ./gru_checkpoints/\n",
      "Epoch 3/100\n",
      "60/60 - 1s - loss: 2.9645 - mean_absolute_error: 0.4855 - val_loss: 2.1952 - val_mean_absolute_error: 0.8841\n",
      "\n",
      "Epoch 00003: val_loss improved from 6.50315 to 2.19519, saving model to ./gru_checkpoints/\n",
      "Epoch 4/100\n",
      "60/60 - 1s - loss: 0.9968 - mean_absolute_error: 0.3709 - val_loss: 1.1458 - val_mean_absolute_error: 0.5143\n",
      "\n",
      "Epoch 00004: val_loss improved from 2.19519 to 1.14584, saving model to ./gru_checkpoints/\n",
      "Epoch 5/100\n",
      "60/60 - 1s - loss: 0.7394 - mean_absolute_error: 0.2319 - val_loss: 1.0474 - val_mean_absolute_error: 0.5212\n",
      "\n",
      "Epoch 00005: val_loss improved from 1.14584 to 1.04736, saving model to ./gru_checkpoints/\n",
      "Epoch 6/100\n",
      "60/60 - 1s - loss: 0.6911 - mean_absolute_error: 0.1269 - val_loss: 1.0912 - val_mean_absolute_error: 0.5955\n",
      "\n",
      "Epoch 00006: val_loss did not improve from 1.04736\n",
      "Epoch 7/100\n",
      "60/60 - 1s - loss: 0.6313 - mean_absolute_error: 0.1043 - val_loss: 1.0222 - val_mean_absolute_error: 0.5483\n",
      "\n",
      "Epoch 00007: val_loss improved from 1.04736 to 1.02217, saving model to ./gru_checkpoints/\n",
      "Epoch 8/100\n",
      "60/60 - 1s - loss: 0.6263 - mean_absolute_error: 0.1023 - val_loss: 1.0330 - val_mean_absolute_error: 0.5644\n",
      "\n",
      "Epoch 00008: val_loss did not improve from 1.02217\n",
      "Epoch 9/100\n",
      "60/60 - 1s - loss: 0.6229 - mean_absolute_error: 0.1082 - val_loss: 1.1630 - val_mean_absolute_error: 0.6744\n",
      "\n",
      "Epoch 00009: val_loss did not improve from 1.02217\n",
      "Epoch 10/100\n",
      "60/60 - 1s - loss: 0.6181 - mean_absolute_error: 0.1129 - val_loss: 0.9389 - val_mean_absolute_error: 0.4625\n",
      "\n",
      "Epoch 00010: val_loss improved from 1.02217 to 0.93889, saving model to ./gru_checkpoints/\n",
      "Epoch 11/100\n",
      "60/60 - 1s - loss: 0.6262 - mean_absolute_error: 0.1190 - val_loss: 1.0474 - val_mean_absolute_error: 0.5626\n",
      "\n",
      "Epoch 00011: val_loss did not improve from 0.93889\n",
      "Epoch 12/100\n",
      "60/60 - 1s - loss: 0.6352 - mean_absolute_error: 0.1096 - val_loss: 1.2231 - val_mean_absolute_error: 0.7114\n",
      "\n",
      "Epoch 00012: val_loss did not improve from 0.93889\n",
      "Epoch 13/100\n",
      "60/60 - 1s - loss: 0.6283 - mean_absolute_error: 0.1242 - val_loss: 1.1280 - val_mean_absolute_error: 0.6289\n",
      "\n",
      "Epoch 00013: val_loss did not improve from 0.93889\n",
      "Epoch 14/100\n",
      "60/60 - 1s - loss: 0.6265 - mean_absolute_error: 0.1130 - val_loss: 0.9807 - val_mean_absolute_error: 0.5101\n",
      "\n",
      "Epoch 00014: val_loss did not improve from 0.93889\n",
      "Epoch 15/100\n",
      "60/60 - 1s - loss: 0.6209 - mean_absolute_error: 0.1129 - val_loss: 0.9672 - val_mean_absolute_error: 0.4910\n",
      "\n",
      "Epoch 00015: ReduceLROnPlateau reducing learning rate to 0.0003000000142492354.\n",
      "\n",
      "Epoch 00015: val_loss did not improve from 0.93889\n",
      "Epoch 16/100\n",
      "60/60 - 1s - loss: 0.2711 - mean_absolute_error: 0.1036 - val_loss: 0.5854 - val_mean_absolute_error: 0.5183\n",
      "\n",
      "Epoch 00016: val_loss improved from 0.93889 to 0.58541, saving model to ./gru_checkpoints/\n",
      "Epoch 17/100\n",
      "60/60 - 1s - loss: 0.2144 - mean_absolute_error: 0.1072 - val_loss: 0.7045 - val_mean_absolute_error: 0.6273\n",
      "\n",
      "Epoch 00017: val_loss did not improve from 0.58541\n",
      "Epoch 18/100\n",
      "60/60 - 1s - loss: 0.2137 - mean_absolute_error: 0.1084 - val_loss: 0.4818 - val_mean_absolute_error: 0.4198\n",
      "\n",
      "Epoch 00018: val_loss improved from 0.58541 to 0.48178, saving model to ./gru_checkpoints/\n",
      "Epoch 19/100\n",
      "60/60 - 1s - loss: 0.2109 - mean_absolute_error: 0.1014 - val_loss: 0.5522 - val_mean_absolute_error: 0.4929\n",
      "\n",
      "Epoch 00019: val_loss did not improve from 0.48178\n",
      "Epoch 20/100\n",
      "60/60 - 1s - loss: 0.2078 - mean_absolute_error: 0.1090 - val_loss: 0.6913 - val_mean_absolute_error: 0.6191\n",
      "\n",
      "Epoch 00020: val_loss did not improve from 0.48178\n",
      "Epoch 21/100\n",
      "60/60 - 1s - loss: 0.2094 - mean_absolute_error: 0.1067 - val_loss: 0.6101 - val_mean_absolute_error: 0.5537\n",
      "\n",
      "Epoch 00021: val_loss did not improve from 0.48178\n",
      "Epoch 22/100\n",
      "60/60 - 1s - loss: 0.2081 - mean_absolute_error: 0.1037 - val_loss: 0.5323 - val_mean_absolute_error: 0.4746\n",
      "\n",
      "Epoch 00022: val_loss did not improve from 0.48178\n",
      "Epoch 23/100\n",
      "60/60 - 1s - loss: 0.2087 - mean_absolute_error: 0.1015 - val_loss: 0.6095 - val_mean_absolute_error: 0.5516\n",
      "\n",
      "Epoch 00023: ReduceLROnPlateau reducing learning rate to 0.0001.\n",
      "\n",
      "Epoch 00023: val_loss did not improve from 0.48178\n",
      "Epoch 24/100\n",
      "60/60 - 1s - loss: 0.0983 - mean_absolute_error: 0.1020 - val_loss: 0.5225 - val_mean_absolute_error: 0.5879\n",
      "\n",
      "Epoch 00024: val_loss did not improve from 0.48178\n",
      "Epoch 25/100\n",
      "60/60 - 1s - loss: 0.0786 - mean_absolute_error: 0.1004 - val_loss: 0.5007 - val_mean_absolute_error: 0.5690\n",
      "\n",
      "Epoch 00025: val_loss did not improve from 0.48178\n",
      "Epoch 26/100\n",
      "60/60 - 1s - loss: 0.0802 - mean_absolute_error: 0.1098 - val_loss: 0.5210 - val_mean_absolute_error: 0.5889\n",
      "\n",
      "Epoch 00026: val_loss did not improve from 0.48178\n",
      "Epoch 27/100\n",
      "60/60 - 1s - loss: 0.0768 - mean_absolute_error: 0.1000 - val_loss: 0.4283 - val_mean_absolute_error: 0.5034\n",
      "\n",
      "Epoch 00027: val_loss improved from 0.48178 to 0.42834, saving model to ./gru_checkpoints/\n",
      "Epoch 28/100\n",
      "60/60 - 1s - loss: 0.0797 - mean_absolute_error: 0.1011 - val_loss: 0.5467 - val_mean_absolute_error: 0.6084\n",
      "\n",
      "Epoch 00028: val_loss did not improve from 0.42834\n",
      "Epoch 29/100\n",
      "60/60 - 1s - loss: 0.0780 - mean_absolute_error: 0.0912 - val_loss: 0.4752 - val_mean_absolute_error: 0.5479\n",
      "\n",
      "Epoch 00029: val_loss did not improve from 0.42834\n",
      "Epoch 30/100\n",
      "60/60 - 1s - loss: 0.0784 - mean_absolute_error: 0.1054 - val_loss: 0.4669 - val_mean_absolute_error: 0.5400\n",
      "\n",
      "Epoch 00030: val_loss did not improve from 0.42834\n",
      "Epoch 31/100\n",
      "60/60 - 1s - loss: 0.0778 - mean_absolute_error: 0.1007 - val_loss: 0.5372 - val_mean_absolute_error: 0.6011\n",
      "\n",
      "Epoch 00031: val_loss did not improve from 0.42834\n",
      "Epoch 32/100\n",
      "60/60 - 1s - loss: 0.0788 - mean_absolute_error: 0.0966 - val_loss: 0.4719 - val_mean_absolute_error: 0.5455\n",
      "\n",
      "Epoch 00032: val_loss did not improve from 0.42834\n",
      "Epoch 33/100\n",
      "60/60 - 1s - loss: 0.0780 - mean_absolute_error: 0.0983 - val_loss: 0.4498 - val_mean_absolute_error: 0.5261\n",
      "\n",
      "Epoch 00033: val_loss did not improve from 0.42834\n",
      "Epoch 34/100\n",
      "60/60 - 1s - loss: 0.0773 - mean_absolute_error: 0.0974 - val_loss: 0.4712 - val_mean_absolute_error: 0.5456\n",
      "\n",
      "Epoch 00034: val_loss did not improve from 0.42834\n",
      "Epoch 35/100\n",
      "60/60 - 1s - loss: 0.0772 - mean_absolute_error: 0.0979 - val_loss: 0.4231 - val_mean_absolute_error: 0.5001\n",
      "\n",
      "Epoch 00035: val_loss improved from 0.42834 to 0.42311, saving model to ./gru_checkpoints/\n",
      "Epoch 36/100\n",
      "60/60 - 1s - loss: 0.0784 - mean_absolute_error: 0.1031 - val_loss: 0.4897 - val_mean_absolute_error: 0.5626\n",
      "\n",
      "Epoch 00036: val_loss did not improve from 0.42311\n",
      "Epoch 37/100\n",
      "60/60 - 1s - loss: 0.0777 - mean_absolute_error: 0.0986 - val_loss: 0.3531 - val_mean_absolute_error: 0.4241\n",
      "\n",
      "Epoch 00037: val_loss improved from 0.42311 to 0.35310, saving model to ./gru_checkpoints/\n",
      "Epoch 38/100\n",
      "60/60 - 1s - loss: 0.0782 - mean_absolute_error: 0.1036 - val_loss: 0.4169 - val_mean_absolute_error: 0.4938\n",
      "\n",
      "Epoch 00038: val_loss did not improve from 0.35310\n",
      "Epoch 39/100\n",
      "60/60 - 1s - loss: 0.0787 - mean_absolute_error: 0.0976 - val_loss: 0.4838 - val_mean_absolute_error: 0.5543\n",
      "\n",
      "Epoch 00039: val_loss did not improve from 0.35310\n",
      "Epoch 40/100\n",
      "60/60 - 1s - loss: 0.0778 - mean_absolute_error: 0.0975 - val_loss: 0.4660 - val_mean_absolute_error: 0.5418\n",
      "\n",
      "Epoch 00040: val_loss did not improve from 0.35310\n",
      "Epoch 41/100\n",
      "60/60 - 1s - loss: 0.0784 - mean_absolute_error: 0.0996 - val_loss: 0.5030 - val_mean_absolute_error: 0.5747\n",
      "\n",
      "Epoch 00041: val_loss did not improve from 0.35310\n",
      "Epoch 42/100\n",
      "60/60 - 1s - loss: 0.0779 - mean_absolute_error: 0.1033 - val_loss: 0.4924 - val_mean_absolute_error: 0.5621\n",
      "\n",
      "Epoch 00042: val_loss did not improve from 0.35310\n",
      "Epoch 43/100\n",
      "60/60 - 1s - loss: 0.0790 - mean_absolute_error: 0.1007 - val_loss: 0.4310 - val_mean_absolute_error: 0.5064\n",
      "\n",
      "Epoch 00043: val_loss did not improve from 0.35310\n",
      "Epoch 44/100\n",
      "60/60 - 1s - loss: 0.0774 - mean_absolute_error: 0.1003 - val_loss: 0.4697 - val_mean_absolute_error: 0.5446\n",
      "\n",
      "Epoch 00044: val_loss did not improve from 0.35310\n",
      "Epoch 45/100\n",
      "60/60 - 1s - loss: 0.0764 - mean_absolute_error: 0.1028 - val_loss: 0.3742 - val_mean_absolute_error: 0.4497\n",
      "\n",
      "Epoch 00045: val_loss did not improve from 0.35310\n",
      "Epoch 46/100\n",
      "60/60 - 1s - loss: 0.0767 - mean_absolute_error: 0.0968 - val_loss: 0.3751 - val_mean_absolute_error: 0.4482\n",
      "\n",
      "Epoch 00046: val_loss did not improve from 0.35310\n",
      "Epoch 47/100\n",
      "60/60 - 1s - loss: 0.0766 - mean_absolute_error: 0.0922 - val_loss: 0.5431 - val_mean_absolute_error: 0.6086\n",
      "\n",
      "Epoch 00047: val_loss did not improve from 0.35310\n",
      "Epoch 00047: early stopping\n",
      "CPU times: user 27.5 s, sys: 4.11 s, total: 31.6 s\n",
      "Wall time: 53.2 s\n"
     ]
    }
   ],
   "source": [
    "# Fit model\n",
    "%%time\n",
    "perform_indics = model_partC.fit(x=generator,\n",
    "        epochs=epochs,\n",
    "        steps_per_epoch=steps_per_epoch,\n",
    "        validation_data=validation_data,\n",
    "        callbacks=keras_callbacks,\n",
    "        verbose=2\n",
    "        )\n",
    "\n",
    "# Add performance history\n",
    "rnn_hist_partC = collect_hist(rnn_hist_partC, perform_indics.history)"
   ]
  },
  {
   "cell_type": "markdown",
   "metadata": {
    "id": "uW-tM4l8jAOz"
   },
   "source": [
    "**The final mae validaton is 46 with Wall time is 52s**"
   ]
  },
  {
   "cell_type": "code",
   "execution_count": 3984,
   "metadata": {
    "colab": {
     "base_uri": "https://localhost:8080/",
     "height": 1000
    },
    "executionInfo": {
     "elapsed": 30936,
     "status": "ok",
     "timestamp": 1631359345838,
     "user": {
      "displayName": "Xuan Giang",
      "photoUrl": "https://lh3.googleusercontent.com/a-/AOh14Ggd54OGSnsTVH4f55B9i-PtSGR536j-IdXxTeMFoQ=s64",
      "userId": "06583316585577749974"
     },
     "user_tz": -600
    },
    "id": "7qQaia7DFA8x",
    "outputId": "4a5fdc8f-f75d-469f-b3cc-6eb5be643528"
   },
   "outputs": [
    {
     "data": {
      "image/png": "[encoded data removed]",
      "text/plain": [
       "<Figure size 720x576 with 1 Axes>"
      ]
     },
     "metadata": {
      "needs_background": "light"
     },
     "output_type": "display_data"
    },
    {
     "data": {
      "image/png": "[encoded data removed]",
      "text/plain": [
       "<Figure size 720x576 with 1 Axes>"
      ]
     },
     "metadata": {
      "needs_background": "light"
     },
     "output_type": "display_data"
    }
   ],
   "source": [
    "# Plot the model performance\n",
    "plot_hist(rnn_hist_partC, xsize=10, ysize=8)"
   ]
  },
  {
   "cell_type": "markdown",
   "metadata": {
    "id": "25trg3xMRiu_"
   },
   "source": [
    "***The figure of training vs validation loss shows that this is a good fit. However, training and validation mae reflects that the model is overfitting when mae validation is consistanly higher than mae training. This is normal when using deep learning for prediction***"
   ]
  },
  {
   "cell_type": "markdown",
   "metadata": {
    "id": "AJGtMHXfarc9"
   },
   "source": [
    "*Used ModelCheckpoint callback to reload the last saved checkpoint, which had the best performance on the validation set.*"
   ]
  },
  {
   "cell_type": "code",
   "execution_count": 3985,
   "metadata": {
    "executionInfo": {
     "elapsed": 3,
     "status": "ok",
     "timestamp": 1631359345838,
     "user": {
      "displayName": "Xuan Giang",
      "photoUrl": "https://lh3.googleusercontent.com/a-/AOh14Ggd54OGSnsTVH4f55B9i-PtSGR536j-IdXxTeMFoQ=s64",
      "userId": "06583316585577749974"
     },
     "user_tz": -600
    },
    "id": "fn0Vz2btFD8w"
   },
   "outputs": [],
   "source": [
    "try:\n",
    "    model_partC.load_weights(path_checkpoint)\n",
    "except Exception as error:\n",
    "    print(\"Error trying to load checkpoint.\")\n",
    "    print(error)"
   ]
  },
  {
   "cell_type": "markdown",
   "metadata": {
    "id": "Xwm_plWybSOh"
   },
   "source": [
    "*Observe training performance based on MAE and loss*"
   ]
  },
  {
   "cell_type": "code",
   "execution_count": 3986,
   "metadata": {
    "colab": {
     "base_uri": "https://localhost:8080/"
    },
    "executionInfo": {
     "elapsed": 477,
     "status": "ok",
     "timestamp": 1631359346313,
     "user": {
      "displayName": "Xuan Giang",
      "photoUrl": "https://lh3.googleusercontent.com/a-/AOh14Ggd54OGSnsTVH4f55B9i-PtSGR536j-IdXxTeMFoQ=s64",
      "userId": "06583316585577749974"
     },
     "user_tz": -600
    },
    "id": "9opOW5JxFHQ4",
    "outputId": "e9e3420b-60f9-4e89-a9f1-d7a39f2dc604"
   },
   "outputs": [
    {
     "name": "stdout",
     "output_type": "stream",
     "text": [
      "1/1 [==============================] - 1s 670ms/step - loss: 0.0752 - mean_absolute_error: 0.0290\n",
      "\n",
      "loss: 0.07524\n",
      "mean_absolute_error: 0.02897\n"
     ]
    }
   ],
   "source": [
    "result = model_partC.evaluate(x=np.expand_dims(x_train_scaledC, axis=0),\n",
    "                        y=np.expand_dims(y_train_scaledC, axis=0))\n",
    "# We have several metrics so we want to show their names\n",
    "print()\n",
    "for res, metric in zip(result, model_partC.metrics_names):\n",
    "    print(\"{0}: {1:.5f}\".format(metric, res))"
   ]
  },
  {
   "cell_type": "markdown",
   "metadata": {
    "id": "_FUtgzo1bext"
   },
   "source": [
    "*Observe testing performance based on MAE and loss*"
   ]
  },
  {
   "cell_type": "code",
   "execution_count": 3987,
   "metadata": {
    "colab": {
     "base_uri": "https://localhost:8080/"
    },
    "executionInfo": {
     "elapsed": 8,
     "status": "ok",
     "timestamp": 1631359346314,
     "user": {
      "displayName": "Xuan Giang",
      "photoUrl": "https://lh3.googleusercontent.com/a-/AOh14Ggd54OGSnsTVH4f55B9i-PtSGR536j-IdXxTeMFoQ=s64",
      "userId": "06583316585577749974"
     },
     "user_tz": -600
    },
    "id": "cnSlDx2HFKyS",
    "outputId": "ad1daa06-0e96-42c7-e64e-0d0251a58cd4"
   },
   "outputs": [
    {
     "name": "stdout",
     "output_type": "stream",
     "text": [
      "1/1 [==============================] - 0s 127ms/step - loss: 0.3531 - mean_absolute_error: 0.4241\n",
      "\n",
      "loss: 0.35310\n",
      "mean_absolute_error: 0.42407\n"
     ]
    }
   ],
   "source": [
    "result = model_partC.evaluate(x=np.expand_dims(x_test_scaledC, axis=0),\n",
    "                        y=np.expand_dims(y_test_scaledC, axis=0))\n",
    "# We have several metrics so we want to show their names\n",
    "print()\n",
    "for res, metric in zip(result, model_partC.metrics_names):\n",
    "    print(\"{0}: {1:.5f}\".format(metric, res))"
   ]
  },
  {
   "cell_type": "markdown",
   "metadata": {
    "id": "tLBXWEhpYzhg"
   },
   "source": [
    "<a id = \"cell_report\"></a>\n",
    "## 5. Prediction"
   ]
  },
  {
   "cell_type": "markdown",
   "metadata": {
    "id": "ERYNK0JhoOqY"
   },
   "source": [
    "*Generate prediction: the predicted and true output time series of the targeted variable.*"
   ]
  },
  {
   "cell_type": "code",
   "execution_count": 3988,
   "metadata": {
    "executionInfo": {
     "elapsed": 4,
     "status": "ok",
     "timestamp": 1631359346314,
     "user": {
      "displayName": "Xuan Giang",
      "photoUrl": "https://lh3.googleusercontent.com/a-/AOh14Ggd54OGSnsTVH4f55B9i-PtSGR536j-IdXxTeMFoQ=s64",
      "userId": "06583316585577749974"
     },
     "user_tz": -600
    },
    "id": "NEw93RseYzhf",
    "scrolled": true
   },
   "outputs": [],
   "source": [
    "# Plot the predicted and true output-events.\n",
    "\n",
    "def plot_comparison(start_idx, length=100, trainC=True, xlim=None, ylim=None):\n",
    "    \"\"\"\n",
    "    :param start_idx: Start-index for the time-series.\n",
    "    :param length: Sequence-length to process and plot.\n",
    "    :param train: Boolean whether to use training- or test-set.\n",
    "    \"\"\"\n",
    "    \n",
    "    if trainC:\n",
    "        # Use training-data.\n",
    "        x = x_train_scaledC\n",
    "        y_true = y_trainC\n",
    "    else:\n",
    "        # Use test-data.\n",
    "        x = x_test_scaledC\n",
    "        y_true = y_testC\n",
    "    \n",
    "    # End-index for the sequences.\n",
    "    end_idx = start_idx + length\n",
    "    \n",
    "    # Select the sequences from the given start-index and\n",
    "    # of the given length.\n",
    "    x = x[start_idx:end_idx]\n",
    "    y_true = y_true[start_idx:end_idx]\n",
    "    \n",
    "    # Input-events for the model.\n",
    "    x = np.expand_dims(x, axis=0)\n",
    "\n",
    "    # Use the model to predict the output-events.\n",
    "    y_pred = model_partC.predict(x)\n",
    "    \n",
    "    # The output of the model is between 0 and 1.\n",
    "    # Do an inverse map to get it back to the scale\n",
    "    # of the original data-set.\n",
    "    y_pred_rescaled = y_scalerC.inverse_transform(y_pred[0])\n",
    "    \n",
    "    # For each output-event.\n",
    "    for event in range(len(target_code)):\n",
    "        # Get the output-event predicted by the model.\n",
    "        event_pred = y_pred_rescaled[:, event]\n",
    "        \n",
    "        # Get the true output-event from the data-set.\n",
    "        event_true = y_true[:, event]\n",
    "\n",
    "        # Make the plotting-canvas bigger.\n",
    "        plt.figure(figsize=(15,5))\n",
    "        \n",
    "        # Plot and compare the two events.\n",
    "        plt.plot(event_true, label='true price')\n",
    "        plt.plot(event_pred, label='pred price')\n",
    "        \n",
    "        # Plot grey box for warmup-period.\n",
    "        p = plt.axvspan(0, warmup_steps, facecolor='black', alpha=0.15)\n",
    "        \n",
    "        # Plot labels etc.\n",
    "        if (xlim): plt.xlim(xlim)\n",
    "        if (ylim): plt.ylim(ylim)\n",
    "        plt.ylabel(target_code[event])\n",
    "        plt.legend()\n",
    "        plt.show()"
   ]
  },
  {
   "cell_type": "code",
   "execution_count": 3989,
   "metadata": {
    "colab": {
     "base_uri": "https://localhost:8080/",
     "height": 320
    },
    "executionInfo": {
     "elapsed": 616,
     "status": "ok",
     "timestamp": 1631359346927,
     "user": {
      "displayName": "Xuan Giang",
      "photoUrl": "https://lh3.googleusercontent.com/a-/AOh14Ggd54OGSnsTVH4f55B9i-PtSGR536j-IdXxTeMFoQ=s64",
      "userId": "06583316585577749974"
     },
     "user_tz": -600
    },
    "id": "qJDqXE4vFS72",
    "outputId": "75ec989c-0488-44d5-81e6-3116a0702784"
   },
   "outputs": [
    {
     "data": {
      "image/png": "[encoded data removed]",
      "text/plain": [
       "<Figure size 1080x360 with 1 Axes>"
      ]
     },
     "metadata": {
      "needs_background": "light"
     },
     "output_type": "display_data"
    }
   ],
   "source": [
    "# Plot the traning data\n",
    "plot_comparison(start_idx=0, length=200, trainC=True, ylim=(0,150))"
   ]
  },
  {
   "cell_type": "code",
   "execution_count": 3990,
   "metadata": {
    "colab": {
     "base_uri": "https://localhost:8080/",
     "height": 324
    },
    "executionInfo": {
     "elapsed": 579,
     "status": "ok",
     "timestamp": 1631359347504,
     "user": {
      "displayName": "Xuan Giang",
      "photoUrl": "https://lh3.googleusercontent.com/a-/AOh14Ggd54OGSnsTVH4f55B9i-PtSGR536j-IdXxTeMFoQ=s64",
      "userId": "06583316585577749974"
     },
     "user_tz": -600
    },
    "id": "hgOyM6ALFjdl",
    "outputId": "7f7c4a65-3d32-4f20-b094-a0583d450306"
   },
   "outputs": [
    {
     "data": {
      "image/png": "[encoded data removed]",
      "text/plain": [
       "<Figure size 1080x360 with 1 Axes>"
      ]
     },
     "metadata": {
      "needs_background": "light"
     },
     "output_type": "display_data"
    }
   ],
   "source": [
    "# Plot the testing data\n",
    "plot_comparison(start_idx=0, length=200, trainC=False, ylim=(0,250))"
   ]
  },
  {
   "cell_type": "markdown",
   "metadata": {
    "id": "6_g1m6jYSM8m"
   },
   "source": [
    "\n",
    "**It can be seen that the model predict very well in both dataset. To be more specific, the pattern of predicted values is very stable and it does not have a gap in two types of value.**"
   ]
  },
  {
   "cell_type": "markdown",
   "metadata": {
    "id": "nJ8k9Ekbnvft"
   },
   "source": [
    "*Summary of experimental results in the table below.*\n",
    "\n",
    "| Dataset# |  Loss | MAE | \n",
    "| :-: | -: | -: |\n",
    "| Training | 0.07524  | 0.02897| \n",
    "| Testing | 0.35310  |0.42407| \n"
   ]
  },
  {
   "cell_type": "markdown",
   "metadata": {
    "id": "aATs66RkpTK0"
   },
   "source": [
    "**Overall, the model used eight stocks from 2010 to 2019 to predict the price of one stock in next days. The model shows the good performance when the MAE and Loss are low. Also, the graphs proved it as well. Hence, The model can be used in reality to predict the stocks.**"
   ]
  }
 ],
 "metadata": {
  "accelerator": "GPU",
  "colab": {
   "collapsed_sections": [
    "QoBihZe6_Acd"
   ],
   "name": "THIXUANGIANG_NGUYEN_MIS780A2PartC.ipynb",
   "provenance": [],
   "toc_visible": true
  },
  "kernelspec": {
   "display_name": "Python 3 (ipykernel)",
   "language": "python",
   "name": "python3"
  },
  "language_info": {
   "codemirror_mode": {
    "name": "ipython",
    "version": 3
   },
   "file_extension": ".py",
   "mimetype": "text/x-python",
   "name": "python",
   "nbconvert_exporter": "python",
   "pygments_lexer": "ipython3",
   "version": "3.11.5"
  }
 },
 "nbformat": 4,
 "nbformat_minor": 1
}
